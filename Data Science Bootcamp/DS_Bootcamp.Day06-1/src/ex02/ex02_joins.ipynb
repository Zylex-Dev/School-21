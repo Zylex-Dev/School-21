{
 "cells": [
  {
   "cell_type": "markdown",
   "metadata": {},
   "source": [
    "## Exercise 02 : Join"
   ]
  },
  {
   "cell_type": "markdown",
   "metadata": {},
   "source": [
    "Import libraries"
   ]
  },
  {
   "cell_type": "code",
   "execution_count": 1,
   "metadata": {},
   "outputs": [],
   "source": [
    "import pandas as pd\n",
    "import sqlite3\n",
    "\n",
    "database = \"../data/checking-logs.sqlite\""
   ]
  },
  {
   "cell_type": "markdown",
   "metadata": {},
   "source": [
    "* create a connection to the database using the library sqlite3"
   ]
  },
  {
   "cell_type": "code",
   "execution_count": 2,
   "metadata": {},
   "outputs": [],
   "source": [
    "connection_obj = sqlite3.connect(database)\n",
    "cursor_obj = connection_obj.cursor()"
   ]
  },
  {
   "cell_type": "markdown",
   "metadata": {},
   "source": [
    "* create a new table datamart in the database by joining the tables pageviews and\n",
    "checker using only one query\n",
    "  * the table should have the following columns: uid, labname, first_commit_ts,\n",
    "  first_view_ts\n",
    "  * first_commit_ts is just a new name of the column timestamp from the checker\n",
    "  table, it shows the first commit from a particular lab and from a particular\n",
    "  user\n",
    "  * first_view_ts is the first visit of a user to the table pageviews, timestamp\n",
    "  when a user visited the newsfeed\n",
    "  * status = 'ready' should still be a filter\n",
    "  * numTrials = 1 should still be a filter\n",
    "  * labnames should still be from the list: 'laba04', 'laba04s', 'laba05', 'laba06',\n",
    "  'laba06s', 'project1'\n",
    "  * the table should contain only the users (uids with user_*) and not the admins\n",
    "  * first_commit_ts and first_view_ts should be parsed as datetime64[ns]"
   ]
  },
  {
   "cell_type": "code",
   "execution_count": 3,
   "metadata": {},
   "outputs": [
    {
     "name": "stdout",
     "output_type": "stream",
     "text": [
      "<class 'pandas.core.frame.DataFrame'>\n",
      "RangeIndex: 140 entries, 0 to 139\n",
      "Data columns (total 4 columns):\n",
      " #   Column           Non-Null Count  Dtype         \n",
      "---  ------           --------------  -----         \n",
      " 0   uid              140 non-null    object        \n",
      " 1   labname          140 non-null    object        \n",
      " 2   first_commit_ts  140 non-null    datetime64[ns]\n",
      " 3   first_view_ts    59 non-null     datetime64[ns]\n",
      "dtypes: datetime64[ns](2), object(2)\n",
      "memory usage: 4.5+ KB\n"
     ]
    }
   ],
   "source": [
    "labnames_list = [\"laba04\", \"laba04s\", \"laba05\", \"laba06\", \"laba06s\", \"project1\"]\n",
    "placeholders = \", \".join(\"?\" * len(labnames_list))\n",
    "\n",
    "cursor_obj.execute(\"DROP TABLE IF EXISTS datamart\")\n",
    "\n",
    "query = f\"\"\"\n",
    "    CREATE TABLE datamart AS \n",
    "    SELECT \n",
    "        c.uid AS uid,\n",
    "        c.labname AS labname,\n",
    "        MIN(c.timestamp) AS first_commit_ts,\n",
    "        MIN(p.datetime) AS first_view_ts -- Ensures first visit timestamp\n",
    "    FROM checker c\n",
    "    LEFT JOIN pageviews p ON c.uid = p.uid\n",
    "    WHERE \n",
    "        c.status = 'ready' AND\n",
    "        c.numTrials = 1 AND\n",
    "        c.labname IN ({placeholders}) AND\n",
    "        c.uid LIKE 'user_%'\n",
    "    GROUP BY c.uid, c.labname\n",
    "\"\"\"\n",
    "\n",
    "cursor_obj.execute(query, tuple(labnames_list))\n",
    "connection_obj.commit()\n",
    "\n",
    "datamart_df = pd.read_sql(sql=\"SELECT * FROM datamart\", con=connection_obj)\n",
    "\n",
    "datamart_df[\"first_commit_ts\"] = pd.to_datetime(datamart_df[\"first_commit_ts\"])\n",
    "datamart_df[\"first_view_ts\"] = pd.to_datetime(datamart_df[\"first_view_ts\"])\n",
    "\n",
    "datamart_df.info()"
   ]
  },
  {
   "cell_type": "code",
   "execution_count": 4,
   "metadata": {},
   "outputs": [
    {
     "data": {
      "text/html": [
       "<div>\n",
       "<style scoped>\n",
       "    .dataframe tbody tr th:only-of-type {\n",
       "        vertical-align: middle;\n",
       "    }\n",
       "\n",
       "    .dataframe tbody tr th {\n",
       "        vertical-align: top;\n",
       "    }\n",
       "\n",
       "    .dataframe thead th {\n",
       "        text-align: right;\n",
       "    }\n",
       "</style>\n",
       "<table border=\"1\" class=\"dataframe\">\n",
       "  <thead>\n",
       "    <tr style=\"text-align: right;\">\n",
       "      <th></th>\n",
       "      <th>uid</th>\n",
       "      <th>labname</th>\n",
       "      <th>first_commit_ts</th>\n",
       "      <th>first_view_ts</th>\n",
       "    </tr>\n",
       "  </thead>\n",
       "  <tbody>\n",
       "    <tr>\n",
       "      <th>0</th>\n",
       "      <td>user_1</td>\n",
       "      <td>laba04</td>\n",
       "      <td>2020-04-26 17:06:18.462708</td>\n",
       "      <td>2020-04-26 21:53:59.624136</td>\n",
       "    </tr>\n",
       "    <tr>\n",
       "      <th>1</th>\n",
       "      <td>user_1</td>\n",
       "      <td>laba04s</td>\n",
       "      <td>2020-04-26 17:12:11.843671</td>\n",
       "      <td>2020-04-26 21:53:59.624136</td>\n",
       "    </tr>\n",
       "    <tr>\n",
       "      <th>2</th>\n",
       "      <td>user_1</td>\n",
       "      <td>laba05</td>\n",
       "      <td>2020-05-02 19:15:18.540185</td>\n",
       "      <td>2020-04-26 21:53:59.624136</td>\n",
       "    </tr>\n",
       "    <tr>\n",
       "      <th>3</th>\n",
       "      <td>user_1</td>\n",
       "      <td>laba06</td>\n",
       "      <td>2020-05-17 16:26:35.268534</td>\n",
       "      <td>2020-04-26 21:53:59.624136</td>\n",
       "    </tr>\n",
       "    <tr>\n",
       "      <th>4</th>\n",
       "      <td>user_1</td>\n",
       "      <td>laba06s</td>\n",
       "      <td>2020-05-20 12:23:37.289724</td>\n",
       "      <td>2020-04-26 21:53:59.624136</td>\n",
       "    </tr>\n",
       "    <tr>\n",
       "      <th>...</th>\n",
       "      <td>...</td>\n",
       "      <td>...</td>\n",
       "      <td>...</td>\n",
       "      <td>...</td>\n",
       "    </tr>\n",
       "    <tr>\n",
       "      <th>135</th>\n",
       "      <td>user_8</td>\n",
       "      <td>laba04s</td>\n",
       "      <td>2020-04-19 10:22:35.761944</td>\n",
       "      <td>NaT</td>\n",
       "    </tr>\n",
       "    <tr>\n",
       "      <th>136</th>\n",
       "      <td>user_8</td>\n",
       "      <td>laba05</td>\n",
       "      <td>2020-05-02 13:28:07.705193</td>\n",
       "      <td>NaT</td>\n",
       "    </tr>\n",
       "    <tr>\n",
       "      <th>137</th>\n",
       "      <td>user_8</td>\n",
       "      <td>laba06</td>\n",
       "      <td>2020-05-16 17:56:15.755553</td>\n",
       "      <td>NaT</td>\n",
       "    </tr>\n",
       "    <tr>\n",
       "      <th>138</th>\n",
       "      <td>user_8</td>\n",
       "      <td>laba06s</td>\n",
       "      <td>2020-05-16 20:01:07.900727</td>\n",
       "      <td>NaT</td>\n",
       "    </tr>\n",
       "    <tr>\n",
       "      <th>139</th>\n",
       "      <td>user_8</td>\n",
       "      <td>project1</td>\n",
       "      <td>2020-05-14 15:42:04.002981</td>\n",
       "      <td>NaT</td>\n",
       "    </tr>\n",
       "  </tbody>\n",
       "</table>\n",
       "<p>140 rows × 4 columns</p>\n",
       "</div>"
      ],
      "text/plain": [
       "        uid   labname            first_commit_ts              first_view_ts\n",
       "0    user_1    laba04 2020-04-26 17:06:18.462708 2020-04-26 21:53:59.624136\n",
       "1    user_1   laba04s 2020-04-26 17:12:11.843671 2020-04-26 21:53:59.624136\n",
       "2    user_1    laba05 2020-05-02 19:15:18.540185 2020-04-26 21:53:59.624136\n",
       "3    user_1    laba06 2020-05-17 16:26:35.268534 2020-04-26 21:53:59.624136\n",
       "4    user_1   laba06s 2020-05-20 12:23:37.289724 2020-04-26 21:53:59.624136\n",
       "..      ...       ...                        ...                        ...\n",
       "135  user_8   laba04s 2020-04-19 10:22:35.761944                        NaT\n",
       "136  user_8    laba05 2020-05-02 13:28:07.705193                        NaT\n",
       "137  user_8    laba06 2020-05-16 17:56:15.755553                        NaT\n",
       "138  user_8   laba06s 2020-05-16 20:01:07.900727                        NaT\n",
       "139  user_8  project1 2020-05-14 15:42:04.002981                        NaT\n",
       "\n",
       "[140 rows x 4 columns]"
      ]
     },
     "execution_count": 4,
     "metadata": {},
     "output_type": "execute_result"
    }
   ],
   "source": [
    "datamart_df"
   ]
  },
  {
   "cell_type": "markdown",
   "metadata": {},
   "source": [
    "* using Pandas methods, create two dataframes: test and control\n",
    "  * test should have the users that have the values in first_view_ts"
   ]
  },
  {
   "cell_type": "code",
   "execution_count": 5,
   "metadata": {},
   "outputs": [
    {
     "data": {
      "text/html": [
       "<div>\n",
       "<style scoped>\n",
       "    .dataframe tbody tr th:only-of-type {\n",
       "        vertical-align: middle;\n",
       "    }\n",
       "\n",
       "    .dataframe tbody tr th {\n",
       "        vertical-align: top;\n",
       "    }\n",
       "\n",
       "    .dataframe thead th {\n",
       "        text-align: right;\n",
       "    }\n",
       "</style>\n",
       "<table border=\"1\" class=\"dataframe\">\n",
       "  <thead>\n",
       "    <tr style=\"text-align: right;\">\n",
       "      <th></th>\n",
       "      <th>uid</th>\n",
       "      <th>labname</th>\n",
       "      <th>first_commit_ts</th>\n",
       "      <th>first_view_ts</th>\n",
       "    </tr>\n",
       "  </thead>\n",
       "  <tbody>\n",
       "    <tr>\n",
       "      <th>0</th>\n",
       "      <td>user_1</td>\n",
       "      <td>laba04</td>\n",
       "      <td>2020-04-26 17:06:18.462708</td>\n",
       "      <td>2020-04-26 21:53:59.624136</td>\n",
       "    </tr>\n",
       "    <tr>\n",
       "      <th>1</th>\n",
       "      <td>user_1</td>\n",
       "      <td>laba04s</td>\n",
       "      <td>2020-04-26 17:12:11.843671</td>\n",
       "      <td>2020-04-26 21:53:59.624136</td>\n",
       "    </tr>\n",
       "    <tr>\n",
       "      <th>2</th>\n",
       "      <td>user_1</td>\n",
       "      <td>laba05</td>\n",
       "      <td>2020-05-02 19:15:18.540185</td>\n",
       "      <td>2020-04-26 21:53:59.624136</td>\n",
       "    </tr>\n",
       "    <tr>\n",
       "      <th>3</th>\n",
       "      <td>user_1</td>\n",
       "      <td>laba06</td>\n",
       "      <td>2020-05-17 16:26:35.268534</td>\n",
       "      <td>2020-04-26 21:53:59.624136</td>\n",
       "    </tr>\n",
       "    <tr>\n",
       "      <th>4</th>\n",
       "      <td>user_1</td>\n",
       "      <td>laba06s</td>\n",
       "      <td>2020-05-20 12:23:37.289724</td>\n",
       "      <td>2020-04-26 21:53:59.624136</td>\n",
       "    </tr>\n",
       "  </tbody>\n",
       "</table>\n",
       "</div>"
      ],
      "text/plain": [
       "      uid  labname            first_commit_ts              first_view_ts\n",
       "0  user_1   laba04 2020-04-26 17:06:18.462708 2020-04-26 21:53:59.624136\n",
       "1  user_1  laba04s 2020-04-26 17:12:11.843671 2020-04-26 21:53:59.624136\n",
       "2  user_1   laba05 2020-05-02 19:15:18.540185 2020-04-26 21:53:59.624136\n",
       "3  user_1   laba06 2020-05-17 16:26:35.268534 2020-04-26 21:53:59.624136\n",
       "4  user_1  laba06s 2020-05-20 12:23:37.289724 2020-04-26 21:53:59.624136"
      ]
     },
     "execution_count": 5,
     "metadata": {},
     "output_type": "execute_result"
    }
   ],
   "source": [
    "test_query = \"\"\"\n",
    "    SELECT *\n",
    "    FROM datamart\n",
    "    WHERE first_view_ts IS NOT NULL\n",
    "\"\"\"\n",
    "\n",
    "test_df = pd.read_sql(test_query, connection_obj)\n",
    "test_df[\"first_commit_ts\"] = pd.to_datetime(test_df[\"first_commit_ts\"])\n",
    "test_df[\"first_view_ts\"] = pd.to_datetime(test_df[\"first_view_ts\"])\n",
    "test_df.head()"
   ]
  },
  {
   "cell_type": "code",
   "execution_count": 6,
   "metadata": {},
   "outputs": [
    {
     "name": "stdout",
     "output_type": "stream",
     "text": [
      "<class 'pandas.core.frame.DataFrame'>\n",
      "RangeIndex: 59 entries, 0 to 58\n",
      "Data columns (total 4 columns):\n",
      " #   Column           Non-Null Count  Dtype         \n",
      "---  ------           --------------  -----         \n",
      " 0   uid              59 non-null     object        \n",
      " 1   labname          59 non-null     object        \n",
      " 2   first_commit_ts  59 non-null     datetime64[ns]\n",
      " 3   first_view_ts    59 non-null     datetime64[ns]\n",
      "dtypes: datetime64[ns](2), object(2)\n",
      "memory usage: 2.0+ KB\n"
     ]
    }
   ],
   "source": [
    "test_df.info()"
   ]
  },
  {
   "cell_type": "markdown",
   "metadata": {},
   "source": [
    "  * control should have the users that have missing values in first_view_ts"
   ]
  },
  {
   "cell_type": "code",
   "execution_count": 7,
   "metadata": {},
   "outputs": [
    {
     "data": {
      "text/html": [
       "<div>\n",
       "<style scoped>\n",
       "    .dataframe tbody tr th:only-of-type {\n",
       "        vertical-align: middle;\n",
       "    }\n",
       "\n",
       "    .dataframe tbody tr th {\n",
       "        vertical-align: top;\n",
       "    }\n",
       "\n",
       "    .dataframe thead th {\n",
       "        text-align: right;\n",
       "    }\n",
       "</style>\n",
       "<table border=\"1\" class=\"dataframe\">\n",
       "  <thead>\n",
       "    <tr style=\"text-align: right;\">\n",
       "      <th></th>\n",
       "      <th>uid</th>\n",
       "      <th>labname</th>\n",
       "      <th>first_commit_ts</th>\n",
       "      <th>first_view_ts</th>\n",
       "    </tr>\n",
       "  </thead>\n",
       "  <tbody>\n",
       "    <tr>\n",
       "      <th>0</th>\n",
       "      <td>user_11</td>\n",
       "      <td>laba05</td>\n",
       "      <td>2020-05-03 21:06:55.970293</td>\n",
       "      <td>NaT</td>\n",
       "    </tr>\n",
       "    <tr>\n",
       "      <th>1</th>\n",
       "      <td>user_11</td>\n",
       "      <td>project1</td>\n",
       "      <td>2020-05-03 23:45:33.673409</td>\n",
       "      <td>NaT</td>\n",
       "    </tr>\n",
       "    <tr>\n",
       "      <th>2</th>\n",
       "      <td>user_12</td>\n",
       "      <td>laba04</td>\n",
       "      <td>2020-04-18 17:07:51.767358</td>\n",
       "      <td>NaT</td>\n",
       "    </tr>\n",
       "    <tr>\n",
       "      <th>3</th>\n",
       "      <td>user_12</td>\n",
       "      <td>laba04s</td>\n",
       "      <td>2020-04-26 15:42:38.070593</td>\n",
       "      <td>NaT</td>\n",
       "    </tr>\n",
       "    <tr>\n",
       "      <th>4</th>\n",
       "      <td>user_12</td>\n",
       "      <td>laba05</td>\n",
       "      <td>2020-05-03 08:39:25.174316</td>\n",
       "      <td>NaT</td>\n",
       "    </tr>\n",
       "  </tbody>\n",
       "</table>\n",
       "</div>"
      ],
      "text/plain": [
       "       uid   labname            first_commit_ts first_view_ts\n",
       "0  user_11    laba05 2020-05-03 21:06:55.970293           NaT\n",
       "1  user_11  project1 2020-05-03 23:45:33.673409           NaT\n",
       "2  user_12    laba04 2020-04-18 17:07:51.767358           NaT\n",
       "3  user_12   laba04s 2020-04-26 15:42:38.070593           NaT\n",
       "4  user_12    laba05 2020-05-03 08:39:25.174316           NaT"
      ]
     },
     "execution_count": 7,
     "metadata": {},
     "output_type": "execute_result"
    }
   ],
   "source": [
    "control_query = \"\"\"\n",
    "    SELECT * \n",
    "    FROM datamart \n",
    "    WHERE first_view_ts IS NULL\n",
    "\"\"\"\n",
    "\n",
    "control_df = pd.read_sql(control_query, connection_obj)\n",
    "control_df[\"first_commit_ts\"] = pd.to_datetime(control_df[\"first_commit_ts\"])\n",
    "control_df[\"first_view_ts\"] = pd.to_datetime(control_df[\"first_view_ts\"])\n",
    "control_df.head()"
   ]
  },
  {
   "cell_type": "markdown",
   "metadata": {},
   "source": [
    "  * replace the missing values in the control with the average first_view_ts of the\n",
    "  test users, we will use this value for the future analysis"
   ]
  },
  {
   "cell_type": "code",
   "execution_count": 8,
   "metadata": {},
   "outputs": [
    {
     "name": "stdout",
     "output_type": "stream",
     "text": [
      "<class 'pandas.core.frame.DataFrame'>\n",
      "RangeIndex: 81 entries, 0 to 80\n",
      "Data columns (total 4 columns):\n",
      " #   Column           Non-Null Count  Dtype         \n",
      "---  ------           --------------  -----         \n",
      " 0   uid              81 non-null     object        \n",
      " 1   labname          81 non-null     object        \n",
      " 2   first_commit_ts  81 non-null     datetime64[ns]\n",
      " 3   first_view_ts    0 non-null      datetime64[ns]\n",
      "dtypes: datetime64[ns](2), object(2)\n",
      "memory usage: 2.7+ KB\n"
     ]
    }
   ],
   "source": [
    "control_df.info()"
   ]
  },
  {
   "cell_type": "code",
   "execution_count": 9,
   "metadata": {},
   "outputs": [
    {
     "data": {
      "text/html": [
       "<div>\n",
       "<style scoped>\n",
       "    .dataframe tbody tr th:only-of-type {\n",
       "        vertical-align: middle;\n",
       "    }\n",
       "\n",
       "    .dataframe tbody tr th {\n",
       "        vertical-align: top;\n",
       "    }\n",
       "\n",
       "    .dataframe thead th {\n",
       "        text-align: right;\n",
       "    }\n",
       "</style>\n",
       "<table border=\"1\" class=\"dataframe\">\n",
       "  <thead>\n",
       "    <tr style=\"text-align: right;\">\n",
       "      <th></th>\n",
       "      <th>uid</th>\n",
       "      <th>labname</th>\n",
       "      <th>first_commit_ts</th>\n",
       "      <th>first_view_ts</th>\n",
       "    </tr>\n",
       "  </thead>\n",
       "  <tbody>\n",
       "    <tr>\n",
       "      <th>0</th>\n",
       "      <td>user_11</td>\n",
       "      <td>laba05</td>\n",
       "      <td>2020-05-03 21:06:55.970293</td>\n",
       "      <td>2020-04-27 00:40:05.761783552</td>\n",
       "    </tr>\n",
       "    <tr>\n",
       "      <th>1</th>\n",
       "      <td>user_11</td>\n",
       "      <td>project1</td>\n",
       "      <td>2020-05-03 23:45:33.673409</td>\n",
       "      <td>2020-04-27 00:40:05.761783552</td>\n",
       "    </tr>\n",
       "    <tr>\n",
       "      <th>2</th>\n",
       "      <td>user_12</td>\n",
       "      <td>laba04</td>\n",
       "      <td>2020-04-18 17:07:51.767358</td>\n",
       "      <td>2020-04-27 00:40:05.761783552</td>\n",
       "    </tr>\n",
       "    <tr>\n",
       "      <th>3</th>\n",
       "      <td>user_12</td>\n",
       "      <td>laba04s</td>\n",
       "      <td>2020-04-26 15:42:38.070593</td>\n",
       "      <td>2020-04-27 00:40:05.761783552</td>\n",
       "    </tr>\n",
       "    <tr>\n",
       "      <th>4</th>\n",
       "      <td>user_12</td>\n",
       "      <td>laba05</td>\n",
       "      <td>2020-05-03 08:39:25.174316</td>\n",
       "      <td>2020-04-27 00:40:05.761783552</td>\n",
       "    </tr>\n",
       "  </tbody>\n",
       "</table>\n",
       "</div>"
      ],
      "text/plain": [
       "       uid   labname            first_commit_ts                 first_view_ts\n",
       "0  user_11    laba05 2020-05-03 21:06:55.970293 2020-04-27 00:40:05.761783552\n",
       "1  user_11  project1 2020-05-03 23:45:33.673409 2020-04-27 00:40:05.761783552\n",
       "2  user_12    laba04 2020-04-18 17:07:51.767358 2020-04-27 00:40:05.761783552\n",
       "3  user_12   laba04s 2020-04-26 15:42:38.070593 2020-04-27 00:40:05.761783552\n",
       "4  user_12    laba05 2020-05-03 08:39:25.174316 2020-04-27 00:40:05.761783552"
      ]
     },
     "execution_count": 9,
     "metadata": {},
     "output_type": "execute_result"
    }
   ],
   "source": [
    "avg_first_view_ts = test_df[\"first_view_ts\"].mean()\n",
    "control_df.fillna(value=avg_first_view_ts, inplace=True)\n",
    "control_df.head()"
   ]
  },
  {
   "cell_type": "markdown",
   "metadata": {},
   "source": [
    "  * save both tables into the database, you will use them in the next exercises"
   ]
  },
  {
   "cell_type": "code",
   "execution_count": 10,
   "metadata": {},
   "outputs": [
    {
     "data": {
      "text/plain": [
       "81"
      ]
     },
     "execution_count": 10,
     "metadata": {},
     "output_type": "execute_result"
    }
   ],
   "source": [
    "test_df.to_sql(name=\"test\", con=connection_obj, if_exists=\"replace\")\n",
    "control_df.to_sql(name=\"control\", con=connection_obj, if_exists=\"replace\")"
   ]
  },
  {
   "cell_type": "markdown",
   "metadata": {},
   "source": [
    "* close the connection"
   ]
  },
  {
   "cell_type": "code",
   "execution_count": 11,
   "metadata": {},
   "outputs": [],
   "source": [
    "connection_obj.close()"
   ]
  }
 ],
 "metadata": {
  "kernelspec": {
   "display_name": ".env",
   "language": "python",
   "name": "python3"
  },
  "language_info": {
   "codemirror_mode": {
    "name": "ipython",
    "version": 3
   },
   "file_extension": ".py",
   "mimetype": "text/x-python",
   "name": "python",
   "nbconvert_exporter": "python",
   "pygments_lexer": "ipython3",
   "version": "3.12.3"
  }
 },
 "nbformat": 4,
 "nbformat_minor": 4
}
