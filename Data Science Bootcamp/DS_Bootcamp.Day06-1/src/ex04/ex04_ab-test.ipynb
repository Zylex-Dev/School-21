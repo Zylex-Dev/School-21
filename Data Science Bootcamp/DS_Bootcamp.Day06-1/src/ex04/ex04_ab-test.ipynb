{
 "cells": [
  {
   "cell_type": "markdown",
   "metadata": {},
   "source": [
    "## Exercise 04 : A/B-testing"
   ]
  },
  {
   "cell_type": "markdown",
   "metadata": {},
   "source": [
    "Import libraries"
   ]
  },
  {
   "cell_type": "code",
   "execution_count": 1,
   "metadata": {},
   "outputs": [],
   "source": [
    "import pandas as pd\n",
    "import sqlite3\n",
    "\n",
    "database_file = \"../data/checking-logs.sqlite\""
   ]
  },
  {
   "cell_type": "markdown",
   "metadata": {},
   "source": [
    "* create a connection to the database using the library sqlite3"
   ]
  },
  {
   "cell_type": "code",
   "execution_count": 2,
   "metadata": {},
   "outputs": [],
   "source": [
    "connection_obj = sqlite3.connect(database_file)\n",
    "cursor_obj = connection_obj.cursor()"
   ]
  },
  {
   "cell_type": "markdown",
   "metadata": {},
   "source": [
    "  * using only one query for each of the groups, create two dataframes: test_results\n",
    "  and control_results with the columns time and avg_diff and only two rows\n",
    "    * time should have the values: after and before\n",
    "    * avg_diff contains the average delta among all the users for the time period\n",
    "    before each of them made their first visit to the page and afterward\n",
    "    * only take into account the users that have observations before and after\n",
    "  * we still are not using the lab ’project1’"
   ]
  },
  {
   "cell_type": "code",
   "execution_count": 3,
   "metadata": {},
   "outputs": [
    {
     "name": "stdout",
     "output_type": "stream",
     "text": [
      "test_results dataframe:\n"
     ]
    },
    {
     "data": {
      "text/html": [
       "<div>\n",
       "<style scoped>\n",
       "    .dataframe tbody tr th:only-of-type {\n",
       "        vertical-align: middle;\n",
       "    }\n",
       "\n",
       "    .dataframe tbody tr th {\n",
       "        vertical-align: top;\n",
       "    }\n",
       "\n",
       "    .dataframe thead th {\n",
       "        text-align: right;\n",
       "    }\n",
       "</style>\n",
       "<table border=\"1\" class=\"dataframe\">\n",
       "  <thead>\n",
       "    <tr style=\"text-align: right;\">\n",
       "      <th></th>\n",
       "      <th>time</th>\n",
       "      <th>avg_diff</th>\n",
       "    </tr>\n",
       "  </thead>\n",
       "  <tbody>\n",
       "    <tr>\n",
       "      <th>0</th>\n",
       "      <td>after</td>\n",
       "      <td>-104.6000</td>\n",
       "    </tr>\n",
       "    <tr>\n",
       "      <th>1</th>\n",
       "      <td>before</td>\n",
       "      <td>-60.5625</td>\n",
       "    </tr>\n",
       "  </tbody>\n",
       "</table>\n",
       "</div>"
      ],
      "text/plain": [
       "     time  avg_diff\n",
       "0   after -104.6000\n",
       "1  before  -60.5625"
      ]
     },
     "metadata": {},
     "output_type": "display_data"
    },
    {
     "name": "stdout",
     "output_type": "stream",
     "text": [
      "control_results dataframe:\n"
     ]
    },
    {
     "data": {
      "text/html": [
       "<div>\n",
       "<style scoped>\n",
       "    .dataframe tbody tr th:only-of-type {\n",
       "        vertical-align: middle;\n",
       "    }\n",
       "\n",
       "    .dataframe tbody tr th {\n",
       "        vertical-align: top;\n",
       "    }\n",
       "\n",
       "    .dataframe thead th {\n",
       "        text-align: right;\n",
       "    }\n",
       "</style>\n",
       "<table border=\"1\" class=\"dataframe\">\n",
       "  <thead>\n",
       "    <tr style=\"text-align: right;\">\n",
       "      <th></th>\n",
       "      <th>time</th>\n",
       "      <th>avg_diff</th>\n",
       "    </tr>\n",
       "  </thead>\n",
       "  <tbody>\n",
       "    <tr>\n",
       "      <th>0</th>\n",
       "      <td>after</td>\n",
       "      <td>-117.636364</td>\n",
       "    </tr>\n",
       "    <tr>\n",
       "      <th>1</th>\n",
       "      <td>before</td>\n",
       "      <td>-99.464286</td>\n",
       "    </tr>\n",
       "  </tbody>\n",
       "</table>\n",
       "</div>"
      ],
      "text/plain": [
       "     time    avg_diff\n",
       "0   after -117.636364\n",
       "1  before  -99.464286"
      ]
     },
     "metadata": {},
     "output_type": "display_data"
    }
   ],
   "source": [
    "def get_results_df(table_name: str, con: object) -> pd.DataFrame:\n",
    "    query = f\"\"\"\n",
    "        WITH user_diffs AS (\n",
    "            SELECT \n",
    "                uid,\n",
    "                first_commit_ts,\n",
    "                first_view_ts,\n",
    "                d.deadlines,\n",
    "                (strftime('%s', first_commit_ts) - d.deadlines) / 3600 AS diff, -- convert first_commit to unix sec, then convert delta to hours\n",
    "                CASE \n",
    "                    WHEN first_commit_ts < first_view_ts THEN 'before'\n",
    "                    ELSE 'after'\n",
    "                END AS time\n",
    "            FROM {table_name}\n",
    "            JOIN deadlines d \n",
    "                ON labname = d.labs\n",
    "            WHERE labname <> 'project1'\n",
    "        ),\n",
    "        valid_users AS (\n",
    "            SELECT uid FROM user_diffs \n",
    "            GROUP BY uid \n",
    "            HAVING COUNT(DISTINCT time) = 2 -- account users only with \"before\" and \"after\"\n",
    "        )\n",
    "        SELECT \n",
    "            time, \n",
    "            AVG(diff) AS avg_diff\n",
    "        FROM user_diffs\n",
    "        WHERE uid in (SELECT uid FROM valid_users)\n",
    "        GROUP BY time;\n",
    "    \"\"\"\n",
    "\n",
    "    return pd.read_sql(query, con)\n",
    "\n",
    "\n",
    "test_results = get_results_df(table_name=\"test\", con=connection_obj)\n",
    "control_results = get_results_df(table_name=\"control\", con=connection_obj)\n",
    "\n",
    "\n",
    "print(\"test_results dataframe:\")\n",
    "display(test_results)\n",
    "print(\"control_results dataframe:\")\n",
    "display(control_results)"
   ]
  },
  {
   "cell_type": "markdown",
   "metadata": {},
   "source": [
    "* close the connection"
   ]
  },
  {
   "cell_type": "code",
   "execution_count": 4,
   "metadata": {},
   "outputs": [],
   "source": [
    "connection_obj.close()"
   ]
  },
  {
   "cell_type": "markdown",
   "metadata": {},
   "source": [
    "### Вывод \n",
    "\n",
    "Гипотеза верна, так как в тестовой группе после посещения Newsfeed среднее время (дельта между комитом и дедлайном) уменьшилось с -60 до -104. Это говорит о том, что после просмотра Newsfeed студенты в среднем начали работать над лабораторнами раньше.\n",
    "\n",
    "В контрольной группе, где посещений не было (в значении первого захода на Newsfeed стоит avg дата), так же наблюдается уменьшее дельты, однако оно значительно меньше, по сравнению с тестовой группой. Это говорит о естественной тенденции студентов начинать работу немного раньше, но эффект в тестовой группе значительно сильнее.\n",
    "\n",
    "Таким образом, можно сделать вывод, что Newsfeed действительно оказал влияние на поведение студентов, побудив их начинать работу над лабораторными раньше. Это подтверждает гипотезу, и внедрение страницы Newsfeed для всей группы кажется оправданным."
   ]
  }
 ],
 "metadata": {
  "kernelspec": {
   "display_name": ".env",
   "language": "python",
   "name": "python3"
  },
  "language_info": {
   "codemirror_mode": {
    "name": "ipython",
    "version": 3
   },
   "file_extension": ".py",
   "mimetype": "text/x-python",
   "name": "python",
   "nbconvert_exporter": "python",
   "pygments_lexer": "ipython3",
   "version": "3.12.3"
  }
 },
 "nbformat": 4,
 "nbformat_minor": 4
}
