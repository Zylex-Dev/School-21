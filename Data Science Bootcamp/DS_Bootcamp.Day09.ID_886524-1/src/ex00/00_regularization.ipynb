{
 "cells": [
  {
   "cell_type": "markdown",
   "metadata": {},
   "source": [
    "# Day 09. Exercise 00\n",
    "# Regularization"
   ]
  },
  {
   "cell_type": "markdown",
   "metadata": {},
   "source": [
    "## 0. Imports"
   ]
  },
  {
   "cell_type": "code",
   "execution_count": 37,
   "metadata": {},
   "outputs": [],
   "source": [
    "import pandas as pd\n",
    "import numpy as np\n",
    "\n",
    "from sklearn.model_selection import StratifiedKFold, train_test_split, cross_validate\n",
    "from sklearn.metrics import accuracy_score\n",
    "from sklearn.linear_model import LogisticRegression\n",
    "from sklearn.svm import SVC\n",
    "from sklearn.tree import DecisionTreeClassifier\n",
    "from sklearn.ensemble import RandomForestClassifier\n",
    "\n",
    "import joblib"
   ]
  },
  {
   "cell_type": "markdown",
   "metadata": {},
   "source": [
    "## 1. Preprocessing"
   ]
  },
  {
   "cell_type": "markdown",
   "metadata": {},
   "source": [
    "1. Read the file `dayofweek.csv` that you used in the previous day to a dataframe.\n",
    "2. Using `train_test_split` with parameters `test_size=0.2`, `random_state=21` get `X_train`, `y_train`, `X_test`, `y_test`. Use the additional parameter `stratify`."
   ]
  },
  {
   "cell_type": "code",
   "execution_count": 38,
   "metadata": {},
   "outputs": [],
   "source": [
    "TEST_SIZE = 0.2\n",
    "RANDOM_STATE = 21"
   ]
  },
  {
   "cell_type": "code",
   "execution_count": 39,
   "metadata": {},
   "outputs": [
    {
     "data": {
      "text/html": [
       "<div>\n",
       "<style scoped>\n",
       "    .dataframe tbody tr th:only-of-type {\n",
       "        vertical-align: middle;\n",
       "    }\n",
       "\n",
       "    .dataframe tbody tr th {\n",
       "        vertical-align: top;\n",
       "    }\n",
       "\n",
       "    .dataframe thead th {\n",
       "        text-align: right;\n",
       "    }\n",
       "</style>\n",
       "<table border=\"1\" class=\"dataframe\">\n",
       "  <thead>\n",
       "    <tr style=\"text-align: right;\">\n",
       "      <th></th>\n",
       "      <th>dayofweek</th>\n",
       "      <th>numTrials</th>\n",
       "      <th>hour</th>\n",
       "      <th>uid_user_0</th>\n",
       "      <th>uid_user_1</th>\n",
       "      <th>uid_user_10</th>\n",
       "      <th>uid_user_11</th>\n",
       "      <th>uid_user_12</th>\n",
       "      <th>uid_user_13</th>\n",
       "      <th>uid_user_14</th>\n",
       "      <th>...</th>\n",
       "      <th>labname_lab02</th>\n",
       "      <th>labname_lab03</th>\n",
       "      <th>labname_lab03s</th>\n",
       "      <th>labname_lab05s</th>\n",
       "      <th>labname_laba04</th>\n",
       "      <th>labname_laba04s</th>\n",
       "      <th>labname_laba05</th>\n",
       "      <th>labname_laba06</th>\n",
       "      <th>labname_laba06s</th>\n",
       "      <th>labname_project1</th>\n",
       "    </tr>\n",
       "  </thead>\n",
       "  <tbody>\n",
       "    <tr>\n",
       "      <th>0</th>\n",
       "      <td>4</td>\n",
       "      <td>-0.788667</td>\n",
       "      <td>-2.562352</td>\n",
       "      <td>0.0</td>\n",
       "      <td>0.0</td>\n",
       "      <td>0.0</td>\n",
       "      <td>0.0</td>\n",
       "      <td>0.0</td>\n",
       "      <td>0.0</td>\n",
       "      <td>0.0</td>\n",
       "      <td>...</td>\n",
       "      <td>0.0</td>\n",
       "      <td>0.0</td>\n",
       "      <td>0.0</td>\n",
       "      <td>0.0</td>\n",
       "      <td>0.0</td>\n",
       "      <td>0.0</td>\n",
       "      <td>0.0</td>\n",
       "      <td>0.0</td>\n",
       "      <td>0.0</td>\n",
       "      <td>1.0</td>\n",
       "    </tr>\n",
       "    <tr>\n",
       "      <th>1</th>\n",
       "      <td>4</td>\n",
       "      <td>-0.756764</td>\n",
       "      <td>-2.562352</td>\n",
       "      <td>0.0</td>\n",
       "      <td>0.0</td>\n",
       "      <td>0.0</td>\n",
       "      <td>0.0</td>\n",
       "      <td>0.0</td>\n",
       "      <td>0.0</td>\n",
       "      <td>0.0</td>\n",
       "      <td>...</td>\n",
       "      <td>0.0</td>\n",
       "      <td>0.0</td>\n",
       "      <td>0.0</td>\n",
       "      <td>0.0</td>\n",
       "      <td>0.0</td>\n",
       "      <td>0.0</td>\n",
       "      <td>0.0</td>\n",
       "      <td>0.0</td>\n",
       "      <td>0.0</td>\n",
       "      <td>1.0</td>\n",
       "    </tr>\n",
       "    <tr>\n",
       "      <th>2</th>\n",
       "      <td>4</td>\n",
       "      <td>-0.724861</td>\n",
       "      <td>-2.562352</td>\n",
       "      <td>0.0</td>\n",
       "      <td>0.0</td>\n",
       "      <td>0.0</td>\n",
       "      <td>0.0</td>\n",
       "      <td>0.0</td>\n",
       "      <td>0.0</td>\n",
       "      <td>0.0</td>\n",
       "      <td>...</td>\n",
       "      <td>0.0</td>\n",
       "      <td>0.0</td>\n",
       "      <td>0.0</td>\n",
       "      <td>0.0</td>\n",
       "      <td>0.0</td>\n",
       "      <td>0.0</td>\n",
       "      <td>0.0</td>\n",
       "      <td>0.0</td>\n",
       "      <td>0.0</td>\n",
       "      <td>1.0</td>\n",
       "    </tr>\n",
       "    <tr>\n",
       "      <th>3</th>\n",
       "      <td>4</td>\n",
       "      <td>-0.692958</td>\n",
       "      <td>-2.562352</td>\n",
       "      <td>0.0</td>\n",
       "      <td>0.0</td>\n",
       "      <td>0.0</td>\n",
       "      <td>0.0</td>\n",
       "      <td>0.0</td>\n",
       "      <td>0.0</td>\n",
       "      <td>0.0</td>\n",
       "      <td>...</td>\n",
       "      <td>0.0</td>\n",
       "      <td>0.0</td>\n",
       "      <td>0.0</td>\n",
       "      <td>0.0</td>\n",
       "      <td>0.0</td>\n",
       "      <td>0.0</td>\n",
       "      <td>0.0</td>\n",
       "      <td>0.0</td>\n",
       "      <td>0.0</td>\n",
       "      <td>1.0</td>\n",
       "    </tr>\n",
       "    <tr>\n",
       "      <th>4</th>\n",
       "      <td>4</td>\n",
       "      <td>-0.661055</td>\n",
       "      <td>-2.562352</td>\n",
       "      <td>0.0</td>\n",
       "      <td>0.0</td>\n",
       "      <td>0.0</td>\n",
       "      <td>0.0</td>\n",
       "      <td>0.0</td>\n",
       "      <td>0.0</td>\n",
       "      <td>0.0</td>\n",
       "      <td>...</td>\n",
       "      <td>0.0</td>\n",
       "      <td>0.0</td>\n",
       "      <td>0.0</td>\n",
       "      <td>0.0</td>\n",
       "      <td>0.0</td>\n",
       "      <td>0.0</td>\n",
       "      <td>0.0</td>\n",
       "      <td>0.0</td>\n",
       "      <td>0.0</td>\n",
       "      <td>1.0</td>\n",
       "    </tr>\n",
       "    <tr>\n",
       "      <th>...</th>\n",
       "      <td>...</td>\n",
       "      <td>...</td>\n",
       "      <td>...</td>\n",
       "      <td>...</td>\n",
       "      <td>...</td>\n",
       "      <td>...</td>\n",
       "      <td>...</td>\n",
       "      <td>...</td>\n",
       "      <td>...</td>\n",
       "      <td>...</td>\n",
       "      <td>...</td>\n",
       "      <td>...</td>\n",
       "      <td>...</td>\n",
       "      <td>...</td>\n",
       "      <td>...</td>\n",
       "      <td>...</td>\n",
       "      <td>...</td>\n",
       "      <td>...</td>\n",
       "      <td>...</td>\n",
       "      <td>...</td>\n",
       "      <td>...</td>\n",
       "    </tr>\n",
       "    <tr>\n",
       "      <th>1681</th>\n",
       "      <td>3</td>\n",
       "      <td>-0.533442</td>\n",
       "      <td>0.945382</td>\n",
       "      <td>0.0</td>\n",
       "      <td>0.0</td>\n",
       "      <td>0.0</td>\n",
       "      <td>0.0</td>\n",
       "      <td>0.0</td>\n",
       "      <td>0.0</td>\n",
       "      <td>0.0</td>\n",
       "      <td>...</td>\n",
       "      <td>0.0</td>\n",
       "      <td>0.0</td>\n",
       "      <td>0.0</td>\n",
       "      <td>0.0</td>\n",
       "      <td>0.0</td>\n",
       "      <td>0.0</td>\n",
       "      <td>0.0</td>\n",
       "      <td>0.0</td>\n",
       "      <td>1.0</td>\n",
       "      <td>0.0</td>\n",
       "    </tr>\n",
       "    <tr>\n",
       "      <th>1682</th>\n",
       "      <td>3</td>\n",
       "      <td>-0.629151</td>\n",
       "      <td>0.945382</td>\n",
       "      <td>0.0</td>\n",
       "      <td>1.0</td>\n",
       "      <td>0.0</td>\n",
       "      <td>0.0</td>\n",
       "      <td>0.0</td>\n",
       "      <td>0.0</td>\n",
       "      <td>0.0</td>\n",
       "      <td>...</td>\n",
       "      <td>0.0</td>\n",
       "      <td>0.0</td>\n",
       "      <td>0.0</td>\n",
       "      <td>0.0</td>\n",
       "      <td>0.0</td>\n",
       "      <td>0.0</td>\n",
       "      <td>0.0</td>\n",
       "      <td>0.0</td>\n",
       "      <td>1.0</td>\n",
       "      <td>0.0</td>\n",
       "    </tr>\n",
       "    <tr>\n",
       "      <th>1683</th>\n",
       "      <td>3</td>\n",
       "      <td>-0.597248</td>\n",
       "      <td>0.945382</td>\n",
       "      <td>0.0</td>\n",
       "      <td>1.0</td>\n",
       "      <td>0.0</td>\n",
       "      <td>0.0</td>\n",
       "      <td>0.0</td>\n",
       "      <td>0.0</td>\n",
       "      <td>0.0</td>\n",
       "      <td>...</td>\n",
       "      <td>0.0</td>\n",
       "      <td>0.0</td>\n",
       "      <td>0.0</td>\n",
       "      <td>0.0</td>\n",
       "      <td>0.0</td>\n",
       "      <td>0.0</td>\n",
       "      <td>0.0</td>\n",
       "      <td>0.0</td>\n",
       "      <td>1.0</td>\n",
       "      <td>0.0</td>\n",
       "    </tr>\n",
       "    <tr>\n",
       "      <th>1684</th>\n",
       "      <td>3</td>\n",
       "      <td>-0.565345</td>\n",
       "      <td>0.945382</td>\n",
       "      <td>0.0</td>\n",
       "      <td>1.0</td>\n",
       "      <td>0.0</td>\n",
       "      <td>0.0</td>\n",
       "      <td>0.0</td>\n",
       "      <td>0.0</td>\n",
       "      <td>0.0</td>\n",
       "      <td>...</td>\n",
       "      <td>0.0</td>\n",
       "      <td>0.0</td>\n",
       "      <td>0.0</td>\n",
       "      <td>0.0</td>\n",
       "      <td>0.0</td>\n",
       "      <td>0.0</td>\n",
       "      <td>0.0</td>\n",
       "      <td>0.0</td>\n",
       "      <td>1.0</td>\n",
       "      <td>0.0</td>\n",
       "    </tr>\n",
       "    <tr>\n",
       "      <th>1685</th>\n",
       "      <td>3</td>\n",
       "      <td>-0.533442</td>\n",
       "      <td>0.945382</td>\n",
       "      <td>0.0</td>\n",
       "      <td>1.0</td>\n",
       "      <td>0.0</td>\n",
       "      <td>0.0</td>\n",
       "      <td>0.0</td>\n",
       "      <td>0.0</td>\n",
       "      <td>0.0</td>\n",
       "      <td>...</td>\n",
       "      <td>0.0</td>\n",
       "      <td>0.0</td>\n",
       "      <td>0.0</td>\n",
       "      <td>0.0</td>\n",
       "      <td>0.0</td>\n",
       "      <td>0.0</td>\n",
       "      <td>0.0</td>\n",
       "      <td>0.0</td>\n",
       "      <td>1.0</td>\n",
       "      <td>0.0</td>\n",
       "    </tr>\n",
       "  </tbody>\n",
       "</table>\n",
       "<p>1686 rows × 44 columns</p>\n",
       "</div>"
      ],
      "text/plain": [
       "      dayofweek  numTrials      hour  uid_user_0  uid_user_1  uid_user_10  \\\n",
       "0             4  -0.788667 -2.562352         0.0         0.0          0.0   \n",
       "1             4  -0.756764 -2.562352         0.0         0.0          0.0   \n",
       "2             4  -0.724861 -2.562352         0.0         0.0          0.0   \n",
       "3             4  -0.692958 -2.562352         0.0         0.0          0.0   \n",
       "4             4  -0.661055 -2.562352         0.0         0.0          0.0   \n",
       "...         ...        ...       ...         ...         ...          ...   \n",
       "1681          3  -0.533442  0.945382         0.0         0.0          0.0   \n",
       "1682          3  -0.629151  0.945382         0.0         1.0          0.0   \n",
       "1683          3  -0.597248  0.945382         0.0         1.0          0.0   \n",
       "1684          3  -0.565345  0.945382         0.0         1.0          0.0   \n",
       "1685          3  -0.533442  0.945382         0.0         1.0          0.0   \n",
       "\n",
       "      uid_user_11  uid_user_12  uid_user_13  uid_user_14  ...  labname_lab02  \\\n",
       "0             0.0          0.0          0.0          0.0  ...            0.0   \n",
       "1             0.0          0.0          0.0          0.0  ...            0.0   \n",
       "2             0.0          0.0          0.0          0.0  ...            0.0   \n",
       "3             0.0          0.0          0.0          0.0  ...            0.0   \n",
       "4             0.0          0.0          0.0          0.0  ...            0.0   \n",
       "...           ...          ...          ...          ...  ...            ...   \n",
       "1681          0.0          0.0          0.0          0.0  ...            0.0   \n",
       "1682          0.0          0.0          0.0          0.0  ...            0.0   \n",
       "1683          0.0          0.0          0.0          0.0  ...            0.0   \n",
       "1684          0.0          0.0          0.0          0.0  ...            0.0   \n",
       "1685          0.0          0.0          0.0          0.0  ...            0.0   \n",
       "\n",
       "      labname_lab03  labname_lab03s  labname_lab05s  labname_laba04  \\\n",
       "0               0.0             0.0             0.0             0.0   \n",
       "1               0.0             0.0             0.0             0.0   \n",
       "2               0.0             0.0             0.0             0.0   \n",
       "3               0.0             0.0             0.0             0.0   \n",
       "4               0.0             0.0             0.0             0.0   \n",
       "...             ...             ...             ...             ...   \n",
       "1681            0.0             0.0             0.0             0.0   \n",
       "1682            0.0             0.0             0.0             0.0   \n",
       "1683            0.0             0.0             0.0             0.0   \n",
       "1684            0.0             0.0             0.0             0.0   \n",
       "1685            0.0             0.0             0.0             0.0   \n",
       "\n",
       "      labname_laba04s  labname_laba05  labname_laba06  labname_laba06s  \\\n",
       "0                 0.0             0.0             0.0              0.0   \n",
       "1                 0.0             0.0             0.0              0.0   \n",
       "2                 0.0             0.0             0.0              0.0   \n",
       "3                 0.0             0.0             0.0              0.0   \n",
       "4                 0.0             0.0             0.0              0.0   \n",
       "...               ...             ...             ...              ...   \n",
       "1681              0.0             0.0             0.0              1.0   \n",
       "1682              0.0             0.0             0.0              1.0   \n",
       "1683              0.0             0.0             0.0              1.0   \n",
       "1684              0.0             0.0             0.0              1.0   \n",
       "1685              0.0             0.0             0.0              1.0   \n",
       "\n",
       "      labname_project1  \n",
       "0                  1.0  \n",
       "1                  1.0  \n",
       "2                  1.0  \n",
       "3                  1.0  \n",
       "4                  1.0  \n",
       "...                ...  \n",
       "1681               0.0  \n",
       "1682               0.0  \n",
       "1683               0.0  \n",
       "1684               0.0  \n",
       "1685               0.0  \n",
       "\n",
       "[1686 rows x 44 columns]"
      ]
     },
     "execution_count": 39,
     "metadata": {},
     "output_type": "execute_result"
    }
   ],
   "source": [
    "df = pd.read_csv(\"../data/dayofweek.csv\")\n",
    "df"
   ]
  },
  {
   "cell_type": "code",
   "execution_count": 40,
   "metadata": {},
   "outputs": [],
   "source": [
    "X = df.drop(\"dayofweek\", axis=1)\n",
    "y = df[\"dayofweek\"]\n",
    "X_train, X_test, y_train, y_test = train_test_split(X, y, test_size=TEST_SIZE, random_state=RANDOM_STATE, stratify=y)"
   ]
  },
  {
   "cell_type": "markdown",
   "metadata": {},
   "source": [
    "## 2. Logreg regularization"
   ]
  },
  {
   "cell_type": "markdown",
   "metadata": {},
   "source": [
    "### a. Default regularization"
   ]
  },
  {
   "cell_type": "markdown",
   "metadata": {},
   "source": [
    "1. Train a baseline model with the only parameters `random_state=21`, `fit_intercept=False`.\n",
    "2. Use stratified K-fold cross-validation with `10` splits to evaluate the accuracy of the model\n",
    "\n",
    "\n",
    "The result of the code where you trained and evaluated the baseline model should be exactly like this (use `%%time` to get the info about how long it took to run the cell):\n",
    "\n",
    "```\n",
    "train -  0.62902   |   valid -  0.59259\n",
    "train -  0.64633   |   valid -  0.62963\n",
    "train -  0.63479   |   valid -  0.56296\n",
    "train -  0.65622   |   valid -  0.61481\n",
    "train -  0.63397   |   valid -  0.57778\n",
    "train -  0.64056   |   valid -  0.59259\n",
    "train -  0.64138   |   valid -  0.65926\n",
    "train -  0.65952   |   valid -  0.56296\n",
    "train -  0.64333   |   valid -  0.59701\n",
    "train -  0.63674   |   valid -  0.62687\n",
    "Average accuracy on crossval is 0.60165\n",
    "Std is 0.02943\n",
    "```"
   ]
  },
  {
   "cell_type": "code",
   "execution_count": 41,
   "metadata": {},
   "outputs": [],
   "source": [
    "logreg_model = LogisticRegression(random_state=RANDOM_STATE, fit_intercept=False)"
   ]
  },
  {
   "cell_type": "code",
   "execution_count": 42,
   "metadata": {},
   "outputs": [],
   "source": [
    "def cross_val_scores(\n",
    "  model, X, y, n_splits=10\n",
    "):\n",
    "\n",
    "  skf = StratifiedKFold(n_splits=n_splits)\n",
    "\n",
    "  scores = cross_validate(\n",
    "    model, \n",
    "    X,\n",
    "    y,\n",
    "    cv=skf,\n",
    "    scoring=\"accuracy\",\n",
    "    return_train_score=True,\n",
    "  )\n",
    "\n",
    "  train_scores = scores[\"train_score\"]\n",
    "  valid_scores = scores[\"test_score\"]\n",
    "\n",
    "  for tr, val in zip(train_scores, valid_scores):\n",
    "    print(f\"train  -  {tr:.5f}\\t|\\tvalid  -  {val:.5f}\")\n",
    "\n",
    "  avg_acc = np.mean(valid_scores)\n",
    "  std_acc = np.std(valid_scores)\n",
    "  print(f\"Average accuracy on crossval is {avg_acc:.5f}\", f\"Std is {std_acc:.5f}\", sep=\"\\n\")"
   ]
  },
  {
   "cell_type": "code",
   "execution_count": 43,
   "metadata": {},
   "outputs": [
    {
     "name": "stdout",
     "output_type": "stream",
     "text": [
      "train  -  0.62819\t|\tvalid  -  0.59259\n",
      "train  -  0.64716\t|\tvalid  -  0.62963\n",
      "train  -  0.63479\t|\tvalid  -  0.57037\n",
      "train  -  0.65540\t|\tvalid  -  0.61481\n",
      "train  -  0.63314\t|\tvalid  -  0.57778\n",
      "train  -  0.64056\t|\tvalid  -  0.59259\n",
      "train  -  0.64221\t|\tvalid  -  0.65926\n",
      "train  -  0.65952\t|\tvalid  -  0.56296\n",
      "train  -  0.64333\t|\tvalid  -  0.59701\n",
      "train  -  0.63591\t|\tvalid  -  0.62687\n",
      "Average accuracy on crossval is 0.60239\n",
      "Std is 0.02852\n",
      "CPU times: user 3.19 s, sys: 0 ns, total: 3.19 s\n",
      "Wall time: 430 ms\n"
     ]
    }
   ],
   "source": [
    "%%time \n",
    "\n",
    "cross_val_scores(logreg_model, X_train, y_train, n_splits=10)"
   ]
  },
  {
   "cell_type": "markdown",
   "metadata": {},
   "source": [
    "### b. Optimizing regularization parameters"
   ]
  },
  {
   "cell_type": "markdown",
   "metadata": {},
   "source": [
    "1. In the cells below try different values of penalty: `none`, `l1`, `l2` – you can change the values of solver too."
   ]
  },
  {
   "cell_type": "code",
   "execution_count": 44,
   "metadata": {},
   "outputs": [
    {
     "name": "stdout",
     "output_type": "stream",
     "text": [
      "train  -  0.66612\t|\tvalid  -  0.63704\n",
      "train  -  0.65870\t|\tvalid  -  0.65926\n",
      "train  -  0.66694\t|\tvalid  -  0.57778\n",
      "train  -  0.66529\t|\tvalid  -  0.62963\n",
      "train  -  0.66694\t|\tvalid  -  0.62222\n",
      "train  -  0.65870\t|\tvalid  -  0.57778\n",
      "train  -  0.64963\t|\tvalid  -  0.69630\n",
      "train  -  0.68425\t|\tvalid  -  0.61481\n",
      "train  -  0.66474\t|\tvalid  -  0.62687\n",
      "train  -  0.65733\t|\tvalid  -  0.60448\n",
      "Average accuracy on crossval is 0.62462\n",
      "Std is 0.03379\n",
      "CPU times: user 7.33 s, sys: 39.8 ms, total: 7.37 s\n",
      "Wall time: 929 ms\n"
     ]
    }
   ],
   "source": [
    "%%time\n",
    "\n",
    "logreg_model = LogisticRegression(random_state=RANDOM_STATE, fit_intercept=False, penalty=None, solver='lbfgs', max_iter=1000)\n",
    "cross_val_scores(logreg_model, X_train, y_train, n_splits=10)"
   ]
  },
  {
   "cell_type": "code",
   "execution_count": 45,
   "metadata": {},
   "outputs": [
    {
     "name": "stdout",
     "output_type": "stream",
     "text": [
      "train  -  0.63726\t|\tvalid  -  0.58519\n",
      "train  -  0.64221\t|\tvalid  -  0.61481\n",
      "train  -  0.62984\t|\tvalid  -  0.55556\n",
      "train  -  0.64386\t|\tvalid  -  0.60000\n",
      "train  -  0.63232\t|\tvalid  -  0.57778\n",
      "train  -  0.63644\t|\tvalid  -  0.57778\n",
      "train  -  0.63644\t|\tvalid  -  0.65926\n",
      "train  -  0.65622\t|\tvalid  -  0.57778\n",
      "train  -  0.64580\t|\tvalid  -  0.58955\n",
      "train  -  0.63839\t|\tvalid  -  0.62687\n",
      "Average accuracy on crossval is 0.59646\n",
      "Std is 0.02848\n",
      "CPU times: user 5.15 s, sys: 98 μs, total: 5.15 s\n",
      "Wall time: 4.36 s\n"
     ]
    }
   ],
   "source": [
    "%%time\n",
    "\n",
    "logreg_model = LogisticRegression(random_state=RANDOM_STATE, fit_intercept=False, penalty=\"l1\", solver='saga', max_iter=1000)\n",
    "cross_val_scores(logreg_model, X_train, y_train, n_splits=10)"
   ]
  },
  {
   "cell_type": "code",
   "execution_count": 46,
   "metadata": {},
   "outputs": [
    {
     "name": "stdout",
     "output_type": "stream",
     "text": [
      "train  -  0.62819\t|\tvalid  -  0.59259\n",
      "train  -  0.64716\t|\tvalid  -  0.62963\n",
      "train  -  0.63479\t|\tvalid  -  0.57037\n",
      "train  -  0.65540\t|\tvalid  -  0.61481\n",
      "train  -  0.63314\t|\tvalid  -  0.57778\n",
      "train  -  0.64056\t|\tvalid  -  0.59259\n",
      "train  -  0.64221\t|\tvalid  -  0.65926\n",
      "train  -  0.65952\t|\tvalid  -  0.56296\n",
      "train  -  0.64333\t|\tvalid  -  0.59701\n",
      "train  -  0.63591\t|\tvalid  -  0.62687\n",
      "Average accuracy on crossval is 0.60239\n",
      "Std is 0.02852\n",
      "CPU times: user 3.04 s, sys: 0 ns, total: 3.04 s\n",
      "Wall time: 426 ms\n"
     ]
    }
   ],
   "source": [
    "%%time\n",
    "\n",
    "logreg_model = LogisticRegression(random_state=RANDOM_STATE, fit_intercept=False, penalty=\"l2\", solver='lbfgs', max_iter=1000)\n",
    "cross_val_scores(logreg_model, X_train, y_train, n_splits=10)"
   ]
  },
  {
   "cell_type": "markdown",
   "metadata": {},
   "source": [
    "## 3. SVM regularization"
   ]
  },
  {
   "cell_type": "markdown",
   "metadata": {},
   "source": [
    "### a. Default regularization"
   ]
  },
  {
   "cell_type": "markdown",
   "metadata": {},
   "source": [
    "1. Train a baseline model with the only parameters `probability=True`, `kernel='linear'`, `random_state=21`.\n",
    "2. Use stratified K-fold cross-validation with `10` splits to evaluate the accuracy of the model.\n",
    "3. The format of the result of the code where you trained and evaluated the baseline model should be similar to what you have got for the logreg."
   ]
  },
  {
   "cell_type": "code",
   "execution_count": 47,
   "metadata": {},
   "outputs": [
    {
     "name": "stdout",
     "output_type": "stream",
     "text": [
      "train  -  0.70486\t|\tvalid  -  0.65926\n",
      "train  -  0.69662\t|\tvalid  -  0.75556\n",
      "train  -  0.69415\t|\tvalid  -  0.62222\n",
      "train  -  0.70239\t|\tvalid  -  0.65185\n",
      "train  -  0.69085\t|\tvalid  -  0.65185\n",
      "train  -  0.68920\t|\tvalid  -  0.64444\n",
      "train  -  0.69250\t|\tvalid  -  0.72593\n",
      "train  -  0.70074\t|\tvalid  -  0.62222\n",
      "train  -  0.69605\t|\tvalid  -  0.61940\n",
      "train  -  0.71087\t|\tvalid  -  0.63433\n",
      "Average accuracy on crossval is 0.65871\n",
      "Std is 0.04359\n",
      "CPU times: user 3.79 s, sys: 9.98 ms, total: 3.8 s\n",
      "Wall time: 3.13 s\n"
     ]
    }
   ],
   "source": [
    "%%time \n",
    "\n",
    "svc_model = SVC(probability=True, kernel='linear', random_state=RANDOM_STATE)\n",
    "cross_val_scores(svc_model, X_train, y_train, n_splits=10)"
   ]
  },
  {
   "cell_type": "markdown",
   "metadata": {},
   "source": [
    "### b. Optimizing regularization parameters"
   ]
  },
  {
   "cell_type": "markdown",
   "metadata": {},
   "source": [
    "1. In the cells below try different values of the parameter `C`."
   ]
  },
  {
   "cell_type": "code",
   "execution_count": 48,
   "metadata": {},
   "outputs": [
    {
     "name": "stdout",
     "output_type": "stream",
     "text": [
      "train  -  0.23495\t|\tvalid  -  0.22963\n",
      "train  -  0.23495\t|\tvalid  -  0.22963\n",
      "train  -  0.23495\t|\tvalid  -  0.22963\n",
      "train  -  0.23495\t|\tvalid  -  0.22963\n",
      "train  -  0.23413\t|\tvalid  -  0.23704\n",
      "train  -  0.23413\t|\tvalid  -  0.23704\n",
      "train  -  0.23413\t|\tvalid  -  0.23704\n",
      "train  -  0.23413\t|\tvalid  -  0.23704\n",
      "train  -  0.23394\t|\tvalid  -  0.23881\n",
      "train  -  0.23394\t|\tvalid  -  0.23881\n",
      "Average accuracy on crossval is 0.23443\n",
      "Std is 0.00397\n",
      "CPU times: user 3.79 s, sys: 0 ns, total: 3.79 s\n",
      "Wall time: 3.8 s\n"
     ]
    }
   ],
   "source": [
    "%%time \n",
    "\n",
    "C =[0.001, 0.01, 0.1, 1, 10, 100]\n",
    "\n",
    "svc_model = SVC(probability=True, kernel='linear', random_state=RANDOM_STATE, C=C[0])\n",
    "cross_val_scores(svc_model, X_train, y_train, n_splits=10)"
   ]
  },
  {
   "cell_type": "code",
   "execution_count": 49,
   "metadata": {},
   "outputs": [
    {
     "name": "stdout",
     "output_type": "stream",
     "text": [
      "train  -  0.37923\t|\tvalid  -  0.40000\n",
      "train  -  0.37923\t|\tvalid  -  0.40000\n",
      "train  -  0.38417\t|\tvalid  -  0.35556\n",
      "train  -  0.35449\t|\tvalid  -  0.36296\n",
      "train  -  0.38252\t|\tvalid  -  0.37037\n",
      "train  -  0.38087\t|\tvalid  -  0.38519\n",
      "train  -  0.37923\t|\tvalid  -  0.40000\n",
      "train  -  0.38252\t|\tvalid  -  0.37037\n",
      "train  -  0.38468\t|\tvalid  -  0.35075\n",
      "train  -  0.38386\t|\tvalid  -  0.35821\n",
      "Average accuracy on crossval is 0.37534\n",
      "Std is 0.01848\n",
      "CPU times: user 3.81 s, sys: 0 ns, total: 3.81 s\n",
      "Wall time: 3.81 s\n"
     ]
    }
   ],
   "source": [
    "%%time \n",
    "\n",
    "svc_model = SVC(probability=True, kernel='linear', random_state=RANDOM_STATE, C=C[1])\n",
    "cross_val_scores(svc_model, X_train, y_train, n_splits=10)"
   ]
  },
  {
   "cell_type": "code",
   "execution_count": 50,
   "metadata": {},
   "outputs": [
    {
     "name": "stdout",
     "output_type": "stream",
     "text": [
      "train  -  0.58120\t|\tvalid  -  0.55556\n",
      "train  -  0.57543\t|\tvalid  -  0.56296\n",
      "train  -  0.57378\t|\tvalid  -  0.57037\n",
      "train  -  0.59275\t|\tvalid  -  0.57037\n",
      "train  -  0.58120\t|\tvalid  -  0.54815\n",
      "train  -  0.57955\t|\tvalid  -  0.54815\n",
      "train  -  0.57296\t|\tvalid  -  0.61481\n",
      "train  -  0.59192\t|\tvalid  -  0.54815\n",
      "train  -  0.59967\t|\tvalid  -  0.52985\n",
      "train  -  0.57825\t|\tvalid  -  0.57463\n",
      "Average accuracy on crossval is 0.56230\n",
      "Std is 0.02177\n",
      "CPU times: user 3.23 s, sys: 2.98 ms, total: 3.24 s\n",
      "Wall time: 3.24 s\n"
     ]
    }
   ],
   "source": [
    "%%time \n",
    "\n",
    "svc_model = SVC(probability=True, kernel='linear', random_state=RANDOM_STATE, C=C[2])\n",
    "cross_val_scores(svc_model, X_train, y_train, n_splits=10)"
   ]
  },
  {
   "cell_type": "code",
   "execution_count": 51,
   "metadata": {},
   "outputs": [
    {
     "name": "stdout",
     "output_type": "stream",
     "text": [
      "train  -  0.70486\t|\tvalid  -  0.65926\n",
      "train  -  0.69662\t|\tvalid  -  0.75556\n",
      "train  -  0.69415\t|\tvalid  -  0.62222\n",
      "train  -  0.70239\t|\tvalid  -  0.65185\n",
      "train  -  0.69085\t|\tvalid  -  0.65185\n",
      "train  -  0.68920\t|\tvalid  -  0.64444\n",
      "train  -  0.69250\t|\tvalid  -  0.72593\n",
      "train  -  0.70074\t|\tvalid  -  0.62222\n",
      "train  -  0.69605\t|\tvalid  -  0.61940\n",
      "train  -  0.71087\t|\tvalid  -  0.63433\n",
      "Average accuracy on crossval is 0.65871\n",
      "Std is 0.04359\n",
      "CPU times: user 3.09 s, sys: 21 μs, total: 3.09 s\n",
      "Wall time: 3.09 s\n"
     ]
    }
   ],
   "source": [
    "%%time \n",
    "\n",
    "svc_model = SVC(probability=True, kernel='linear', random_state=RANDOM_STATE, C=C[3])\n",
    "cross_val_scores(svc_model, X_train, y_train, n_splits=10)"
   ]
  },
  {
   "cell_type": "code",
   "execution_count": 52,
   "metadata": {},
   "outputs": [
    {
     "name": "stdout",
     "output_type": "stream",
     "text": [
      "train  -  0.75021\t|\tvalid  -  0.72593\n",
      "train  -  0.77741\t|\tvalid  -  0.82963\n",
      "train  -  0.78566\t|\tvalid  -  0.68148\n",
      "train  -  0.76834\t|\tvalid  -  0.73333\n",
      "train  -  0.75185\t|\tvalid  -  0.77778\n",
      "train  -  0.75598\t|\tvalid  -  0.68889\n",
      "train  -  0.76257\t|\tvalid  -  0.74074\n",
      "train  -  0.77411\t|\tvalid  -  0.68889\n",
      "train  -  0.78254\t|\tvalid  -  0.71642\n",
      "train  -  0.78418\t|\tvalid  -  0.69403\n",
      "Average accuracy on crossval is 0.72771\n",
      "Std is 0.04417\n",
      "CPU times: user 4.53 s, sys: 0 ns, total: 4.53 s\n",
      "Wall time: 4.53 s\n"
     ]
    }
   ],
   "source": [
    "%%time \n",
    "\n",
    "svc_model = SVC(probability=True, kernel='linear', random_state=RANDOM_STATE, C=C[4])\n",
    "cross_val_scores(svc_model, X_train, y_train, n_splits=10)"
   ]
  },
  {
   "cell_type": "code",
   "execution_count": 53,
   "metadata": {},
   "outputs": [
    {
     "name": "stdout",
     "output_type": "stream",
     "text": [
      "train  -  0.78401\t|\tvalid  -  0.74815\n",
      "train  -  0.79720\t|\tvalid  -  0.84444\n",
      "train  -  0.80956\t|\tvalid  -  0.72593\n",
      "train  -  0.79060\t|\tvalid  -  0.76296\n",
      "train  -  0.79060\t|\tvalid  -  0.77778\n",
      "train  -  0.79637\t|\tvalid  -  0.74815\n",
      "train  -  0.78401\t|\tvalid  -  0.77037\n",
      "train  -  0.80462\t|\tvalid  -  0.73333\n",
      "train  -  0.79819\t|\tvalid  -  0.70896\n",
      "train  -  0.79901\t|\tvalid  -  0.73881\n",
      "Average accuracy on crossval is 0.75589\n",
      "Std is 0.03550\n",
      "CPU times: user 15.4 s, sys: 0 ns, total: 15.4 s\n",
      "Wall time: 15.4 s\n"
     ]
    }
   ],
   "source": [
    "%%time \n",
    "  \n",
    "svc_model = SVC(probability=True, kernel='linear', random_state=RANDOM_STATE, C=C[5])\n",
    "cross_val_scores(svc_model, X_train, y_train, n_splits=10)"
   ]
  },
  {
   "cell_type": "markdown",
   "metadata": {},
   "source": [
    "## 4. Tree"
   ]
  },
  {
   "cell_type": "markdown",
   "metadata": {},
   "source": [
    "### a. Default regularization"
   ]
  },
  {
   "cell_type": "markdown",
   "metadata": {},
   "source": [
    "1. Train a baseline model with the only parameter `max_depth=10` and `random_state=21`.\n",
    "2. Use stratified K-fold cross-validation with `10` splits to evaluate the accuracy of the model.\n",
    "3. The format of the result of the code where you trained and evaluated the baseline model should be similar to what you have got for the logreg."
   ]
  },
  {
   "cell_type": "code",
   "execution_count": 54,
   "metadata": {},
   "outputs": [
    {
     "name": "stdout",
     "output_type": "stream",
     "text": [
      "train  -  0.81039\t|\tvalid  -  0.74074\n",
      "train  -  0.77741\t|\tvalid  -  0.74074\n",
      "train  -  0.83347\t|\tvalid  -  0.70370\n",
      "train  -  0.79720\t|\tvalid  -  0.76296\n",
      "train  -  0.82440\t|\tvalid  -  0.75556\n",
      "train  -  0.80379\t|\tvalid  -  0.68889\n",
      "train  -  0.80709\t|\tvalid  -  0.76296\n",
      "train  -  0.80132\t|\tvalid  -  0.65926\n",
      "train  -  0.80807\t|\tvalid  -  0.75373\n",
      "train  -  0.80478\t|\tvalid  -  0.68657\n",
      "Average accuracy on crossval is 0.72551\n",
      "Std is 0.03562\n",
      "CPU times: user 105 ms, sys: 0 ns, total: 105 ms\n",
      "Wall time: 104 ms\n"
     ]
    }
   ],
   "source": [
    "%%time \n",
    "\n",
    "dt = DecisionTreeClassifier(max_depth=10, random_state=RANDOM_STATE)\n",
    "cross_val_scores(dt, X_train, y_train, n_splits=10)"
   ]
  },
  {
   "cell_type": "markdown",
   "metadata": {},
   "source": [
    "### b. Optimizing regularization parameters"
   ]
  },
  {
   "cell_type": "markdown",
   "metadata": {},
   "source": [
    "1. In the cells below try different values of the parameter `max_depth`.\n",
    "2. As a bonus, play with other regularization parameters trying to find the best combination."
   ]
  },
  {
   "cell_type": "code",
   "execution_count": 55,
   "metadata": {},
   "outputs": [
    {
     "name": "stdout",
     "output_type": "stream",
     "text": [
      "train  -  0.43034\t|\tvalid  -  0.47407\n",
      "train  -  0.43281\t|\tvalid  -  0.45185\n",
      "train  -  0.44023\t|\tvalid  -  0.38519\n",
      "train  -  0.43034\t|\tvalid  -  0.47407\n",
      "train  -  0.43776\t|\tvalid  -  0.40741\n",
      "train  -  0.43364\t|\tvalid  -  0.44444\n",
      "train  -  0.43364\t|\tvalid  -  0.44444\n",
      "train  -  0.43776\t|\tvalid  -  0.40741\n",
      "train  -  0.41763\t|\tvalid  -  0.38806\n",
      "train  -  0.43657\t|\tvalid  -  0.41791\n",
      "Average accuracy on crossval is 0.42949\n",
      "Std is 0.03116\n",
      "CPU times: user 86.4 ms, sys: 0 ns, total: 86.4 ms\n",
      "Wall time: 85.3 ms\n"
     ]
    }
   ],
   "source": [
    "%%time\n",
    "\n",
    "max_depth_values = [2, 4, 6, 8, 12, 15, 20, None]\n",
    "dt = DecisionTreeClassifier(max_depth=max_depth_values[0], random_state=RANDOM_STATE)\n",
    "cross_val_scores(dt, X_train, y_train, n_splits=10)"
   ]
  },
  {
   "cell_type": "code",
   "execution_count": 56,
   "metadata": {},
   "outputs": [
    {
     "name": "stdout",
     "output_type": "stream",
     "text": [
      "train  -  0.53998\t|\tvalid  -  0.48148\n",
      "train  -  0.52679\t|\tvalid  -  0.52593\n",
      "train  -  0.54493\t|\tvalid  -  0.47407\n",
      "train  -  0.54163\t|\tvalid  -  0.52593\n",
      "train  -  0.54493\t|\tvalid  -  0.57037\n",
      "train  -  0.52679\t|\tvalid  -  0.51111\n",
      "train  -  0.52844\t|\tvalid  -  0.50370\n",
      "train  -  0.53669\t|\tvalid  -  0.48889\n",
      "train  -  0.53624\t|\tvalid  -  0.54478\n",
      "train  -  0.54613\t|\tvalid  -  0.46269\n",
      "Average accuracy on crossval is 0.50889\n",
      "Std is 0.03190\n",
      "CPU times: user 94.7 ms, sys: 0 ns, total: 94.7 ms\n",
      "Wall time: 94.1 ms\n"
     ]
    }
   ],
   "source": [
    "%%time\n",
    "\n",
    "dt = DecisionTreeClassifier(max_depth=max_depth_values[1], random_state=RANDOM_STATE)\n",
    "cross_val_scores(dt, X_train, y_train, n_splits=10)"
   ]
  },
  {
   "cell_type": "code",
   "execution_count": 57,
   "metadata": {},
   "outputs": [
    {
     "name": "stdout",
     "output_type": "stream",
     "text": [
      "train  -  0.64880\t|\tvalid  -  0.57778\n",
      "train  -  0.62077\t|\tvalid  -  0.60000\n",
      "train  -  0.64468\t|\tvalid  -  0.60000\n",
      "train  -  0.65293\t|\tvalid  -  0.62222\n",
      "train  -  0.66447\t|\tvalid  -  0.62963\n",
      "train  -  0.62572\t|\tvalid  -  0.54074\n",
      "train  -  0.65293\t|\tvalid  -  0.62963\n",
      "train  -  0.64551\t|\tvalid  -  0.56296\n",
      "train  -  0.64580\t|\tvalid  -  0.62687\n",
      "train  -  0.65239\t|\tvalid  -  0.56716\n",
      "Average accuracy on crossval is 0.59570\n",
      "Std is 0.03040\n",
      "CPU times: user 97.9 ms, sys: 0 ns, total: 97.9 ms\n",
      "Wall time: 97 ms\n"
     ]
    }
   ],
   "source": [
    "%%time\n",
    "\n",
    "dt = DecisionTreeClassifier(max_depth=max_depth_values[2], random_state=RANDOM_STATE)\n",
    "cross_val_scores(dt, X_train, y_train, n_splits=10)"
   ]
  },
  {
   "cell_type": "code",
   "execution_count": 58,
   "metadata": {},
   "outputs": [
    {
     "name": "stdout",
     "output_type": "stream",
     "text": [
      "train  -  0.74031\t|\tvalid  -  0.68148\n",
      "train  -  0.71146\t|\tvalid  -  0.68148\n",
      "train  -  0.73289\t|\tvalid  -  0.59259\n",
      "train  -  0.72135\t|\tvalid  -  0.67407\n",
      "train  -  0.74856\t|\tvalid  -  0.68148\n",
      "train  -  0.72795\t|\tvalid  -  0.60000\n",
      "train  -  0.73454\t|\tvalid  -  0.71852\n",
      "train  -  0.73372\t|\tvalid  -  0.65185\n",
      "train  -  0.73394\t|\tvalid  -  0.67910\n",
      "train  -  0.74053\t|\tvalid  -  0.64925\n",
      "Average accuracy on crossval is 0.66098\n",
      "Std is 0.03700\n",
      "CPU times: user 101 ms, sys: 0 ns, total: 101 ms\n",
      "Wall time: 101 ms\n"
     ]
    }
   ],
   "source": [
    "%%time\n",
    "\n",
    "dt = DecisionTreeClassifier(max_depth=max_depth_values[3], random_state=RANDOM_STATE)\n",
    "cross_val_scores(dt, X_train, y_train, n_splits=10)"
   ]
  },
  {
   "cell_type": "code",
   "execution_count": 59,
   "metadata": {},
   "outputs": [
    {
     "name": "stdout",
     "output_type": "stream",
     "text": [
      "train  -  0.90272\t|\tvalid  -  0.82963\n",
      "train  -  0.85985\t|\tvalid  -  0.83704\n",
      "train  -  0.90932\t|\tvalid  -  0.82222\n",
      "train  -  0.89035\t|\tvalid  -  0.85185\n",
      "train  -  0.90932\t|\tvalid  -  0.82963\n",
      "train  -  0.86232\t|\tvalid  -  0.71852\n",
      "train  -  0.86562\t|\tvalid  -  0.81481\n",
      "train  -  0.88706\t|\tvalid  -  0.75556\n",
      "train  -  0.86820\t|\tvalid  -  0.80597\n",
      "train  -  0.87150\t|\tvalid  -  0.77612\n",
      "Average accuracy on crossval is 0.80413\n",
      "Std is 0.03947\n",
      "CPU times: user 109 ms, sys: 0 ns, total: 109 ms\n",
      "Wall time: 108 ms\n"
     ]
    }
   ],
   "source": [
    "%%time\n",
    "\n",
    "dt = DecisionTreeClassifier(max_depth=max_depth_values[4], random_state=RANDOM_STATE)\n",
    "cross_val_scores(dt, X_train, y_train, n_splits=10)"
   ]
  },
  {
   "cell_type": "code",
   "execution_count": 60,
   "metadata": {},
   "outputs": [
    {
     "name": "stdout",
     "output_type": "stream",
     "text": [
      "train  -  0.95796\t|\tvalid  -  0.82222\n",
      "train  -  0.93075\t|\tvalid  -  0.83704\n",
      "train  -  0.95631\t|\tvalid  -  0.83704\n",
      "train  -  0.95301\t|\tvalid  -  0.86667\n",
      "train  -  0.95136\t|\tvalid  -  0.88889\n",
      "train  -  0.94724\t|\tvalid  -  0.82222\n",
      "train  -  0.95466\t|\tvalid  -  0.90370\n",
      "train  -  0.94971\t|\tvalid  -  0.87407\n",
      "train  -  0.95305\t|\tvalid  -  0.83582\n",
      "train  -  0.94316\t|\tvalid  -  0.85821\n",
      "Average accuracy on crossval is 0.85459\n",
      "Std is 0.02682\n",
      "CPU times: user 110 ms, sys: 0 ns, total: 110 ms\n",
      "Wall time: 109 ms\n"
     ]
    }
   ],
   "source": [
    "%%time\n",
    "\n",
    "dt = DecisionTreeClassifier(max_depth=max_depth_values[5], random_state=RANDOM_STATE)\n",
    "cross_val_scores(dt, X_train, y_train, n_splits=10)"
   ]
  },
  {
   "cell_type": "code",
   "execution_count": 61,
   "metadata": {},
   "outputs": [
    {
     "name": "stdout",
     "output_type": "stream",
     "text": [
      "train  -  0.98846\t|\tvalid  -  0.86667\n",
      "train  -  0.99011\t|\tvalid  -  0.91111\n",
      "train  -  0.98681\t|\tvalid  -  0.85926\n",
      "train  -  0.98763\t|\tvalid  -  0.91111\n",
      "train  -  0.98928\t|\tvalid  -  0.88148\n",
      "train  -  0.98186\t|\tvalid  -  0.85926\n",
      "train  -  0.98846\t|\tvalid  -  0.91852\n",
      "train  -  0.99176\t|\tvalid  -  0.89630\n",
      "train  -  0.99094\t|\tvalid  -  0.88060\n",
      "train  -  0.98847\t|\tvalid  -  0.88060\n",
      "Average accuracy on crossval is 0.88649\n",
      "Std is 0.02075\n",
      "CPU times: user 110 ms, sys: 0 ns, total: 110 ms\n",
      "Wall time: 110 ms\n"
     ]
    }
   ],
   "source": [
    "%%time\n",
    "\n",
    "dt = DecisionTreeClassifier(max_depth=max_depth_values[6], random_state=RANDOM_STATE)\n",
    "cross_val_scores(dt, X_train, y_train, n_splits=10)"
   ]
  },
  {
   "cell_type": "code",
   "execution_count": 62,
   "metadata": {},
   "outputs": [
    {
     "name": "stdout",
     "output_type": "stream",
     "text": [
      "train  -  1.00000\t|\tvalid  -  0.85926\n",
      "train  -  1.00000\t|\tvalid  -  0.91852\n",
      "train  -  1.00000\t|\tvalid  -  0.86667\n",
      "train  -  1.00000\t|\tvalid  -  0.91111\n",
      "train  -  1.00000\t|\tvalid  -  0.88148\n",
      "train  -  1.00000\t|\tvalid  -  0.85185\n",
      "train  -  1.00000\t|\tvalid  -  0.92593\n",
      "train  -  1.00000\t|\tvalid  -  0.88148\n",
      "train  -  1.00000\t|\tvalid  -  0.88060\n",
      "train  -  1.00000\t|\tvalid  -  0.88060\n",
      "Average accuracy on crossval is 0.88575\n",
      "Std is 0.02374\n",
      "CPU times: user 111 ms, sys: 7 μs, total: 111 ms\n",
      "Wall time: 109 ms\n"
     ]
    }
   ],
   "source": [
    "%%time\n",
    "\n",
    "dt = DecisionTreeClassifier(max_depth=max_depth_values[7], random_state=RANDOM_STATE)\n",
    "cross_val_scores(dt, X_train, y_train, n_splits=10)"
   ]
  },
  {
   "cell_type": "markdown",
   "metadata": {},
   "source": [
    "## 5. Random forest"
   ]
  },
  {
   "cell_type": "markdown",
   "metadata": {},
   "source": [
    "### a. Default regularization"
   ]
  },
  {
   "cell_type": "markdown",
   "metadata": {},
   "source": [
    "1. Train a baseline model with the only parameters `n_estimators=50`, `max_depth=14`, `random_state=21`.\n",
    "2. Use stratified K-fold cross-validation with `10` splits to evaluate the accuracy of the model.\n",
    "3. The format of the result of the code where you trained and evaluated the baseline model should be similar to what you have got for the logreg."
   ]
  },
  {
   "cell_type": "code",
   "execution_count": 63,
   "metadata": {},
   "outputs": [
    {
     "name": "stdout",
     "output_type": "stream",
     "text": [
      "train  -  0.96455\t|\tvalid  -  0.88148\n",
      "train  -  0.96208\t|\tvalid  -  0.91852\n",
      "train  -  0.96785\t|\tvalid  -  0.86667\n",
      "train  -  0.96455\t|\tvalid  -  0.89630\n",
      "train  -  0.96538\t|\tvalid  -  0.91111\n",
      "train  -  0.96538\t|\tvalid  -  0.88148\n",
      "train  -  0.97115\t|\tvalid  -  0.91852\n",
      "train  -  0.96867\t|\tvalid  -  0.85185\n",
      "train  -  0.97364\t|\tvalid  -  0.88060\n",
      "train  -  0.97941\t|\tvalid  -  0.86567\n",
      "Average accuracy on crossval is 0.88722\n",
      "Std is 0.02204\n",
      "CPU times: user 1.01 s, sys: 4.8 ms, total: 1.01 s\n",
      "Wall time: 1.01 s\n"
     ]
    }
   ],
   "source": [
    "%%time \n",
    "\n",
    "rfc = RandomForestClassifier(n_estimators=50, max_depth=14, random_state=RANDOM_STATE)\n",
    "cross_val_scores(rfc, X_train, y_train, n_splits=10)"
   ]
  },
  {
   "cell_type": "markdown",
   "metadata": {},
   "source": [
    "### b. Optimizing regularization parameters"
   ]
  },
  {
   "cell_type": "markdown",
   "metadata": {},
   "source": [
    "1. In the new cells try different values of the parameters `max_depth` and `n_estimators`.\n",
    "2. As a bonus, play with other regularization parameters trying to find the best combination."
   ]
  },
  {
   "cell_type": "code",
   "execution_count": 64,
   "metadata": {},
   "outputs": [
    {
     "name": "stdout",
     "output_type": "stream",
     "text": [
      "train  -  1.00000\t|\tvalid  -  0.89630\n",
      "train  -  1.00000\t|\tvalid  -  0.94815\n",
      "train  -  1.00000\t|\tvalid  -  0.90370\n",
      "train  -  1.00000\t|\tvalid  -  0.93333\n",
      "train  -  1.00000\t|\tvalid  -  0.91111\n",
      "train  -  1.00000\t|\tvalid  -  0.89630\n",
      "train  -  1.00000\t|\tvalid  -  0.91852\n",
      "train  -  1.00000\t|\tvalid  -  0.90370\n",
      "train  -  1.00000\t|\tvalid  -  0.93284\n",
      "train  -  0.99918\t|\tvalid  -  0.89552\n",
      "Average accuracy on crossval is 0.91395\n",
      "Std is 0.01762\n",
      "CPU times: user 1.09 s, sys: 4.19 ms, total: 1.09 s\n",
      "Wall time: 1.09 s\n"
     ]
    }
   ],
   "source": [
    "%%time \n",
    "\n",
    "n_estimators = [50, 100, 200]\n",
    "max_depth = [None, 5, 10, 15]\n",
    "\n",
    "rfc = RandomForestClassifier(n_estimators=n_estimators[0], max_depth=max_depth[0], random_state=RANDOM_STATE)\n",
    "cross_val_scores(rfc, X_train, y_train, n_splits=10)"
   ]
  },
  {
   "cell_type": "code",
   "execution_count": 65,
   "metadata": {},
   "outputs": [
    {
     "name": "stdout",
     "output_type": "stream",
     "text": [
      "train  -  0.61171\t|\tvalid  -  0.57037\n",
      "train  -  0.57708\t|\tvalid  -  0.57037\n",
      "train  -  0.58120\t|\tvalid  -  0.56296\n",
      "train  -  0.58450\t|\tvalid  -  0.58519\n",
      "train  -  0.60016\t|\tvalid  -  0.55556\n",
      "train  -  0.60346\t|\tvalid  -  0.57778\n",
      "train  -  0.60429\t|\tvalid  -  0.61481\n",
      "train  -  0.59522\t|\tvalid  -  0.55556\n",
      "train  -  0.62685\t|\tvalid  -  0.59701\n",
      "train  -  0.60544\t|\tvalid  -  0.57463\n",
      "Average accuracy on crossval is 0.57642\n",
      "Std is 0.01762\n",
      "CPU times: user 1.58 s, sys: 9.99 ms, total: 1.59 s\n",
      "Wall time: 1.58 s\n"
     ]
    }
   ],
   "source": [
    "%%time \n",
    "\n",
    "rfc = RandomForestClassifier(n_estimators=n_estimators[1], max_depth=max_depth[1], random_state=RANDOM_STATE)\n",
    "cross_val_scores(rfc, X_train, y_train, n_splits=10)"
   ]
  },
  {
   "cell_type": "code",
   "execution_count": 66,
   "metadata": {},
   "outputs": [
    {
     "name": "stdout",
     "output_type": "stream",
     "text": [
      "train  -  0.87387\t|\tvalid  -  0.77037\n",
      "train  -  0.89860\t|\tvalid  -  0.87407\n",
      "train  -  0.90767\t|\tvalid  -  0.81481\n",
      "train  -  0.90437\t|\tvalid  -  0.83704\n",
      "train  -  0.88706\t|\tvalid  -  0.85926\n",
      "train  -  0.88788\t|\tvalid  -  0.77778\n",
      "train  -  0.87799\t|\tvalid  -  0.82963\n",
      "train  -  0.88129\t|\tvalid  -  0.74074\n",
      "train  -  0.88468\t|\tvalid  -  0.81343\n",
      "train  -  0.88138\t|\tvalid  -  0.79104\n",
      "Average accuracy on crossval is 0.81082\n",
      "Std is 0.03930\n",
      "CPU times: user 3.36 s, sys: 0 ns, total: 3.36 s\n",
      "Wall time: 3.35 s\n"
     ]
    }
   ],
   "source": [
    "%%time \n",
    "\n",
    "rfc = RandomForestClassifier(n_estimators=n_estimators[2], max_depth=max_depth[2], random_state=RANDOM_STATE)\n",
    "cross_val_scores(rfc, X_train, y_train, n_splits=10)"
   ]
  },
  {
   "cell_type": "code",
   "execution_count": 67,
   "metadata": {},
   "outputs": [
    {
     "name": "stdout",
     "output_type": "stream",
     "text": [
      "train  -  0.98021\t|\tvalid  -  0.89630\n",
      "train  -  0.98763\t|\tvalid  -  0.92593\n",
      "train  -  0.98186\t|\tvalid  -  0.89630\n",
      "train  -  0.98434\t|\tvalid  -  0.88889\n",
      "train  -  0.98351\t|\tvalid  -  0.90370\n",
      "train  -  0.98351\t|\tvalid  -  0.88148\n",
      "train  -  0.98599\t|\tvalid  -  0.91852\n",
      "train  -  0.98599\t|\tvalid  -  0.88148\n",
      "train  -  0.98188\t|\tvalid  -  0.88060\n",
      "train  -  0.98353\t|\tvalid  -  0.87313\n",
      "Average accuracy on crossval is 0.89463\n",
      "Std is 0.01636\n",
      "CPU times: user 3.79 s, sys: 0 ns, total: 3.79 s\n",
      "Wall time: 3.78 s\n"
     ]
    }
   ],
   "source": [
    "%%time \n",
    "\n",
    "rfc = RandomForestClassifier(n_estimators=n_estimators[2], max_depth=max_depth[3], random_state=RANDOM_STATE)\n",
    "cross_val_scores(rfc, X_train, y_train, n_splits=10)"
   ]
  },
  {
   "cell_type": "markdown",
   "metadata": {},
   "source": [
    "## 6. Predictions"
   ]
  },
  {
   "cell_type": "markdown",
   "metadata": {},
   "source": [
    "1. Choose the best model and use it to make predictions for the test dataset.\n",
    "2. Calculate the final accuracy.\n",
    "3. Analyze: for which weekday your model makes the most errors (in % of the total number of samples of that class in your test dataset).\n",
    "4. Save the model."
   ]
  },
  {
   "cell_type": "code",
   "execution_count": 68,
   "metadata": {},
   "outputs": [
    {
     "name": "stdout",
     "output_type": "stream",
     "text": [
      "Accurace score on test set: 0.9289940828402367\n"
     ]
    }
   ],
   "source": [
    "rfc = RandomForestClassifier(n_estimators=50, max_depth=None, random_state=RANDOM_STATE)\n",
    "rfc.fit(X_train, y_train)\n",
    "y_pred = rfc.predict(X_test)\n",
    "\n",
    "print(f\"Accurace score on test set: {accuracy_score(y_test, y_pred)}\")"
   ]
  },
  {
   "cell_type": "code",
   "execution_count": 69,
   "metadata": {},
   "outputs": [
    {
     "name": "stdout",
     "output_type": "stream",
     "text": [
      "Weekday 0: 25.93% errors\n",
      "Weekday 1: 5.45% errors\n",
      "Weekday 2: 6.67% errors\n",
      "Weekday 3: 3.75% errors\n",
      "Weekday 4: 14.29% errors\n",
      "Weekday 5: 9.26% errors\n",
      "Weekday 6: 1.41% errors\n"
     ]
    }
   ],
   "source": [
    "errors_per_class = {}\n",
    "\n",
    "for label in np.unique(y_test):\n",
    "  mask = y_test == label\n",
    "  total = mask.sum()\n",
    "  errors = (y_pred[mask] != y_test[mask]).sum()\n",
    "  errors_per_class[label] = errors / total * 100\n",
    "\n",
    "\n",
    "for weekday, error_pct in errors_per_class.items():\n",
    "  print(f\"Weekday {weekday}: {error_pct:.2f}% errors\")"
   ]
  },
  {
   "cell_type": "code",
   "execution_count": 71,
   "metadata": {},
   "outputs": [
    {
     "data": {
      "text/plain": [
       "['../data/ex00_rfc_model.joblib']"
      ]
     },
     "execution_count": 71,
     "metadata": {},
     "output_type": "execute_result"
    }
   ],
   "source": [
    "joblib.dump(rfc, \"../data/ex00_rfc_model.joblib\")"
   ]
  }
 ],
 "metadata": {
  "kernelspec": {
   "display_name": ".env",
   "language": "python",
   "name": "python3"
  },
  "language_info": {
   "codemirror_mode": {
    "name": "ipython",
    "version": 3
   },
   "file_extension": ".py",
   "mimetype": "text/x-python",
   "name": "python",
   "nbconvert_exporter": "python",
   "pygments_lexer": "ipython3",
   "version": "3.10.12"
  }
 },
 "nbformat": 4,
 "nbformat_minor": 4
}
