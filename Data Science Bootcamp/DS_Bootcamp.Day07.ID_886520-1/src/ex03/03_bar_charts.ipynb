{
 "cells": [
  {
   "cell_type": "markdown",
   "metadata": {},
   "source": [
    "## Exercise 03 : Bar charts"
   ]
  },
  {
   "cell_type": "code",
   "execution_count": 1,
   "metadata": {},
   "outputs": [],
   "source": [
    "import pandas as pd\n",
    "import sqlite3\n",
    "\n",
    "database_file = \"../data/checking-logs.sqlite\""
   ]
  },
  {
   "cell_type": "markdown",
   "metadata": {},
   "source": [
    "* analyze only the users and not the admins\n",
    "* the fontsize and the figsize remain the same\n",
    "* for each hour, calculate the average number of commits on working days and on\n",
    "weekends (if there were no commits in an hour, do not use it to calculate the\n",
    "average) use these values for your graph, for example: Mon, 17-18: 5 commits, Tue,\n",
    "17-18: 6 commits, Wed, 17-18: 7 commits\n",
    "* choose a palette that you really enjoy, you do not have to replicate it from the graph\n",
    "above"
   ]
  },
  {
   "cell_type": "code",
   "execution_count": 2,
   "metadata": {},
   "outputs": [],
   "source": [
    "connection_obj = sqlite3.connect(database_file)"
   ]
  },
  {
   "cell_type": "code",
   "execution_count": 3,
   "metadata": {},
   "outputs": [
    {
     "data": {
      "text/html": [
       "<div>\n",
       "<style scoped>\n",
       "    .dataframe tbody tr th:only-of-type {\n",
       "        vertical-align: middle;\n",
       "    }\n",
       "\n",
       "    .dataframe tbody tr th {\n",
       "        vertical-align: top;\n",
       "    }\n",
       "\n",
       "    .dataframe thead th {\n",
       "        text-align: right;\n",
       "    }\n",
       "</style>\n",
       "<table border=\"1\" class=\"dataframe\">\n",
       "  <thead>\n",
       "    <tr style=\"text-align: right;\">\n",
       "      <th>day_of_week</th>\n",
       "      <th>weekend</th>\n",
       "      <th>working_day</th>\n",
       "    </tr>\n",
       "    <tr>\n",
       "      <th>hour</th>\n",
       "      <th></th>\n",
       "      <th></th>\n",
       "    </tr>\n",
       "  </thead>\n",
       "  <tbody>\n",
       "    <tr>\n",
       "      <th>0</th>\n",
       "      <td>2.000000</td>\n",
       "      <td>3.000000</td>\n",
       "    </tr>\n",
       "    <tr>\n",
       "      <th>1</th>\n",
       "      <td>6.000000</td>\n",
       "      <td>0.000000</td>\n",
       "    </tr>\n",
       "    <tr>\n",
       "      <th>2</th>\n",
       "      <td>0.000000</td>\n",
       "      <td>0.000000</td>\n",
       "    </tr>\n",
       "    <tr>\n",
       "      <th>3</th>\n",
       "      <td>1.000000</td>\n",
       "      <td>2.000000</td>\n",
       "    </tr>\n",
       "    <tr>\n",
       "      <th>4</th>\n",
       "      <td>0.000000</td>\n",
       "      <td>0.000000</td>\n",
       "    </tr>\n",
       "    <tr>\n",
       "      <th>5</th>\n",
       "      <td>2.000000</td>\n",
       "      <td>7.500000</td>\n",
       "    </tr>\n",
       "    <tr>\n",
       "      <th>6</th>\n",
       "      <td>0.000000</td>\n",
       "      <td>1.500000</td>\n",
       "    </tr>\n",
       "    <tr>\n",
       "      <th>7</th>\n",
       "      <td>4.000000</td>\n",
       "      <td>5.166667</td>\n",
       "    </tr>\n",
       "    <tr>\n",
       "      <th>8</th>\n",
       "      <td>7.000000</td>\n",
       "      <td>3.700000</td>\n",
       "    </tr>\n",
       "    <tr>\n",
       "      <th>9</th>\n",
       "      <td>3.666667</td>\n",
       "      <td>6.000000</td>\n",
       "    </tr>\n",
       "    <tr>\n",
       "      <th>10</th>\n",
       "      <td>7.000000</td>\n",
       "      <td>13.200000</td>\n",
       "    </tr>\n",
       "    <tr>\n",
       "      <th>11</th>\n",
       "      <td>23.600000</td>\n",
       "      <td>6.769231</td>\n",
       "    </tr>\n",
       "    <tr>\n",
       "      <th>12</th>\n",
       "      <td>9.500000</td>\n",
       "      <td>7.181818</td>\n",
       "    </tr>\n",
       "    <tr>\n",
       "      <th>13</th>\n",
       "      <td>18.000000</td>\n",
       "      <td>8.111111</td>\n",
       "    </tr>\n",
       "    <tr>\n",
       "      <th>14</th>\n",
       "      <td>12.428571</td>\n",
       "      <td>10.166667</td>\n",
       "    </tr>\n",
       "    <tr>\n",
       "      <th>15</th>\n",
       "      <td>14.250000</td>\n",
       "      <td>12.818182</td>\n",
       "    </tr>\n",
       "    <tr>\n",
       "      <th>16</th>\n",
       "      <td>14.800000</td>\n",
       "      <td>18.888889</td>\n",
       "    </tr>\n",
       "    <tr>\n",
       "      <th>17</th>\n",
       "      <td>7.142857</td>\n",
       "      <td>16.000000</td>\n",
       "    </tr>\n",
       "    <tr>\n",
       "      <th>18</th>\n",
       "      <td>9.714286</td>\n",
       "      <td>15.181818</td>\n",
       "    </tr>\n",
       "    <tr>\n",
       "      <th>19</th>\n",
       "      <td>13.125000</td>\n",
       "      <td>17.833333</td>\n",
       "    </tr>\n",
       "    <tr>\n",
       "      <th>20</th>\n",
       "      <td>13.000000</td>\n",
       "      <td>14.076923</td>\n",
       "    </tr>\n",
       "    <tr>\n",
       "      <th>21</th>\n",
       "      <td>10.285714</td>\n",
       "      <td>24.333333</td>\n",
       "    </tr>\n",
       "    <tr>\n",
       "      <th>22</th>\n",
       "      <td>9.833333</td>\n",
       "      <td>3.750000</td>\n",
       "    </tr>\n",
       "    <tr>\n",
       "      <th>23</th>\n",
       "      <td>6.400000</td>\n",
       "      <td>5.000000</td>\n",
       "    </tr>\n",
       "  </tbody>\n",
       "</table>\n",
       "</div>"
      ],
      "text/plain": [
       "day_of_week    weekend  working_day\n",
       "hour                               \n",
       "0             2.000000     3.000000\n",
       "1             6.000000     0.000000\n",
       "2             0.000000     0.000000\n",
       "3             1.000000     2.000000\n",
       "4             0.000000     0.000000\n",
       "5             2.000000     7.500000\n",
       "6             0.000000     1.500000\n",
       "7             4.000000     5.166667\n",
       "8             7.000000     3.700000\n",
       "9             3.666667     6.000000\n",
       "10            7.000000    13.200000\n",
       "11           23.600000     6.769231\n",
       "12            9.500000     7.181818\n",
       "13           18.000000     8.111111\n",
       "14           12.428571    10.166667\n",
       "15           14.250000    12.818182\n",
       "16           14.800000    18.888889\n",
       "17            7.142857    16.000000\n",
       "18            9.714286    15.181818\n",
       "19           13.125000    17.833333\n",
       "20           13.000000    14.076923\n",
       "21           10.285714    24.333333\n",
       "22            9.833333     3.750000\n",
       "23            6.400000     5.000000"
      ]
     },
     "execution_count": 3,
     "metadata": {},
     "output_type": "execute_result"
    }
   ],
   "source": [
    "query = \"\"\"\n",
    "    SELECT timestamp as date\n",
    "    FROM checker\n",
    "    WHERE uid LIKE 'user_%'\n",
    "\"\"\"\n",
    "\n",
    "\n",
    "df = pd.read_sql(query, connection_obj, parse_dates=['date'])\n",
    "\n",
    "df['day_of_week'] = df['date'].apply(lambda x: 'weekend' if x.day_of_week in [5,6] else 'working_day')\n",
    "df['hour'] = df['date'].dt.hour\n",
    "df['date_only'] = df['date'].dt.date\n",
    "\n",
    "daily_commits = df.groupby(['day_of_week', 'date_only', 'hour']).size().reset_index(name='commits')\n",
    "avg_commits = daily_commits.groupby(['day_of_week', 'hour'])['commits'].mean().unstack('day_of_week', fill_value=0)\n",
    "avg_commits = avg_commits.reindex(range(24), fill_value=0)\n",
    "avg_commits"
   ]
  },
  {
   "cell_type": "code",
   "execution_count": 4,
   "metadata": {},
   "outputs": [
    {
     "data": {
      "image/png": "[encoded data removed]",
      "text/plain": [
       "<Figure size 1500x800 with 2 Axes>"
      ]
     },
     "metadata": {},
     "output_type": "display_data"
    }
   ],
   "source": [
    "plot = avg_commits.plot(\n",
    "    subplots=True,\n",
    "    kind='bar',\n",
    "    title='Commits per hour',\n",
    "    layout=(2,1),\n",
    "    fontsize=8,\n",
    "    figsize=(15,8),\n",
    "    colormap='vanimo',\n",
    "    rot=90\n",
    ")"
   ]
  },
  {
   "cell_type": "code",
   "execution_count": 5,
   "metadata": {},
   "outputs": [],
   "source": [
    "connection_obj.close()"
   ]
  },
  {
   "cell_type": "markdown",
   "metadata": {},
   "source": [
    "* at the end of your Jupyter Notebook, create a markdown cell and insert the question\n",
    "  * “Is the dynamic different on working days and weekends?”, for the answer\n",
    "include the hour when the number of commits is the largest during working days and the hour when it is the largest during the weekend."
   ]
  },
  {
   "cell_type": "markdown",
   "metadata": {},
   "source": [
    "Есть различие по динамике среднего числа коммитов в выходные и рабочие дни, так, в выходные пик числа коммитов приходится на **11 часов дня**, а в рабочие дни число коммитов идет плавно по нарастающей к вечеру и пик приходится на **21 час вечера**.\n",
    "\n",
    "Однако максимальное среднее значение коммитов в выходные и рабочие дни почти сходятся - 23.6 в выходные и 24.3 в рабочие дни"
   ]
  }
 ],
 "metadata": {
  "kernelspec": {
   "display_name": "venv",
   "language": "python",
   "name": "python3"
  },
  "language_info": {
   "codemirror_mode": {
    "name": "ipython",
    "version": 3
   },
   "file_extension": ".py",
   "mimetype": "text/x-python",
   "name": "python",
   "nbconvert_exporter": "python",
   "pygments_lexer": "ipython3",
   "version": "3.10.12"
  }
 },
 "nbformat": 4,
 "nbformat_minor": 2
}
