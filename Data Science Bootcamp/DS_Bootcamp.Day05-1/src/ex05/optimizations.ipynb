{
 "cells": [
  {
   "cell_type": "markdown",
   "metadata": {},
   "source": [
    "## Exercise 05 : Pandas optimizations"
   ]
  },
  {
   "cell_type": "markdown",
   "metadata": {},
   "source": [
    "Import Libraries"
   ]
  },
  {
   "cell_type": "code",
   "execution_count": 14,
   "metadata": {},
   "outputs": [],
   "source": [
    "import pandas as pd\n",
    "import gc\n",
    "\n",
    "pd.options.display.float_format = \"{:.2f}\".format  # float precision setting"
   ]
  },
  {
   "cell_type": "markdown",
   "metadata": {},
   "source": [
    "* read the fines.csv that you saved in the previous exercise"
   ]
  },
  {
   "cell_type": "code",
   "execution_count": 15,
   "metadata": {},
   "outputs": [
    {
     "data": {
      "text/html": [
       "<div>\n",
       "<style scoped>\n",
       "    .dataframe tbody tr th:only-of-type {\n",
       "        vertical-align: middle;\n",
       "    }\n",
       "\n",
       "    .dataframe tbody tr th {\n",
       "        vertical-align: top;\n",
       "    }\n",
       "\n",
       "    .dataframe thead th {\n",
       "        text-align: right;\n",
       "    }\n",
       "</style>\n",
       "<table border=\"1\" class=\"dataframe\">\n",
       "  <thead>\n",
       "    <tr style=\"text-align: right;\">\n",
       "      <th></th>\n",
       "      <th>CarNumber</th>\n",
       "      <th>Refund</th>\n",
       "      <th>Fines</th>\n",
       "      <th>Make</th>\n",
       "      <th>Model</th>\n",
       "      <th>Year</th>\n",
       "    </tr>\n",
       "  </thead>\n",
       "  <tbody>\n",
       "    <tr>\n",
       "      <th>0</th>\n",
       "      <td>Y163O8161RUS</td>\n",
       "      <td>2</td>\n",
       "      <td>3200.00</td>\n",
       "      <td>Ford</td>\n",
       "      <td>Focus</td>\n",
       "      <td>2009</td>\n",
       "    </tr>\n",
       "    <tr>\n",
       "      <th>1</th>\n",
       "      <td>E432XX77RUS</td>\n",
       "      <td>1</td>\n",
       "      <td>6500.00</td>\n",
       "      <td>Toyota</td>\n",
       "      <td>Camry</td>\n",
       "      <td>2010</td>\n",
       "    </tr>\n",
       "    <tr>\n",
       "      <th>2</th>\n",
       "      <td>7184TT36RUS</td>\n",
       "      <td>1</td>\n",
       "      <td>2100.00</td>\n",
       "      <td>Ford</td>\n",
       "      <td>Focus</td>\n",
       "      <td>1990</td>\n",
       "    </tr>\n",
       "    <tr>\n",
       "      <th>3</th>\n",
       "      <td>X582HE161RUS</td>\n",
       "      <td>2</td>\n",
       "      <td>2000.00</td>\n",
       "      <td>Ford</td>\n",
       "      <td>Focus</td>\n",
       "      <td>2004</td>\n",
       "    </tr>\n",
       "    <tr>\n",
       "      <th>4</th>\n",
       "      <td>92918M178RUS</td>\n",
       "      <td>1</td>\n",
       "      <td>5700.00</td>\n",
       "      <td>Ford</td>\n",
       "      <td>Focus</td>\n",
       "      <td>1990</td>\n",
       "    </tr>\n",
       "    <tr>\n",
       "      <th>...</th>\n",
       "      <td>...</td>\n",
       "      <td>...</td>\n",
       "      <td>...</td>\n",
       "      <td>...</td>\n",
       "      <td>...</td>\n",
       "      <td>...</td>\n",
       "    </tr>\n",
       "    <tr>\n",
       "      <th>925</th>\n",
       "      <td>NEW001</td>\n",
       "      <td>1</td>\n",
       "      <td>4373.09</td>\n",
       "      <td>Ford</td>\n",
       "      <td>Fiesta</td>\n",
       "      <td>2012</td>\n",
       "    </tr>\n",
       "    <tr>\n",
       "      <th>926</th>\n",
       "      <td>NEW002</td>\n",
       "      <td>2</td>\n",
       "      <td>3034.48</td>\n",
       "      <td>Toyota</td>\n",
       "      <td>Corolla</td>\n",
       "      <td>2008</td>\n",
       "    </tr>\n",
       "    <tr>\n",
       "      <th>927</th>\n",
       "      <td>NEW003</td>\n",
       "      <td>3</td>\n",
       "      <td>4288.84</td>\n",
       "      <td>Honda</td>\n",
       "      <td>Civic</td>\n",
       "      <td>2012</td>\n",
       "    </tr>\n",
       "    <tr>\n",
       "      <th>928</th>\n",
       "      <td>NEW004</td>\n",
       "      <td>1</td>\n",
       "      <td>4738.31</td>\n",
       "      <td>Chevrolet</td>\n",
       "      <td>Impala</td>\n",
       "      <td>2004</td>\n",
       "    </tr>\n",
       "    <tr>\n",
       "      <th>929</th>\n",
       "      <td>NEW005</td>\n",
       "      <td>4</td>\n",
       "      <td>2635.47</td>\n",
       "      <td>Nissan</td>\n",
       "      <td>Altima</td>\n",
       "      <td>2025</td>\n",
       "    </tr>\n",
       "  </tbody>\n",
       "</table>\n",
       "<p>930 rows × 6 columns</p>\n",
       "</div>"
      ],
      "text/plain": [
       "        CarNumber  Refund   Fines       Make    Model  Year\n",
       "0    Y163O8161RUS       2 3200.00       Ford    Focus  2009\n",
       "1     E432XX77RUS       1 6500.00     Toyota    Camry  2010\n",
       "2     7184TT36RUS       1 2100.00       Ford    Focus  1990\n",
       "3    X582HE161RUS       2 2000.00       Ford    Focus  2004\n",
       "4    92918M178RUS       1 5700.00       Ford    Focus  1990\n",
       "..            ...     ...     ...        ...      ...   ...\n",
       "925        NEW001       1 4373.09       Ford   Fiesta  2012\n",
       "926        NEW002       2 3034.48     Toyota  Corolla  2008\n",
       "927        NEW003       3 4288.84      Honda    Civic  2012\n",
       "928        NEW004       1 4738.31  Chevrolet   Impala  2004\n",
       "929        NEW005       4 2635.47     Nissan   Altima  2025\n",
       "\n",
       "[930 rows x 6 columns]"
      ]
     },
     "metadata": {},
     "output_type": "display_data"
    }
   ],
   "source": [
    "fines_file_path = \"../data/fines.csv\"\n",
    "\n",
    "df = pd.read_csv(filepath_or_buffer=fines_file_path, sep=\",\")\n",
    "display(df)"
   ]
  },
  {
   "cell_type": "markdown",
   "metadata": {},
   "source": [
    "* iterations: in all the following subtasks, you need to calculate fines/refund*year for\n",
    "each row and create a new column with the calculated data and measure the time\n",
    "using the magic command %%timeit in the cell\n",
    "  * loop: write a function that iterates through the dataframe using for i in\n",
    "  range(0, len(df)), iloc and append() to a list, assign the result of the function to a new column in the dataframe"
   ]
  },
  {
   "cell_type": "code",
   "execution_count": 16,
   "metadata": {},
   "outputs": [
    {
     "name": "stdout",
     "output_type": "stream",
     "text": [
      "113 ms ± 446 μs per loop (mean ± std. dev. of 7 runs, 1 loop each)\n"
     ]
    }
   ],
   "source": [
    "%%timeit\n",
    "\n",
    "\n",
    "def make_calculations(df) -> list[float]:\n",
    "    result_values = []\n",
    "    for i in range(0, len(df)):\n",
    "        result_values.append(df.iloc[i, 2] / df.iloc[i, 1] * df.iloc[i, 5])\n",
    "    return result_values\n",
    "\n",
    "\n",
    "df[\"Calculations\"] = make_calculations(df)"
   ]
  },
  {
   "cell_type": "markdown",
   "metadata": {},
   "source": [
    "  * do it using iterrows()"
   ]
  },
  {
   "cell_type": "code",
   "execution_count": 17,
   "metadata": {},
   "outputs": [
    {
     "name": "stdout",
     "output_type": "stream",
     "text": [
      "95.4 ms ± 1.49 ms per loop (mean ± std. dev. of 7 runs, 10 loops each)\n"
     ]
    }
   ],
   "source": [
    "%%timeit\n",
    "\n",
    "\n",
    "def make_calculations(df) -> list[float]:\n",
    "    result_values = []\n",
    "    for index, row in df.iterrows():\n",
    "        result_values.append(row[\"Fines\"] / row[\"Refund\"] * row[\"Year\"])\n",
    "    return result_values\n",
    "\n",
    "\n",
    "df[\"Calculations\"] = make_calculations(df)"
   ]
  },
  {
   "cell_type": "markdown",
   "metadata": {},
   "source": [
    "  * do it using apply() and lambda function"
   ]
  },
  {
   "cell_type": "code",
   "execution_count": 18,
   "metadata": {},
   "outputs": [
    {
     "name": "stdout",
     "output_type": "stream",
     "text": [
      "16.8 ms ± 2.36 ms per loop (mean ± std. dev. of 7 runs, 100 loops each)\n"
     ]
    }
   ],
   "source": [
    "%%timeit\n",
    "\n",
    "df[\"Calculations\"] = df.apply(\n",
    "    lambda row: row[\"Fines\"] / row[\"Refund\"] * row[\"Year\"], axis=1\n",
    ")"
   ]
  },
  {
   "cell_type": "markdown",
   "metadata": {},
   "source": [
    "  * do it using Series objects from the dataframe"
   ]
  },
  {
   "cell_type": "code",
   "execution_count": 19,
   "metadata": {},
   "outputs": [
    {
     "name": "stdout",
     "output_type": "stream",
     "text": [
      "219 μs ± 4.05 μs per loop (mean ± std. dev. of 7 runs, 1,000 loops each)\n"
     ]
    }
   ],
   "source": [
    "%%timeit\n",
    "\n",
    "df[\"Calculations\"] = df[\"Fines\"] / df[\"Refund\"] * df[\"Year\"]"
   ]
  },
  {
   "cell_type": "markdown",
   "metadata": {},
   "source": [
    "  * do it as in the previous subtask but with the method .values"
   ]
  },
  {
   "cell_type": "code",
   "execution_count": 20,
   "metadata": {},
   "outputs": [
    {
     "name": "stdout",
     "output_type": "stream",
     "text": [
      "108 μs ± 729 ns per loop (mean ± std. dev. of 7 runs, 10,000 loops each)\n"
     ]
    }
   ],
   "source": [
    "%%timeit\n",
    "\n",
    "df[\"Calculations\"] = df[\"Fines\"].values / df[\"Refund\"].values * df[\"Year\"].values"
   ]
  },
  {
   "cell_type": "code",
   "execution_count": 21,
   "metadata": {},
   "outputs": [
    {
     "data": {
      "text/html": [
       "<div>\n",
       "<style scoped>\n",
       "    .dataframe tbody tr th:only-of-type {\n",
       "        vertical-align: middle;\n",
       "    }\n",
       "\n",
       "    .dataframe tbody tr th {\n",
       "        vertical-align: top;\n",
       "    }\n",
       "\n",
       "    .dataframe thead th {\n",
       "        text-align: right;\n",
       "    }\n",
       "</style>\n",
       "<table border=\"1\" class=\"dataframe\">\n",
       "  <thead>\n",
       "    <tr style=\"text-align: right;\">\n",
       "      <th></th>\n",
       "      <th>CarNumber</th>\n",
       "      <th>Refund</th>\n",
       "      <th>Fines</th>\n",
       "      <th>Make</th>\n",
       "      <th>Model</th>\n",
       "      <th>Year</th>\n",
       "      <th>Calculations</th>\n",
       "    </tr>\n",
       "  </thead>\n",
       "  <tbody>\n",
       "    <tr>\n",
       "      <th>0</th>\n",
       "      <td>Y163O8161RUS</td>\n",
       "      <td>2</td>\n",
       "      <td>3200.00</td>\n",
       "      <td>Ford</td>\n",
       "      <td>Focus</td>\n",
       "      <td>2009</td>\n",
       "      <td>3214400.00</td>\n",
       "    </tr>\n",
       "    <tr>\n",
       "      <th>1</th>\n",
       "      <td>E432XX77RUS</td>\n",
       "      <td>1</td>\n",
       "      <td>6500.00</td>\n",
       "      <td>Toyota</td>\n",
       "      <td>Camry</td>\n",
       "      <td>2010</td>\n",
       "      <td>13065000.00</td>\n",
       "    </tr>\n",
       "    <tr>\n",
       "      <th>2</th>\n",
       "      <td>7184TT36RUS</td>\n",
       "      <td>1</td>\n",
       "      <td>2100.00</td>\n",
       "      <td>Ford</td>\n",
       "      <td>Focus</td>\n",
       "      <td>1990</td>\n",
       "      <td>4179000.00</td>\n",
       "    </tr>\n",
       "    <tr>\n",
       "      <th>3</th>\n",
       "      <td>X582HE161RUS</td>\n",
       "      <td>2</td>\n",
       "      <td>2000.00</td>\n",
       "      <td>Ford</td>\n",
       "      <td>Focus</td>\n",
       "      <td>2004</td>\n",
       "      <td>2004000.00</td>\n",
       "    </tr>\n",
       "    <tr>\n",
       "      <th>4</th>\n",
       "      <td>92918M178RUS</td>\n",
       "      <td>1</td>\n",
       "      <td>5700.00</td>\n",
       "      <td>Ford</td>\n",
       "      <td>Focus</td>\n",
       "      <td>1990</td>\n",
       "      <td>11343000.00</td>\n",
       "    </tr>\n",
       "    <tr>\n",
       "      <th>...</th>\n",
       "      <td>...</td>\n",
       "      <td>...</td>\n",
       "      <td>...</td>\n",
       "      <td>...</td>\n",
       "      <td>...</td>\n",
       "      <td>...</td>\n",
       "      <td>...</td>\n",
       "    </tr>\n",
       "    <tr>\n",
       "      <th>925</th>\n",
       "      <td>NEW001</td>\n",
       "      <td>1</td>\n",
       "      <td>4373.09</td>\n",
       "      <td>Ford</td>\n",
       "      <td>Fiesta</td>\n",
       "      <td>2012</td>\n",
       "      <td>8798663.16</td>\n",
       "    </tr>\n",
       "    <tr>\n",
       "      <th>926</th>\n",
       "      <td>NEW002</td>\n",
       "      <td>2</td>\n",
       "      <td>3034.48</td>\n",
       "      <td>Toyota</td>\n",
       "      <td>Corolla</td>\n",
       "      <td>2008</td>\n",
       "      <td>3046617.40</td>\n",
       "    </tr>\n",
       "    <tr>\n",
       "      <th>927</th>\n",
       "      <td>NEW003</td>\n",
       "      <td>3</td>\n",
       "      <td>4288.84</td>\n",
       "      <td>Honda</td>\n",
       "      <td>Civic</td>\n",
       "      <td>2012</td>\n",
       "      <td>2876384.17</td>\n",
       "    </tr>\n",
       "    <tr>\n",
       "      <th>928</th>\n",
       "      <td>NEW004</td>\n",
       "      <td>1</td>\n",
       "      <td>4738.31</td>\n",
       "      <td>Chevrolet</td>\n",
       "      <td>Impala</td>\n",
       "      <td>2004</td>\n",
       "      <td>9495572.75</td>\n",
       "    </tr>\n",
       "    <tr>\n",
       "      <th>929</th>\n",
       "      <td>NEW005</td>\n",
       "      <td>4</td>\n",
       "      <td>2635.47</td>\n",
       "      <td>Nissan</td>\n",
       "      <td>Altima</td>\n",
       "      <td>2025</td>\n",
       "      <td>1334206.69</td>\n",
       "    </tr>\n",
       "  </tbody>\n",
       "</table>\n",
       "<p>930 rows × 7 columns</p>\n",
       "</div>"
      ],
      "text/plain": [
       "        CarNumber  Refund   Fines       Make    Model  Year  Calculations\n",
       "0    Y163O8161RUS       2 3200.00       Ford    Focus  2009    3214400.00\n",
       "1     E432XX77RUS       1 6500.00     Toyota    Camry  2010   13065000.00\n",
       "2     7184TT36RUS       1 2100.00       Ford    Focus  1990    4179000.00\n",
       "3    X582HE161RUS       2 2000.00       Ford    Focus  2004    2004000.00\n",
       "4    92918M178RUS       1 5700.00       Ford    Focus  1990   11343000.00\n",
       "..            ...     ...     ...        ...      ...   ...           ...\n",
       "925        NEW001       1 4373.09       Ford   Fiesta  2012    8798663.16\n",
       "926        NEW002       2 3034.48     Toyota  Corolla  2008    3046617.40\n",
       "927        NEW003       3 4288.84      Honda    Civic  2012    2876384.17\n",
       "928        NEW004       1 4738.31  Chevrolet   Impala  2004    9495572.75\n",
       "929        NEW005       4 2635.47     Nissan   Altima  2025    1334206.69\n",
       "\n",
       "[930 rows x 7 columns]"
      ]
     },
     "metadata": {},
     "output_type": "display_data"
    }
   ],
   "source": [
    "display(df)"
   ]
  },
  {
   "cell_type": "markdown",
   "metadata": {},
   "source": [
    "* indexing: measure the time using the magic command %%timeit in the cell\n",
    "  * get a row for a specific CarNumber, for example, ’O136HO197RUS’\n",
    "  * set the index in your dataframe with CarNumber\n",
    "  * again, get a row for the same CarNumber"
   ]
  },
  {
   "cell_type": "code",
   "execution_count": 22,
   "metadata": {},
   "outputs": [
    {
     "name": "stdout",
     "output_type": "stream",
     "text": [
      "332 μs ± 1.71 μs per loop (mean ± std. dev. of 7 runs, 1,000 loops each)\n"
     ]
    }
   ],
   "source": [
    "%%timeit\n",
    "\n",
    "searched_row_wthout_index = df[df[\"CarNumber\"] == \"O136HO197RUS\"]"
   ]
  },
  {
   "cell_type": "code",
   "execution_count": 23,
   "metadata": {},
   "outputs": [
    {
     "data": {
      "text/html": [
       "<div>\n",
       "<style scoped>\n",
       "    .dataframe tbody tr th:only-of-type {\n",
       "        vertical-align: middle;\n",
       "    }\n",
       "\n",
       "    .dataframe tbody tr th {\n",
       "        vertical-align: top;\n",
       "    }\n",
       "\n",
       "    .dataframe thead th {\n",
       "        text-align: right;\n",
       "    }\n",
       "</style>\n",
       "<table border=\"1\" class=\"dataframe\">\n",
       "  <thead>\n",
       "    <tr style=\"text-align: right;\">\n",
       "      <th></th>\n",
       "      <th>Refund</th>\n",
       "      <th>Fines</th>\n",
       "      <th>Make</th>\n",
       "      <th>Model</th>\n",
       "      <th>Year</th>\n",
       "      <th>Calculations</th>\n",
       "    </tr>\n",
       "    <tr>\n",
       "      <th>CarNumber</th>\n",
       "      <th></th>\n",
       "      <th></th>\n",
       "      <th></th>\n",
       "      <th></th>\n",
       "      <th></th>\n",
       "      <th></th>\n",
       "    </tr>\n",
       "  </thead>\n",
       "  <tbody>\n",
       "    <tr>\n",
       "      <th>Y163O8161RUS</th>\n",
       "      <td>2</td>\n",
       "      <td>3200.00</td>\n",
       "      <td>Ford</td>\n",
       "      <td>Focus</td>\n",
       "      <td>2009</td>\n",
       "      <td>3214400.00</td>\n",
       "    </tr>\n",
       "    <tr>\n",
       "      <th>E432XX77RUS</th>\n",
       "      <td>1</td>\n",
       "      <td>6500.00</td>\n",
       "      <td>Toyota</td>\n",
       "      <td>Camry</td>\n",
       "      <td>2010</td>\n",
       "      <td>13065000.00</td>\n",
       "    </tr>\n",
       "    <tr>\n",
       "      <th>7184TT36RUS</th>\n",
       "      <td>1</td>\n",
       "      <td>2100.00</td>\n",
       "      <td>Ford</td>\n",
       "      <td>Focus</td>\n",
       "      <td>1990</td>\n",
       "      <td>4179000.00</td>\n",
       "    </tr>\n",
       "    <tr>\n",
       "      <th>X582HE161RUS</th>\n",
       "      <td>2</td>\n",
       "      <td>2000.00</td>\n",
       "      <td>Ford</td>\n",
       "      <td>Focus</td>\n",
       "      <td>2004</td>\n",
       "      <td>2004000.00</td>\n",
       "    </tr>\n",
       "    <tr>\n",
       "      <th>92918M178RUS</th>\n",
       "      <td>1</td>\n",
       "      <td>5700.00</td>\n",
       "      <td>Ford</td>\n",
       "      <td>Focus</td>\n",
       "      <td>1990</td>\n",
       "      <td>11343000.00</td>\n",
       "    </tr>\n",
       "    <tr>\n",
       "      <th>...</th>\n",
       "      <td>...</td>\n",
       "      <td>...</td>\n",
       "      <td>...</td>\n",
       "      <td>...</td>\n",
       "      <td>...</td>\n",
       "      <td>...</td>\n",
       "    </tr>\n",
       "    <tr>\n",
       "      <th>NEW001</th>\n",
       "      <td>1</td>\n",
       "      <td>4373.09</td>\n",
       "      <td>Ford</td>\n",
       "      <td>Fiesta</td>\n",
       "      <td>2012</td>\n",
       "      <td>8798663.16</td>\n",
       "    </tr>\n",
       "    <tr>\n",
       "      <th>NEW002</th>\n",
       "      <td>2</td>\n",
       "      <td>3034.48</td>\n",
       "      <td>Toyota</td>\n",
       "      <td>Corolla</td>\n",
       "      <td>2008</td>\n",
       "      <td>3046617.40</td>\n",
       "    </tr>\n",
       "    <tr>\n",
       "      <th>NEW003</th>\n",
       "      <td>3</td>\n",
       "      <td>4288.84</td>\n",
       "      <td>Honda</td>\n",
       "      <td>Civic</td>\n",
       "      <td>2012</td>\n",
       "      <td>2876384.17</td>\n",
       "    </tr>\n",
       "    <tr>\n",
       "      <th>NEW004</th>\n",
       "      <td>1</td>\n",
       "      <td>4738.31</td>\n",
       "      <td>Chevrolet</td>\n",
       "      <td>Impala</td>\n",
       "      <td>2004</td>\n",
       "      <td>9495572.75</td>\n",
       "    </tr>\n",
       "    <tr>\n",
       "      <th>NEW005</th>\n",
       "      <td>4</td>\n",
       "      <td>2635.47</td>\n",
       "      <td>Nissan</td>\n",
       "      <td>Altima</td>\n",
       "      <td>2025</td>\n",
       "      <td>1334206.69</td>\n",
       "    </tr>\n",
       "  </tbody>\n",
       "</table>\n",
       "<p>930 rows × 6 columns</p>\n",
       "</div>"
      ],
      "text/plain": [
       "              Refund   Fines       Make    Model  Year  Calculations\n",
       "CarNumber                                                           \n",
       "Y163O8161RUS       2 3200.00       Ford    Focus  2009    3214400.00\n",
       "E432XX77RUS        1 6500.00     Toyota    Camry  2010   13065000.00\n",
       "7184TT36RUS        1 2100.00       Ford    Focus  1990    4179000.00\n",
       "X582HE161RUS       2 2000.00       Ford    Focus  2004    2004000.00\n",
       "92918M178RUS       1 5700.00       Ford    Focus  1990   11343000.00\n",
       "...              ...     ...        ...      ...   ...           ...\n",
       "NEW001             1 4373.09       Ford   Fiesta  2012    8798663.16\n",
       "NEW002             2 3034.48     Toyota  Corolla  2008    3046617.40\n",
       "NEW003             3 4288.84      Honda    Civic  2012    2876384.17\n",
       "NEW004             1 4738.31  Chevrolet   Impala  2004    9495572.75\n",
       "NEW005             4 2635.47     Nissan   Altima  2025    1334206.69\n",
       "\n",
       "[930 rows x 6 columns]"
      ]
     },
     "metadata": {},
     "output_type": "display_data"
    }
   ],
   "source": [
    "df_indexed = df.set_index(\"CarNumber\")\n",
    "display(df_indexed)"
   ]
  },
  {
   "cell_type": "code",
   "execution_count": 24,
   "metadata": {},
   "outputs": [
    {
     "name": "stdout",
     "output_type": "stream",
     "text": [
      "158 μs ± 2.28 μs per loop (mean ± std. dev. of 7 runs, 10,000 loops each)\n"
     ]
    }
   ],
   "source": [
    "%%timeit\n",
    "\n",
    "searched_row_with_index = df_indexed.loc[\n",
    "    \"O136HO197RUS\"\n",
    "]  # search for the index 'O136HO197RUS'"
   ]
  },
  {
   "cell_type": "markdown",
   "metadata": {},
   "source": [
    "* downcasting:\n",
    "  * run df.info(memory_usage=’deep’), pay attention to the Dtype and the memory usage\n",
    "  * make a copy() of your initial dataframe into another dataframe optimized"
   ]
  },
  {
   "cell_type": "code",
   "execution_count": 25,
   "metadata": {},
   "outputs": [
    {
     "name": "stdout",
     "output_type": "stream",
     "text": [
      "<class 'pandas.core.frame.DataFrame'>\n",
      "RangeIndex: 930 entries, 0 to 929\n",
      "Data columns (total 7 columns):\n",
      " #   Column        Non-Null Count  Dtype  \n",
      "---  ------        --------------  -----  \n",
      " 0   CarNumber     930 non-null    object \n",
      " 1   Refund        930 non-null    int64  \n",
      " 2   Fines         930 non-null    float64\n",
      " 3   Make          930 non-null    object \n",
      " 4   Model         919 non-null    object \n",
      " 5   Year          930 non-null    int64  \n",
      " 6   Calculations  930 non-null    float64\n",
      "dtypes: float64(2), int64(2), object(3)\n",
      "memory usage: 182.1 KB\n"
     ]
    }
   ],
   "source": [
    "df.info(memory_usage=\"deep\")"
   ]
  },
  {
   "cell_type": "code",
   "execution_count": 26,
   "metadata": {},
   "outputs": [
    {
     "name": "stdout",
     "output_type": "stream",
     "text": [
      "<class 'pandas.core.frame.DataFrame'>\n",
      "RangeIndex: 930 entries, 0 to 929\n",
      "Data columns (total 7 columns):\n",
      " #   Column        Non-Null Count  Dtype   \n",
      "---  ------        --------------  -----   \n",
      " 0   CarNumber     930 non-null    category\n",
      " 1   Refund        930 non-null    int8    \n",
      " 2   Fines         930 non-null    float32 \n",
      " 3   Make          930 non-null    category\n",
      " 4   Model         919 non-null    category\n",
      " 5   Year          930 non-null    int16   \n",
      " 6   Calculations  930 non-null    float32 \n",
      "dtypes: category(3), float32(2), int16(1), int8(1)\n",
      "memory usage: 63.8 KB\n"
     ]
    }
   ],
   "source": [
    "dtype_dict = {\n",
    "    \"CarNumber\": \"category\",\n",
    "    \"Refund\": \"int8\",\n",
    "    \"Fines\": \"float32\",\n",
    "    \"Make\": \"category\",\n",
    "    \"Model\": \"category\",\n",
    "    \"Year\": \"int16\",\n",
    "    \"Calculations\": \"float32\",\n",
    "}\n",
    "\n",
    "optimized_df = df.copy()\n",
    "\n",
    "for column, dtype in dtype_dict.items():\n",
    "    optimized_df[column] = optimized_df[column].astype(dtype)\n",
    "\n",
    "\n",
    "optimized_df.info(memory_usage=\"deep\")"
   ]
  }
 ],
 "metadata": {
  "kernelspec": {
   "display_name": "Python 3 (ipykernel)",
   "language": "python",
   "name": "python3"
  },
  "language_info": {
   "codemirror_mode": {
    "name": "ipython",
    "version": 3
   },
   "file_extension": ".py",
   "mimetype": "text/x-python",
   "name": "python",
   "nbconvert_exporter": "python",
   "pygments_lexer": "ipython3",
   "version": "3.12.3"
  }
 },
 "nbformat": 4,
 "nbformat_minor": 4
}
