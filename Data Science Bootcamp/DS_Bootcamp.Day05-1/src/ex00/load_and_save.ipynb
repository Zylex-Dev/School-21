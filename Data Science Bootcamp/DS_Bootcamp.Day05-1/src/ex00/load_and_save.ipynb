{
 "cells": [
  {
   "cell_type": "markdown",
   "id": "a53b74685c149368",
   "metadata": {},
   "source": [
    "## Exercise 00 : Load and save"
   ]
  },
  {
   "cell_type": "markdown",
   "id": "d9e03975ab8f5ffa",
   "metadata": {},
   "source": [
    "**Import Library**"
   ]
  },
  {
   "cell_type": "code",
   "execution_count": 1,
   "id": "9df1ad0e-a38c-4d96-96e8-8710f60ec866",
   "metadata": {
    "ExecuteTime": {
     "end_time": "2025-03-20T13:32:48.035959Z",
     "start_time": "2025-03-20T13:32:48.027505Z"
    }
   },
   "outputs": [],
   "source": [
    "import pandas as pd\n",
    "\n",
    "file_path = \"../data/feed-views.log\""
   ]
  },
  {
   "cell_type": "markdown",
   "id": "26d555dd408f8c15",
   "metadata": {},
   "source": [
    "**The task is:**\n",
    "\n",
    "- read_csv:\n",
    "    - filter the rows with index 2 and 3 using the argument skiprows, we know that these observations were fake\n",
    "    - filter the last 2 rows from the footer using the argument skipfooter, we know that these observations were fake too\n",
    "    - assign the following names to the column: datetime, user\n",
    "    - use datetime as the index column"
   ]
  },
  {
   "cell_type": "code",
   "execution_count": 2,
   "id": "d7386b10734550e5",
   "metadata": {
    "ExecuteTime": {
     "end_time": "2025-03-20T13:32:48.141068Z",
     "start_time": "2025-03-20T13:32:48.090147Z"
    }
   },
   "outputs": [
    {
     "data": {
      "text/html": [
       "<div>\n",
       "<style scoped>\n",
       "    .dataframe tbody tr th:only-of-type {\n",
       "        vertical-align: middle;\n",
       "    }\n",
       "\n",
       "    .dataframe tbody tr th {\n",
       "        vertical-align: top;\n",
       "    }\n",
       "\n",
       "    .dataframe thead th {\n",
       "        text-align: right;\n",
       "    }\n",
       "</style>\n",
       "<table border=\"1\" class=\"dataframe\">\n",
       "  <thead>\n",
       "    <tr style=\"text-align: right;\">\n",
       "      <th></th>\n",
       "      <th>user</th>\n",
       "    </tr>\n",
       "    <tr>\n",
       "      <th>datetime</th>\n",
       "      <th></th>\n",
       "    </tr>\n",
       "  </thead>\n",
       "  <tbody>\n",
       "    <tr>\n",
       "      <th>2020-04-17 12:01:08.463179</th>\n",
       "      <td>artem</td>\n",
       "    </tr>\n",
       "    <tr>\n",
       "      <th>2020-04-17 12:01:23.743946</th>\n",
       "      <td>artem</td>\n",
       "    </tr>\n",
       "    <tr>\n",
       "      <th>2020-04-17 12:35:52.735016</th>\n",
       "      <td>artem</td>\n",
       "    </tr>\n",
       "    <tr>\n",
       "      <th>2020-04-17 12:36:21.401412</th>\n",
       "      <td>oksana</td>\n",
       "    </tr>\n",
       "    <tr>\n",
       "      <th>2020-04-17 12:36:22.023355</th>\n",
       "      <td>oksana</td>\n",
       "    </tr>\n",
       "    <tr>\n",
       "      <th>...</th>\n",
       "      <td>...</td>\n",
       "    </tr>\n",
       "    <tr>\n",
       "      <th>2020-05-21 16:36:40.915488</th>\n",
       "      <td>ekaterina</td>\n",
       "    </tr>\n",
       "    <tr>\n",
       "      <th>2020-05-21 17:49:36.429237</th>\n",
       "      <td>maxim</td>\n",
       "    </tr>\n",
       "    <tr>\n",
       "      <th>2020-05-21 18:45:20.441142</th>\n",
       "      <td>valentina</td>\n",
       "    </tr>\n",
       "    <tr>\n",
       "      <th>2020-05-21 23:03:06.457819</th>\n",
       "      <td>maxim</td>\n",
       "    </tr>\n",
       "    <tr>\n",
       "      <th>2020-05-21 23:23:49.995349</th>\n",
       "      <td>pavel</td>\n",
       "    </tr>\n",
       "  </tbody>\n",
       "</table>\n",
       "<p>1072 rows × 1 columns</p>\n",
       "</div>"
      ],
      "text/plain": [
       "                                 user\n",
       "datetime                             \n",
       "2020-04-17 12:01:08.463179      artem\n",
       "2020-04-17 12:01:23.743946      artem\n",
       "2020-04-17 12:35:52.735016      artem\n",
       "2020-04-17 12:36:21.401412     oksana\n",
       "2020-04-17 12:36:22.023355     oksana\n",
       "...                               ...\n",
       "2020-05-21 16:36:40.915488  ekaterina\n",
       "2020-05-21 17:49:36.429237      maxim\n",
       "2020-05-21 18:45:20.441142  valentina\n",
       "2020-05-21 23:03:06.457819      maxim\n",
       "2020-05-21 23:23:49.995349      pavel\n",
       "\n",
       "[1072 rows x 1 columns]"
      ]
     },
     "metadata": {},
     "output_type": "display_data"
    }
   ],
   "source": [
    "df = pd.read_csv(\n",
    "    file_path,\n",
    "    skiprows=[2, 3],\n",
    "    skipfooter=2,\n",
    "    engine=\"python\",\n",
    "    delimiter=\"\\t\",\n",
    "    header=None,\n",
    ")\n",
    "df.columns = [\"datetime\", \"user\"]\n",
    "df.set_index(\"datetime\", inplace=True)\n",
    "display(df)"
   ]
  },
  {
   "cell_type": "markdown",
   "id": "7bbcf70ae0f2c939",
   "metadata": {},
   "source": [
    "- rename datetime to date_time"
   ]
  },
  {
   "cell_type": "code",
   "execution_count": 3,
   "id": "a14963ab09df5e73",
   "metadata": {
    "ExecuteTime": {
     "end_time": "2025-03-20T13:32:48.322829Z",
     "start_time": "2025-03-20T13:32:48.291977Z"
    }
   },
   "outputs": [
    {
     "data": {
      "text/html": [
       "<div>\n",
       "<style scoped>\n",
       "    .dataframe tbody tr th:only-of-type {\n",
       "        vertical-align: middle;\n",
       "    }\n",
       "\n",
       "    .dataframe tbody tr th {\n",
       "        vertical-align: top;\n",
       "    }\n",
       "\n",
       "    .dataframe thead th {\n",
       "        text-align: right;\n",
       "    }\n",
       "</style>\n",
       "<table border=\"1\" class=\"dataframe\">\n",
       "  <thead>\n",
       "    <tr style=\"text-align: right;\">\n",
       "      <th></th>\n",
       "      <th>user</th>\n",
       "    </tr>\n",
       "    <tr>\n",
       "      <th>date_time</th>\n",
       "      <th></th>\n",
       "    </tr>\n",
       "  </thead>\n",
       "  <tbody>\n",
       "    <tr>\n",
       "      <th>2020-04-17 12:01:08.463179</th>\n",
       "      <td>artem</td>\n",
       "    </tr>\n",
       "    <tr>\n",
       "      <th>2020-04-17 12:01:23.743946</th>\n",
       "      <td>artem</td>\n",
       "    </tr>\n",
       "    <tr>\n",
       "      <th>2020-04-17 12:35:52.735016</th>\n",
       "      <td>artem</td>\n",
       "    </tr>\n",
       "    <tr>\n",
       "      <th>2020-04-17 12:36:21.401412</th>\n",
       "      <td>oksana</td>\n",
       "    </tr>\n",
       "    <tr>\n",
       "      <th>2020-04-17 12:36:22.023355</th>\n",
       "      <td>oksana</td>\n",
       "    </tr>\n",
       "    <tr>\n",
       "      <th>...</th>\n",
       "      <td>...</td>\n",
       "    </tr>\n",
       "    <tr>\n",
       "      <th>2020-05-21 16:36:40.915488</th>\n",
       "      <td>ekaterina</td>\n",
       "    </tr>\n",
       "    <tr>\n",
       "      <th>2020-05-21 17:49:36.429237</th>\n",
       "      <td>maxim</td>\n",
       "    </tr>\n",
       "    <tr>\n",
       "      <th>2020-05-21 18:45:20.441142</th>\n",
       "      <td>valentina</td>\n",
       "    </tr>\n",
       "    <tr>\n",
       "      <th>2020-05-21 23:03:06.457819</th>\n",
       "      <td>maxim</td>\n",
       "    </tr>\n",
       "    <tr>\n",
       "      <th>2020-05-21 23:23:49.995349</th>\n",
       "      <td>pavel</td>\n",
       "    </tr>\n",
       "  </tbody>\n",
       "</table>\n",
       "<p>1072 rows × 1 columns</p>\n",
       "</div>"
      ],
      "text/plain": [
       "                                 user\n",
       "date_time                            \n",
       "2020-04-17 12:01:08.463179      artem\n",
       "2020-04-17 12:01:23.743946      artem\n",
       "2020-04-17 12:35:52.735016      artem\n",
       "2020-04-17 12:36:21.401412     oksana\n",
       "2020-04-17 12:36:22.023355     oksana\n",
       "...                               ...\n",
       "2020-05-21 16:36:40.915488  ekaterina\n",
       "2020-05-21 17:49:36.429237      maxim\n",
       "2020-05-21 18:45:20.441142  valentina\n",
       "2020-05-21 23:03:06.457819      maxim\n",
       "2020-05-21 23:23:49.995349      pavel\n",
       "\n",
       "[1072 rows x 1 columns]"
      ]
     },
     "metadata": {},
     "output_type": "display_data"
    }
   ],
   "source": [
    "df = df.rename_axis(\"date_time\")\n",
    "display(df)"
   ]
  },
  {
   "cell_type": "markdown",
   "id": "8c52dc4bd62f106c",
   "metadata": {},
   "source": [
    "- to_csv:\n",
    "    - use ’;’ as the delimiter\n",
    "    - save it to a file with the name feed-views-semicolon.log"
   ]
  },
  {
   "cell_type": "code",
   "execution_count": 4,
   "id": "1e2843f9337ca01e",
   "metadata": {
    "ExecuteTime": {
     "end_time": "2025-03-20T13:32:48.610754Z",
     "start_time": "2025-03-20T13:32:48.599982Z"
    }
   },
   "outputs": [],
   "source": [
    "export_file_path = \"../data/feed-views-semicolon.log\"\n",
    "df.to_csv(export_file_path, sep=\";\")"
   ]
  }
 ],
 "metadata": {
  "kernelspec": {
   "display_name": "Python 3 (ipykernel)",
   "language": "python",
   "name": "python3"
  },
  "language_info": {
   "codemirror_mode": {
    "name": "ipython",
    "version": 3
   },
   "file_extension": ".py",
   "mimetype": "text/x-python",
   "name": "python",
   "nbconvert_exporter": "python",
   "pygments_lexer": "ipython3",
   "version": "3.12.3"
  }
 },
 "nbformat": 4,
 "nbformat_minor": 5
}
