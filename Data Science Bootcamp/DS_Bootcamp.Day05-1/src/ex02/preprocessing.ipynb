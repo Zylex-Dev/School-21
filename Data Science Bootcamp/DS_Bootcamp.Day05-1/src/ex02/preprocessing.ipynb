{
 "cells": [
  {
   "cell_type": "markdown",
   "id": "6b6b8c40-0eec-4337-917a-5b2f917d7970",
   "metadata": {},
   "source": [
    "## Exercise 02 : Preprocessing"
   ]
  },
  {
   "cell_type": "markdown",
   "id": "c6a584d3-dad7-4b92-903b-7439ad154a3f",
   "metadata": {},
   "source": [
    "Import libraries"
   ]
  },
  {
   "cell_type": "code",
   "execution_count": 1,
   "id": "initial_id",
   "metadata": {
    "ExecuteTime": {
     "end_time": "2025-03-21T15:06:58.603567Z",
     "start_time": "2025-03-21T15:06:58.592052Z"
    }
   },
   "outputs": [],
   "source": [
    "import pandas as pd"
   ]
  },
  {
   "cell_type": "markdown",
   "id": "1036cf96e32a9b2f",
   "metadata": {},
   "source": [
    "* download and read the CSV file and make ID the index column"
   ]
  },
  {
   "cell_type": "code",
   "execution_count": 2,
   "id": "b56258f4b656a5ec",
   "metadata": {
    "ExecuteTime": {
     "end_time": "2025-03-21T15:06:58.711337Z",
     "start_time": "2025-03-21T15:06:58.661706Z"
    }
   },
   "outputs": [
    {
     "data": {
      "text/html": [
       "<div>\n",
       "<style scoped>\n",
       "    .dataframe tbody tr th:only-of-type {\n",
       "        vertical-align: middle;\n",
       "    }\n",
       "\n",
       "    .dataframe tbody tr th {\n",
       "        vertical-align: top;\n",
       "    }\n",
       "\n",
       "    .dataframe thead th {\n",
       "        text-align: right;\n",
       "    }\n",
       "</style>\n",
       "<table border=\"1\" class=\"dataframe\">\n",
       "  <thead>\n",
       "    <tr style=\"text-align: right;\">\n",
       "      <th></th>\n",
       "      <th>CarNumber</th>\n",
       "      <th>Make_n_model</th>\n",
       "      <th>Refund</th>\n",
       "      <th>Fines</th>\n",
       "      <th>History</th>\n",
       "    </tr>\n",
       "    <tr>\n",
       "      <th>ID</th>\n",
       "      <th></th>\n",
       "      <th></th>\n",
       "      <th></th>\n",
       "      <th></th>\n",
       "      <th></th>\n",
       "    </tr>\n",
       "  </thead>\n",
       "  <tbody>\n",
       "    <tr>\n",
       "      <th>0</th>\n",
       "      <td>Y163O8161RUS</td>\n",
       "      <td>Ford Focus</td>\n",
       "      <td>2.0</td>\n",
       "      <td>3200.0</td>\n",
       "      <td>NaN</td>\n",
       "    </tr>\n",
       "    <tr>\n",
       "      <th>1</th>\n",
       "      <td>E432XX77RUS</td>\n",
       "      <td>Toyota Camry</td>\n",
       "      <td>1.0</td>\n",
       "      <td>6500.0</td>\n",
       "      <td>NaN</td>\n",
       "    </tr>\n",
       "    <tr>\n",
       "      <th>2</th>\n",
       "      <td>7184TT36RUS</td>\n",
       "      <td>Ford Focus</td>\n",
       "      <td>1.0</td>\n",
       "      <td>2100.0</td>\n",
       "      <td>NaN</td>\n",
       "    </tr>\n",
       "    <tr>\n",
       "      <th>3</th>\n",
       "      <td>X582HE161RUS</td>\n",
       "      <td>Ford Focus</td>\n",
       "      <td>2.0</td>\n",
       "      <td>2000.0</td>\n",
       "      <td>NaN</td>\n",
       "    </tr>\n",
       "    <tr>\n",
       "      <th>4</th>\n",
       "      <td>E34877152RUS</td>\n",
       "      <td>Ford Focus</td>\n",
       "      <td>2.0</td>\n",
       "      <td>6100.0</td>\n",
       "      <td>NaN</td>\n",
       "    </tr>\n",
       "    <tr>\n",
       "      <th>...</th>\n",
       "      <td>...</td>\n",
       "      <td>...</td>\n",
       "      <td>...</td>\n",
       "      <td>...</td>\n",
       "      <td>...</td>\n",
       "    </tr>\n",
       "    <tr>\n",
       "      <th>926</th>\n",
       "      <td>Y163O8161RUS</td>\n",
       "      <td>Ford Focus</td>\n",
       "      <td>2.0</td>\n",
       "      <td>1600.0</td>\n",
       "      <td>NaN</td>\n",
       "    </tr>\n",
       "    <tr>\n",
       "      <th>927</th>\n",
       "      <td>M0309X197RUS</td>\n",
       "      <td>Ford Focus</td>\n",
       "      <td>1.0</td>\n",
       "      <td>22300.0</td>\n",
       "      <td>NaN</td>\n",
       "    </tr>\n",
       "    <tr>\n",
       "      <th>928</th>\n",
       "      <td>O673E8197RUS</td>\n",
       "      <td>Ford Focus</td>\n",
       "      <td>2.0</td>\n",
       "      <td>600.0</td>\n",
       "      <td>NaN</td>\n",
       "    </tr>\n",
       "    <tr>\n",
       "      <th>929</th>\n",
       "      <td>8610T8154RUS</td>\n",
       "      <td>Ford Focus</td>\n",
       "      <td>1.0</td>\n",
       "      <td>2000.0</td>\n",
       "      <td>NaN</td>\n",
       "    </tr>\n",
       "    <tr>\n",
       "      <th>930</th>\n",
       "      <td>H419XE197RUS</td>\n",
       "      <td>Toyota Corolla</td>\n",
       "      <td>2.0</td>\n",
       "      <td>NaN</td>\n",
       "      <td>2.0</td>\n",
       "    </tr>\n",
       "  </tbody>\n",
       "</table>\n",
       "<p>931 rows × 5 columns</p>\n",
       "</div>"
      ],
      "text/plain": [
       "        CarNumber    Make_n_model  Refund    Fines  History\n",
       "ID                                                         \n",
       "0    Y163O8161RUS      Ford Focus     2.0   3200.0      NaN\n",
       "1     E432XX77RUS    Toyota Camry     1.0   6500.0      NaN\n",
       "2     7184TT36RUS      Ford Focus     1.0   2100.0      NaN\n",
       "3    X582HE161RUS      Ford Focus     2.0   2000.0      NaN\n",
       "4    E34877152RUS      Ford Focus     2.0   6100.0      NaN\n",
       "..            ...             ...     ...      ...      ...\n",
       "926  Y163O8161RUS      Ford Focus     2.0   1600.0      NaN\n",
       "927  M0309X197RUS      Ford Focus     1.0  22300.0      NaN\n",
       "928  O673E8197RUS      Ford Focus     2.0    600.0      NaN\n",
       "929  8610T8154RUS      Ford Focus     1.0   2000.0      NaN\n",
       "930  H419XE197RUS  Toyota Corolla     2.0      NaN      2.0\n",
       "\n",
       "[931 rows x 5 columns]"
      ]
     },
     "metadata": {},
     "output_type": "display_data"
    }
   ],
   "source": [
    "input_file_path = \"../data/auto.csv\"\n",
    "df = pd.read_csv(input_file_path, index_col=\"ID\")\n",
    "display(df)"
   ]
  },
  {
   "cell_type": "markdown",
   "id": "b1e7af4f869b2437",
   "metadata": {},
   "source": [
    "* count the number of observations using the method count()"
   ]
  },
  {
   "cell_type": "code",
   "execution_count": 3,
   "id": "f4f64ced025a76a8",
   "metadata": {
    "ExecuteTime": {
     "end_time": "2025-03-21T15:06:58.787255Z",
     "start_time": "2025-03-21T15:06:58.768622Z"
    }
   },
   "outputs": [
    {
     "data": {
      "text/plain": [
       "CarNumber       931\n",
       "Make_n_model    931\n",
       "Refund          914\n",
       "Fines           869\n",
       "History          82\n",
       "dtype: int64"
      ]
     },
     "execution_count": 3,
     "metadata": {},
     "output_type": "execute_result"
    }
   ],
   "source": [
    "df.count()"
   ]
  },
  {
   "cell_type": "markdown",
   "id": "7ad0cef555d9d71a",
   "metadata": {},
   "source": [
    "* drop the duplicates, taking into account only the following columns: CarNumber, Make_n_model, Fines\n",
    "    * between the two equal observations, you need to choose the last\n",
    "    * check the number of observations again"
   ]
  },
  {
   "cell_type": "code",
   "execution_count": 4,
   "id": "4f87d5e651135bae",
   "metadata": {
    "ExecuteTime": {
     "end_time": "2025-03-21T15:06:58.982857Z",
     "start_time": "2025-03-21T15:06:58.955546Z"
    }
   },
   "outputs": [
    {
     "data": {
      "text/plain": [
       "CarNumber       725\n",
       "Make_n_model    725\n",
       "Refund          713\n",
       "Fines           665\n",
       "History          65\n",
       "dtype: int64"
      ]
     },
     "execution_count": 4,
     "metadata": {},
     "output_type": "execute_result"
    }
   ],
   "source": [
    "df.drop_duplicates(\n",
    "    subset=[\"CarNumber\", \"Make_n_model\", \"Fines\"], keep=\"last\", inplace=True\n",
    ")\n",
    "df.count()"
   ]
  },
  {
   "cell_type": "markdown",
   "id": "951c88fddff6c587",
   "metadata": {},
   "source": [
    "* work with missing values\n",
    "    * check how many values are missing from each column"
   ]
  },
  {
   "cell_type": "code",
   "execution_count": 5,
   "id": "dc74677b-be3d-462b-8840-daa3823987dc",
   "metadata": {
    "ExecuteTime": {
     "end_time": "2025-03-21T15:06:59.198930Z",
     "start_time": "2025-03-21T15:06:59.187711Z"
    }
   },
   "outputs": [
    {
     "data": {
      "text/plain": [
       "CarNumber         0\n",
       "Make_n_model      0\n",
       "Refund           12\n",
       "Fines            60\n",
       "History         660\n",
       "dtype: int64"
      ]
     },
     "execution_count": 5,
     "metadata": {},
     "output_type": "execute_result"
    }
   ],
   "source": [
    "df.isna().sum()"
   ]
  },
  {
   "cell_type": "markdown",
   "id": "94c6004433900a95",
   "metadata": {},
   "source": [
    "* drop all the columns with over 500 missing values using the argument thresh, check how many missing values are in each column"
   ]
  },
  {
   "cell_type": "code",
   "execution_count": 6,
   "id": "91f82db06851f6eb",
   "metadata": {
    "ExecuteTime": {
     "end_time": "2025-03-21T15:06:59.250039Z",
     "start_time": "2025-03-21T15:06:59.238190Z"
    }
   },
   "outputs": [
    {
     "data": {
      "text/plain": [
       "CarNumber        0\n",
       "Make_n_model     0\n",
       "Refund          12\n",
       "Fines           60\n",
       "dtype: int64"
      ]
     },
     "execution_count": 6,
     "metadata": {},
     "output_type": "execute_result"
    }
   ],
   "source": [
    "df_cleaned = df.dropna(axis=\"columns\", thresh=500)\n",
    "df_cleaned.isna().sum()"
   ]
  },
  {
   "cell_type": "markdown",
   "id": "7b4099fd1e7a8038",
   "metadata": {},
   "source": [
    "* replace all the missing values in the Refund column with the previous value in that column for that cell, use the argument method, check how many values are missing from each column"
   ]
  },
  {
   "cell_type": "code",
   "execution_count": 7,
   "id": "81bbdb1e34bd5ec",
   "metadata": {
    "ExecuteTime": {
     "end_time": "2025-03-21T15:06:59.307010Z",
     "start_time": "2025-03-21T15:06:59.297777Z"
    }
   },
   "outputs": [
    {
     "data": {
      "text/plain": [
       "CarNumber        0\n",
       "Make_n_model     0\n",
       "Refund           0\n",
       "Fines           60\n",
       "dtype: int64"
      ]
     },
     "execution_count": 7,
     "metadata": {},
     "output_type": "execute_result"
    }
   ],
   "source": [
    "df_cleaned.loc[:, \"Refund\"] = df_cleaned.loc[:, \"Refund\"].ffill()\n",
    "df_cleaned.isna().sum()"
   ]
  },
  {
   "cell_type": "markdown",
   "id": "6889514e185bf8fa",
   "metadata": {},
   "source": [
    "* replace all the missing values in the Fines column with the mean value of this column (exclude NA/null values when computing the mean value), check how many values are missing from each column"
   ]
  },
  {
   "cell_type": "code",
   "execution_count": 8,
   "id": "2b7a979573b7e185",
   "metadata": {
    "ExecuteTime": {
     "end_time": "2025-03-21T15:06:59.382549Z",
     "start_time": "2025-03-21T15:06:59.363745Z"
    }
   },
   "outputs": [
    {
     "data": {
      "text/plain": [
       "CarNumber       0\n",
       "Make_n_model    0\n",
       "Refund          0\n",
       "Fines           0\n",
       "dtype: int64"
      ]
     },
     "execution_count": 8,
     "metadata": {},
     "output_type": "execute_result"
    }
   ],
   "source": [
    "fines_mean = df_cleaned[\"Fines\"].mean(skipna=True)\n",
    "df_cleaned.loc[:, \"Fines\"] = df_cleaned.loc[:, \"Fines\"].fillna(fines_mean)\n",
    "df_cleaned.isna().sum()"
   ]
  },
  {
   "cell_type": "markdown",
   "id": "6ba492b6-0487-4374-81fe-323c095668a5",
   "metadata": {},
   "source": [
    "* split and parse the make and model\n",
    "    * use the method apply both for splitting and for extracting the values to the new columns Make and Model\n",
    "    * drop the column Make_n_model\n",
    "    * save the dataframe in the JSON file auto.json in the format below:\n",
    "      \n",
    "        ```\n",
    "        [{\"CarNumber\":\"Y163O8161RUS\",\"Refund\":2.0,\"Fines\":3200.0,\"Make\":\"Ford\",\n",
    "        \"Model\":\"Focus\"},\n",
    "        {\"CarNumber\":\"E432XX77RUS\",\"Refund\":1.0,\"Fines\":6500.0,\"Make\":\"Toyota\",\n",
    "        \"Model\":\"Camry\"}]\n",
    "        ```"
   ]
  },
  {
   "cell_type": "code",
   "execution_count": 9,
   "id": "38e339a9-251d-4a95-b862-2c3127c4b175",
   "metadata": {
    "ExecuteTime": {
     "end_time": "2025-03-21T15:06:59.631789Z",
     "start_time": "2025-03-21T15:06:59.441831Z"
    }
   },
   "outputs": [],
   "source": [
    "df_cleaned[[\"Make\", \"Model\"]] = df_cleaned[\"Make_n_model\"].apply(\n",
    "    func=lambda x: pd.Series(str(x).split(\" \"))\n",
    ")\n",
    "df_cleaned.drop(columns=[\"Make_n_model\"], inplace=True)\n",
    "df_cleaned.to_json(\n",
    "    path_or_buf=\"../data/auto.json\",\n",
    "    orient=\"records\",\n",
    "    indent=4,\n",
    "    # double_precision=1\n",
    ")"
   ]
  }
 ],
 "metadata": {
  "kernelspec": {
   "display_name": "Python 3 (ipykernel)",
   "language": "python",
   "name": "python3"
  },
  "language_info": {
   "codemirror_mode": {
    "name": "ipython",
    "version": 3
   },
   "file_extension": ".py",
   "mimetype": "text/x-python",
   "name": "python",
   "nbconvert_exporter": "python",
   "pygments_lexer": "ipython3",
   "version": "3.12.3"
  }
 },
 "nbformat": 4,
 "nbformat_minor": 5
}
