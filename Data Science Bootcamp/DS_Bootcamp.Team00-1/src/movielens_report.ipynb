{
 "cells": [
  {
   "cell_type": "markdown",
   "metadata": {},
   "source": [
    "Вы когда-нибудь задумывались, какие фильмы становятся хитами, а какие проваливаются в прокате? Давайте посмотрим, что скрывает датасет MovieLens, и попробуем разобраться\n",
    "\n"
   ]
  },
  {
   "cell_type": "markdown",
   "metadata": {},
   "source": [
    "## Импорт классов:"
   ]
  },
  {
   "cell_type": "code",
   "execution_count": 28,
   "metadata": {},
   "outputs": [],
   "source": [
    "from movielens_analysis import *\n",
    "# Создаем объекты для работы с данными\n",
    "movies = Movies(\"../datasets/movies.csv\", limit = 1000)\n",
    "tags = Tags(\"../datasets/tags.csv\", 1000)\n",
    "links = Links(\"../datasets/links.csv\", 1000, \"classes/temp_data_from_imdb.csv\")\n",
    "ratings = Ratings(\"../datasets/ratings.csv\", \"../datasets/movies.csv\", limit = 1000)\n",
    "ratings_usr=Ratings.Users(ratings)\n",
    "ratings_mov=Ratings.Movies(ratings)"
   ]
  },
  {
   "cell_type": "markdown",
   "metadata": {},
   "source": [
    "%timeit "
   ]
  },
  {
   "cell_type": "code",
   "execution_count": null,
   "metadata": {},
   "outputs": [
    {
     "name": "stdout",
     "output_type": "stream",
     "text": [
      "2.97 ms ± 49.6 μs per loop (mean ± std. dev. of 7 runs, 100 loops each)\n",
      "875 μs ± 12 μs per loop (mean ± std. dev. of 7 runs, 1,000 loops each)\n",
      "153 ms ± 847 μs per loop (mean ± std. dev. of 7 runs, 10 loops each)\n",
      "4.19 ms ± 97.7 μs per loop (mean ± std. dev. of 7 runs, 100 loops each)\n",
      "141 ns ± 0.858 ns per loop (mean ± std. dev. of 7 runs, 10,000,000 loops each)\n",
      "140 ns ± 1.37 ns per loop (mean ± std. dev. of 7 runs, 10,000,000 loops each)\n"
     ]
    }
   ],
   "source": [
    "%timeit Movies(\"../datasets/movies.csv\", limit = 1000)\n",
    "%timeit Tags(\"../datasets/tags.csv\", 1000)\n",
    "%timeit Links(\"../datasets/links.csv\", 1000, \"classes/temp_data_from_imdb.csv\")\n",
    "%timeit Ratings(\"../datasets/ratings.csv\", \"../datasets/movies.csv\", limit = 1000)\n",
    "%timeit Ratings.Users(ratings)\n",
    "%timeit Ratings.Movies(ratings)"
   ]
  },
  {
   "cell_type": "markdown",
   "metadata": {},
   "source": [
    "## Какие годы были золотыми для кино?"
   ]
  },
  {
   "cell_type": "code",
   "execution_count": 30,
   "metadata": {},
   "outputs": [
    {
     "name": "stdout",
     "output_type": "stream",
     "text": [
      "1.15 ms ± 33.9 μs per loop (mean ± std. dev. of 7 runs, 1,000 loops each)\n",
      "Распределение фильмов по годам:\n",
      "1995: 224 фильмов\n",
      "1994: 184 фильмов\n",
      "1996: 181 фильмов\n",
      "1993: 101 фильмов\n",
      "1992: 23 фильмов\n",
      "1990: 15 фильмов\n",
      "1991: 15 фильмов\n",
      "1989: 14 фильмов\n",
      "1986: 9 фильмов\n",
      "1982: 8 фильмов\n"
     ]
    }
   ],
   "source": [
    "\n",
    "distribution_by_release = movies.dist_by_release()\n",
    "%timeit movies.dist_by_release()\n",
    "\n",
    "print(\"Распределение фильмов по годам:\")\n",
    "for i, (year, count) in enumerate(distribution_by_release.items()):\n",
    "    if i==10:\n",
    "        break\n",
    "    print(f\"{year}: {count} фильмов\")"
   ]
  },
  {
   "cell_type": "markdown",
   "metadata": {},
   "source": [
    "1995 год стал рекордсменом по количеству выпущенных фильмов. В этом году было снято целых 224 фильма! За ним следуют 1994 и 1996 годы. Возможно, это связано с развитием технологий или ростом киноиндустрии и интересу к кино. А вот в 1940-х и 1950-х годах фильмов было значительно меньше. Может быть, это связано с войной или ограниченными ресурсами..."
   ]
  },
  {
   "cell_type": "markdown",
   "metadata": {},
   "source": [
    "Теперь посмотрим, как распределены рейтинги по годам. Это может помочь понять, в какие годы зрители были наиболее активны в оценке фильмов."
   ]
  },
  {
   "cell_type": "code",
   "execution_count": 31,
   "metadata": {},
   "outputs": [
    {
     "name": "stdout",
     "output_type": "stream",
     "text": [
      "630 μs ± 4.31 μs per loop (mean ± std. dev. of 7 runs, 1,000 loops each)\n",
      "Распределение рейтингов по годам:\n",
      "1996 год: 358 рейтингов\n",
      "1999 год: 82 рейтингов\n",
      "2000 год: 296 рейтингов\n",
      "2001 год: 70 рейтингов\n",
      "2005 год: 121 рейтингов\n",
      "2006 год: 4 рейтингов\n",
      "2007 год: 1 рейтингов\n",
      "2011 год: 39 рейтингов\n",
      "2015 год: 29 рейтингов\n"
     ]
    }
   ],
   "source": [
    "distribution_by_year = ratings_mov.dist_by_year()\n",
    "%timeit ratings_mov.dist_by_year()\n",
    "\n",
    "\n",
    "print(\"Распределение рейтингов по годам:\")\n",
    "for year, count in distribution_by_year.items():\n",
    "    print(f\"{year} год: {count} рейтингов\")"
   ]
  },
  {
   "cell_type": "markdown",
   "metadata": {},
   "source": [
    "## Какие жанры правят миром кино?"
   ]
  },
  {
   "cell_type": "code",
   "execution_count": 32,
   "metadata": {},
   "outputs": [
    {
     "name": "stdout",
     "output_type": "stream",
     "text": [
      "370 μs ± 2.02 μs per loop (mean ± std. dev. of 7 runs, 1,000 loops each)\n",
      "Распределение фильмов по жанрам:\n",
      "Жанр Drama: 507 фильмов\n",
      "Жанр Comedy: 365 фильмов\n",
      "Жанр Romance: 208 фильмов\n",
      "Жанр Thriller: 179 фильмов\n",
      "Жанр Action: 158 фильмов\n",
      "Жанр Adventure: 126 фильмов\n",
      "Жанр Crime: 122 фильмов\n",
      "Жанр Children: 100 фильмов\n",
      "Жанр Fantasy: 69 фильмов\n",
      "Жанр Sci-Fi: 69 фильмов\n",
      "Жанр Mystery: 58 фильмов\n",
      "Жанр Musical: 53 фильмов\n",
      "Жанр Horror: 51 фильмов\n",
      "Жанр War: 48 фильмов\n",
      "Жанр Animation: 37 фильмов\n",
      "Жанр Documentary: 25 фильмов\n",
      "Жанр Western: 23 фильмов\n",
      "Жанр Film-Noir: 18 фильмов\n",
      "Жанр IMAX: 3 фильмов\n"
     ]
    }
   ],
   "source": [
    "distribution_by_genres = movies.dist_by_genres()\n",
    "%timeit movies.dist_by_genres()\n",
    "\n",
    "# Выводим результат\n",
    "print(\"Распределение фильмов по жанрам:\")\n",
    "for genre, count in distribution_by_genres.items():\n",
    "    print(f\"Жанр {genre}: {count} фильмов\")\n"
   ]
  },
  {
   "cell_type": "markdown",
   "metadata": {},
   "source": [
    "Драма — безусловный лидер с 507 фильмами. Зрители любят эмоциональные истории, комедии и романтические фильмы тоже в топе. А вот IMAX последний в топе, наверное потому что технология только зарождалась в то время, и она не пользовалась такой популярностью среди киноделов "
   ]
  },
  {
   "cell_type": "markdown",
   "metadata": {},
   "source": [
    "Посмотрим на среднюю оценку по жанрам"
   ]
  },
  {
   "cell_type": "code",
   "execution_count": 33,
   "metadata": {},
   "outputs": [
    {
     "name": "stdout",
     "output_type": "stream",
     "text": [
      "147 μs ± 1.27 μs per loop (mean ± std. dev. of 7 runs, 10,000 loops each)\n",
      "Топ жанров по средней оценке:\n",
      "Жанр 'Musical' имеет среднюю оценку: 4.3\n",
      "Жанр 'Animation' имеет среднюю оценку: 4.12\n",
      "Жанр 'Documentary' имеет среднюю оценку: 4.0\n",
      "Жанр 'IMAX' имеет среднюю оценку: 4.0\n",
      "Жанр 'Adventure' имеет среднюю оценку: 3.97\n",
      "Жанр 'Mystery' имеет среднюю оценку: 3.95\n",
      "Жанр 'Children' имеет среднюю оценку: 3.88\n",
      "Жанр 'Fantasy' имеет среднюю оценку: 3.87\n",
      "Жанр 'Sci-Fi' имеет среднюю оценку: 3.86\n",
      "Жанр 'Action' имеет среднюю оценку: 3.78\n",
      "Жанр 'Western' имеет среднюю оценку: 3.77\n",
      "Жанр 'Thriller' имеет среднюю оценку: 3.7\n",
      "Жанр 'Crime' имеет среднюю оценку: 3.65\n",
      "Жанр 'Romance' имеет среднюю оценку: 3.61\n",
      "Жанр 'Drama' имеет среднюю оценку: 3.6\n",
      "Жанр 'Comedy' имеет среднюю оценку: 3.54\n",
      "Жанр 'Film-Noir' имеет среднюю оценку: 3.5\n",
      "Жанр 'War' имеет среднюю оценку: 3.46\n",
      "Жанр 'Horror' имеет среднюю оценку: 3.45\n"
     ]
    }
   ],
   "source": [
    "avaerage_distribution_by_genres = ratings_mov.dist_by_genre()\n",
    "%timeit ratings_mov.dist_by_genre()\n",
    "print(\"Топ жанров по средней оценке:\")\n",
    "for genre, variance in avaerage_distribution_by_genres.items():\n",
    "    print(f\"Жанр '{genre}' имеет среднюю оценку: {variance}\")"
   ]
  },
  {
   "cell_type": "markdown",
   "metadata": {},
   "source": [
    "Теперь посмотрим, как распределены оценки. Это может помочь понять, какие оценки чаще всего ставят зрители."
   ]
  },
  {
   "cell_type": "code",
   "execution_count": 34,
   "metadata": {},
   "outputs": [
    {
     "name": "stdout",
     "output_type": "stream",
     "text": [
      "174 μs ± 1.81 μs per loop (mean ± std. dev. of 7 runs, 10,000 loops each)\n",
      "Распределение рейтингов по оценкам:\n",
      "Оценка 0.5: 24 раз\n",
      "Оценка 1.0: 39 раз\n",
      "Оценка 1.5: 11 раз\n",
      "Оценка 2.0: 57 раз\n",
      "Оценка 2.5: 7 раз\n",
      "Оценка 3.0: 253 раз\n",
      "Оценка 3.5: 17 раз\n",
      "Оценка 4.0: 292 раз\n",
      "Оценка 4.5: 33 раз\n",
      "Оценка 5.0: 267 раз\n"
     ]
    }
   ],
   "source": [
    "distribution_by_rating = ratings_mov.dist_by_rating()\n",
    "%timeit ratings_mov.dist_by_rating()\n",
    "\n",
    "\n",
    "print(\"Распределение рейтингов по оценкам:\")\n",
    "for rating, count in distribution_by_rating.items():\n",
    "    print(f\"Оценка {rating}: {count} раз\")"
   ]
  },
  {
   "cell_type": "markdown",
   "metadata": {},
   "source": [
    "Теперь посмотрим, какие фильмы получили наибольшее количество оценок. Это может помочь понять, какие фильмы наиболее популярны среди зрителей."
   ]
  },
  {
   "cell_type": "code",
   "execution_count": 35,
   "metadata": {},
   "outputs": [
    {
     "name": "stdout",
     "output_type": "stream",
     "text": [
      "337 μs ± 6.38 μs per loop (mean ± std. dev. of 7 runs, 1,000 loops each)\n",
      "Топ фильмов по количеству оценок:\n",
      "Фильм 'Usual Suspects, The (1995)' получил 4 оценок\n",
      "Фильм 'Pulp Fiction (1994)' получил 4 оценок\n",
      "Фильм 'Fugitive, The (1993)' получил 4 оценок\n",
      "Фильм 'Schindler's List (1993)' получил 4 оценок\n",
      "Фильм 'Batman (1989)' получил 4 оценок\n",
      "Фильм 'Silence of the Lambs, The (1991)' получил 4 оценок\n",
      "Фильм 'Fargo (1996)' получил 4 оценок\n",
      "Фильм 'Aladdin (1992)' получил 4 оценок\n",
      "Фильм 'Beauty and the Beast (1991)' получил 4 оценок\n",
      "Фильм 'Toy Story (1995)' получил 3 оценок\n"
     ]
    }
   ],
   "source": [
    "top_movies_by_ratings_count = ratings_mov.top_by_num_of_ratings(10)\n",
    "%timeit ratings_mov.top_by_num_of_ratings(10)\n",
    "\n",
    "print(\"Топ фильмов по количеству оценок:\")\n",
    "for movie, count in top_movies_by_ratings_count.items():\n",
    "    print(f\"Фильм '{movie}' получил {count} оценок\")"
   ]
  },
  {
   "cell_type": "markdown",
   "metadata": {},
   "source": [
    "## Анализ пользователей по оценкам\n"
   ]
  },
  {
   "cell_type": "markdown",
   "metadata": {},
   "source": [
    "Теперь посмотрим, как распределены пользователи по количеству поставленных оценок. Это может помочь понять, насколько активны пользователи в оценке фильмов."
   ]
  },
  {
   "cell_type": "code",
   "execution_count": 36,
   "metadata": {},
   "outputs": [
    {
     "name": "stdout",
     "output_type": "stream",
     "text": [
      "126 μs ± 692 ns per loop (mean ± std. dev. of 7 runs, 10,000 loops each)\n",
      "Распределение пользователей по количеству оценок:\n",
      "Пользователь 1 поставил 232 оценок\n",
      "Пользователь 2 поставил 29 оценок\n",
      "Пользователь 3 поставил 39 оценок\n",
      "Пользователь 4 поставил 216 оценок\n",
      "Пользователь 5 поставил 44 оценок\n",
      "Пользователь 6 поставил 314 оценок\n",
      "Пользователь 7 поставил 126 оценок\n"
     ]
    }
   ],
   "source": [
    "user_ratings_distribution = ratings_usr.dist_by_num_of_user_ratings()\n",
    "%timeit ratings_usr.dist_by_num_of_user_ratings()\n",
    "\n",
    "print(\"Распределение пользователей по количеству оценок:\")\n",
    "for user_id, count in user_ratings_distribution.items():\n",
    "    print(f\"Пользователь {user_id} поставил {count} оценок\")"
   ]
  },
  {
   "cell_type": "markdown",
   "metadata": {},
   "source": [
    "Теперь посмотрим, какие пользователи имеют наибольший разброс в оценках.\n"
   ]
  },
  {
   "cell_type": "code",
   "execution_count": 37,
   "metadata": {},
   "outputs": [
    {
     "name": "stdout",
     "output_type": "stream",
     "text": [
      "146 μs ± 3.4 μs per loop (mean ± std. dev. of 7 runs, 10,000 loops each)\n",
      "Топ пользователей по разбросу оценок:\n",
      "Пользователь 3 имеет разброс оценок 4.26\n",
      "Пользователь 4 имеет разброс оценок 1.72\n",
      "Пользователь 7 имеет разброс оценок 1.65\n",
      "Пользователь 5 имеет разброс оценок 0.96\n",
      "Пользователь 6 имеет разброс оценок 0.72\n",
      "Пользователь 1 имеет разброс оценок 0.64\n",
      "Пользователь 2 имеет разброс оценок 0.63\n"
     ]
    }
   ],
   "source": [
    "top_controversial_users = ratings_usr.top_users_controversial(10)\n",
    "%timeit ratings_usr.top_users_controversial(10)\n",
    "print(\"Топ пользователей по разбросу оценок:\")\n",
    "for user_id, variance in top_controversial_users.items():\n",
    "    print(f\"Пользователь {user_id} имеет разброс оценок {variance}\")"
   ]
  },
  {
   "cell_type": "markdown",
   "metadata": {},
   "source": [
    "Теперь посмотрим, как распределены пользователи по среднему рейтингу. Посмотрим насколько строги или щедры пользователи в своих оценках."
   ]
  },
  {
   "cell_type": "code",
   "execution_count": 38,
   "metadata": {},
   "outputs": [
    {
     "name": "stdout",
     "output_type": "stream",
     "text": [
      "64 μs ± 1.19 μs per loop (mean ± std. dev. of 7 runs, 10,000 loops each)\n",
      "Распределение пользователей по среднему рейтингу:\n",
      "Пользователь 1 имеет средний рейтинг 4.37\n",
      "Пользователь 2 имеет средний рейтинг 3.95\n",
      "Пользователь 3 имеет средний рейтинг 2.44\n",
      "Пользователь 4 имеет средний рейтинг 3.56\n",
      "Пользователь 5 имеет средний рейтинг 3.64\n",
      "Пользователь 6 имеет средний рейтинг 3.49\n",
      "Пользователь 7 имеет средний рейтинг 3.35\n"
     ]
    }
   ],
   "source": [
    "user_avg_ratings_distribution = ratings_usr.dist_by_user_ratings(metric=\"average\")\n",
    "%timeit ratings_usr.dist_by_user_ratings(metric=\"average\")\n",
    "print(\"Распределение пользователей по среднему рейтингу:\")\n",
    "for user_id, avg_rating in user_avg_ratings_distribution.items():\n",
    "    print(f\"Пользователь {user_id} имеет средний рейтинг {avg_rating}\")"
   ]
  },
  {
   "cell_type": "markdown",
   "metadata": {},
   "source": [
    "Теперь посмотрим, как распределены пользователи по медианному рейтингу. Это может помочь понять, насколько стабильны пользователи в своих оценках."
   ]
  },
  {
   "cell_type": "code",
   "execution_count": 39,
   "metadata": {},
   "outputs": [
    {
     "name": "stdout",
     "output_type": "stream",
     "text": [
      "100 μs ± 330 ns per loop (mean ± std. dev. of 7 runs, 10,000 loops each)\n",
      "Распределение пользователей по медианному рейтингу:\n",
      "Пользователь 1 имеет медианный рейтинг 5.0\n",
      "Пользователь 2 имеет медианный рейтинг 4.0\n",
      "Пользователь 3 имеет медианный рейтинг 0.5\n",
      "Пользователь 4 имеет медианный рейтинг 4.0\n",
      "Пользователь 5 имеет медианный рейтинг 4.0\n",
      "Пользователь 6 имеет медианный рейтинг 3.0\n",
      "Пользователь 7 имеет медианный рейтинг 4.0\n"
     ]
    }
   ],
   "source": [
    "user_median_ratings_distribution = ratings_usr.dist_by_user_ratings(metric=\"median\")\n",
    "%timeit ratings_usr.dist_by_user_ratings(metric=\"median\")\n",
    "print(\"Распределение пользователей по медианному рейтингу:\")\n",
    "for user_id, median_rating in user_median_ratings_distribution.items():\n",
    "    print(f\"Пользователь {user_id} имеет медианный рейтинг {median_rating}\")"
   ]
  },
  {
   "cell_type": "markdown",
   "metadata": {},
   "source": [
    "## Фильмы-универсалы: фильмы с наибольшим количеством жанров"
   ]
  },
  {
   "cell_type": "code",
   "execution_count": 40,
   "metadata": {},
   "outputs": [
    {
     "name": "stdout",
     "output_type": "stream",
     "text": [
      "193 μs ± 2.33 μs per loop (mean ± std. dev. of 7 runs, 10,000 loops each)\n",
      "Фильмы с наибольшим количеством жанров:\n",
      "Фильм 'Strange Days (1995)' имеет 6 жанров\n",
      "Фильм 'Lion King, The (1994)' имеет 6 жанров\n",
      "Фильм 'Getaway, The (1994)' имеет 6 жанров\n",
      "Фильм 'Super Mario Bros. (1993)' имеет 6 жанров\n",
      "Фильм 'Beauty and the Beast (1991)' имеет 6 жанров\n",
      "Фильм 'All Dogs Go to Heaven 2 (1996)' имеет 6 жанров\n",
      "Фильм 'Space Jam (1996)' имеет 6 жанров\n",
      "Фильм 'Aladdin and the King of Thieves (1996)' имеет 6 жанров\n",
      "Фильм 'Toy Story (1995)' имеет 5 жанров\n",
      "Фильм 'Money Train (1995)' имеет 5 жанров\n"
     ]
    }
   ],
   "source": [
    "most_genres_movies = movies.most_genres(10)\n",
    "%timeit movies.most_genres(10)\n",
    "print(\"Фильмы с наибольшим количеством жанров:\")\n",
    "for movie, genres_count in most_genres_movies.items():\n",
    "    print(f\"Фильм '{movie}' имеет {genres_count} жанров\")"
   ]
  },
  {
   "cell_type": "markdown",
   "metadata": {},
   "source": [
    "Некоторые фильмы, такие как Strange Days (1995) и Lion King, The (1994), сочетают в себе до 6 жанров! Может быть, именно благодаря своей универсальности они становятся хитами? Или это просто попытка угодить всем и сразу?"
   ]
  },
  {
   "cell_type": "markdown",
   "metadata": {},
   "source": [
    "Посмотрим какие слова чаще всего можно увидеть в названии"
   ]
  },
  {
   "cell_type": "code",
   "execution_count": 41,
   "metadata": {},
   "outputs": [
    {
     "name": "stdout",
     "output_type": "stream",
     "text": [
      "3.84 ms ± 23.4 μs per loop (mean ± std. dev. of 7 runs, 100 loops each)\n",
      "Самые популярные слова в названиях фильмов:\n",
      "Слово 'the' встречается 318 раз\n",
      "Слово 'of' встречается 86 раз\n",
      "Слово 'a' встречается 73 раз\n",
      "Слово 'and' встречается 47 раз\n",
      "Слово 'in' встречается 42 раз\n",
      "Слово 's' встречается 35 раз\n",
      "Слово 'to' встречается 30 раз\n",
      "Слово 'man' встречается 21 раз\n",
      "Слово 'dead' встречается 16 раз\n",
      "Слово 'love' встречается 15 раз\n",
      "Слово 'on' встречается 13 раз\n",
      "Слово 'with' встречается 12 раз\n",
      "Слово 'day' встречается 12 раз\n",
      "Слово 'my' встречается 12 раз\n",
      "Слово 'life' встречается 12 раз\n",
      "Слово 'it' встречается 11 раз\n",
      "Слово 'la' встречается 10 раз\n",
      "Слово 'for' встречается 10 раз\n",
      "Слово 'i' встречается 10 раз\n",
      "Слово 'night' встречается 9 раз\n"
     ]
    }
   ],
   "source": [
    "common_words = movies.most_common_words_in_titles(20)\n",
    "%timeit movies.most_common_words_in_titles(20)\n",
    "print(\"Самые популярные слова в названиях фильмов:\")\n",
    "for word, count in common_words.items():\n",
    "    print(f\"Слово '{word}' встречается {count} раз\")"
   ]
  },
  {
   "cell_type": "markdown",
   "metadata": {},
   "source": [
    "## Что говорят теги?"
   ]
  },
  {
   "cell_type": "code",
   "execution_count": 42,
   "metadata": {},
   "outputs": [
    {
     "name": "stdout",
     "output_type": "stream",
     "text": [
      "177 μs ± 1.81 μs per loop (mean ± std. dev. of 7 runs, 1,000 loops each)\n",
      "Теги с наибольшим количеством слов:\n",
      "Тег 'Something for everyone in this one... saw it without and plan on seeing it with kids!' содержит 16 слов\n",
      "Тег 'the catholic church is the most corrupt organization in history' содержит 10 слов\n",
      "Тег 'Oscar (Best Music - Original Score)' содержит 6 слов\n",
      "Тег 'Everything you want is here' содержит 5 слов\n",
      "Тег 'based on a true story' содержит 5 слов\n",
      "Тег 'heroine in tight suit' содержит 4 слов\n",
      "Тег 'lord of the rings' содержит 4 слов\n",
      "Тег 'Guardians of the Galaxy' содержит 4 слов\n",
      "Тег 'jay and silent bob' содержит 4 слов\n",
      "Тег 'based on a book' содержит 4 слов\n"
     ]
    }
   ],
   "source": [
    "most_words_tags = tags.most_words(10)\n",
    "%timeit tags.most_words(10)\n",
    "print(\"Теги с наибольшим количеством слов:\")\n",
    "for tag, word_count in most_words_tags.items():\n",
    "    print(f\"Тег '{tag}' содержит {word_count} слов\")"
   ]
  },
  {
   "cell_type": "markdown",
   "metadata": {},
   "source": [
    "Самые длинные теги"
   ]
  },
  {
   "cell_type": "code",
   "execution_count": 43,
   "metadata": {},
   "outputs": [
    {
     "name": "stdout",
     "output_type": "stream",
     "text": [
      "126 μs ± 1.71 μs per loop (mean ± std. dev. of 7 runs, 10,000 loops each)\n",
      "Самые длинные теги:\n",
      "Тег 'Something for everyone in this one... saw it without and plan on seeing it with kids!' длиной 85 символов\n",
      "Тег 'the catholic church is the most corrupt organization in history' длиной 63 символов\n",
      "Тег 'audience intelligence underestimated' длиной 36 символов\n",
      "Тег 'Oscar (Best Music - Original Score)' длиной 35 символов\n",
      "Тег 'assassin-in-training (scene)' длиной 28 символов\n",
      "Тег 'Everything you want is here' длиной 27 символов\n",
      "Тег 'Oscar (Best Cinematography)' длиной 27 символов\n",
      "Тег 'political right versus left' длиной 27 символов\n",
      "Тег 'representation of children' длиной 26 символов\n",
      "Тег 'Guardians of the Galaxy' длиной 23 символов\n"
     ]
    }
   ],
   "source": [
    "longest_tags = tags.longest(10)\n",
    "%timeit tags.longest(10)\n",
    "print(\"Самые длинные теги:\")\n",
    "for tag in longest_tags:\n",
    "    print(f\"Тег '{tag}' длиной {len(tag)} символов\")"
   ]
  },
  {
   "cell_type": "markdown",
   "metadata": {},
   "source": [
    "Пересечение самых длинных и наибольших по количеству слов тегов"
   ]
  },
  {
   "cell_type": "code",
   "execution_count": 44,
   "metadata": {},
   "outputs": [
    {
     "name": "stdout",
     "output_type": "stream",
     "text": [
      "479 μs ± 1.48 μs per loop (mean ± std. dev. of 7 runs, 1,000 loops each)\n",
      "Теги, которые одновременно самые длинные и содержат много слов:\n",
      "Тег 'Something for everyone in this one... saw it without and plan on seeing it with kids!'\n",
      "Тег 'the catholic church is the most corrupt organization in history'\n",
      "Тег 'audience intelligence underestimated'\n",
      "Тег 'Oscar (Best Music - Original Score)'\n",
      "Тег 'assassin-in-training (scene)'\n",
      "Тег 'Everything you want is here'\n",
      "Тег 'Oscar (Best Cinematography)'\n",
      "Тег 'political right versus left'\n",
      "Тег 'representation of children'\n",
      "Тег 'Guardians of the Galaxy'\n"
     ]
    }
   ],
   "source": [
    "most_words_and_longest = tags.most_words_and_longest(10)\n",
    "%timeit tags.most_words_and_longest(10)\n",
    "print(\"Теги, которые одновременно самые длинные и содержат много слов:\")\n",
    "for tag in most_words_and_longest:\n",
    "    print(f\"Тег '{tag}'\")"
   ]
  },
  {
   "cell_type": "markdown",
   "metadata": {},
   "source": [
    "Самый длинный тег: \"Something for everyone in this one... saw it without and plan on seeing it with kids!\" (85 символов). Что это за фильм, который подходит и для взрослых, и для детей?"
   ]
  },
  {
   "cell_type": "markdown",
   "metadata": {},
   "source": [
    "Самые популярные теги"
   ]
  },
  {
   "cell_type": "code",
   "execution_count": 45,
   "metadata": {},
   "outputs": [
    {
     "name": "stdout",
     "output_type": "stream",
     "text": [
      "113 μs ± 1.55 μs per loop (mean ± std. dev. of 7 runs, 10,000 loops each)\n",
      "Самые популярные теги:\n",
      "Тег 'funny' упоминается 15 раз\n",
      "Тег 'sci-fi' упоминается 14 раз\n",
      "Тег 'twist ending' упоминается 12 раз\n",
      "Тег 'dark comedy' упоминается 12 раз\n",
      "Тег 'atmospheric' упоминается 10 раз\n",
      "Тег 'superhero' упоминается 10 раз\n",
      "Тег 'comedy' упоминается 10 раз\n",
      "Тег 'action' упоминается 10 раз\n",
      "Тег 'suspense' упоминается 10 раз\n",
      "Тег 'Leonardo DiCaprio' упоминается 9 раз\n"
     ]
    }
   ],
   "source": [
    "popular_tags = tags.most_popular(10)\n",
    "%timeit tags.most_popular(10)\n",
    "\n",
    "\n",
    "print(\"Самые популярные теги:\")\n",
    "for tag, count in popular_tags.items():\n",
    "    print(f\"Тег '{tag}' упоминается {count} раз\")"
   ]
  },
  {
   "cell_type": "markdown",
   "metadata": {},
   "source": [
    "Самые популярные теги — \"funny\" и \"sci-fi\". Почему именно юмор и научная фантастика? Может, это то, что нужно зрителям для побега от реальности?"
   ]
  },
  {
   "cell_type": "code",
   "execution_count": 46,
   "metadata": {},
   "outputs": [
    {
     "name": "stdout",
     "output_type": "stream",
     "text": [
      "664 μs ± 1.39 μs per loop (mean ± std. dev. of 7 runs, 1,000 loops each)\n",
      "Слово'comedy' упоминается 33 раз\n",
      "Слово'dark' упоминается 23 раз\n",
      "Слово'ending' упоминается 21 раз\n",
      "Слово'sci-fi' упоминается 18 раз\n",
      "Слово'funny' упоминается 17 раз\n",
      "Слово'twist' упоминается 16 раз\n",
      "Слово'action' упоминается 15 раз\n",
      "Слово'atmospheric' упоминается 12 раз\n",
      "Слово'book' упоминается 12 раз\n",
      "Слово'will' упоминается 11 раз\n"
     ]
    }
   ],
   "source": [
    "most_common_words_tags = tags.most_common_words(10)\n",
    "%timeit tags.most_common_words(10)\n",
    "\n",
    "for word, count in most_common_words_tags.items():\n",
    "    print(f\"Слово'{word}' упоминается {count} раз\")"
   ]
  },
  {
   "cell_type": "markdown",
   "metadata": {},
   "source": [
    "Посмотрим что-за тэги содержат слово 'dark'"
   ]
  },
  {
   "cell_type": "code",
   "execution_count": 47,
   "metadata": {},
   "outputs": [
    {
     "name": "stdout",
     "output_type": "stream",
     "text": [
      "80.8 μs ± 875 ns per loop (mean ± std. dev. of 7 runs, 10,000 loops each)\n",
      "Теги, содержащие слово 'dark':\n",
      "Тег 'dark'\n",
      "Тег 'dark comedy'\n",
      "Тег 'dark fairy tale'\n",
      "Тег 'dark hero'\n",
      "Тег 'dark humor'\n"
     ]
    }
   ],
   "source": [
    "word = \"dark\"\n",
    "tags_with_word = tags.tags_with(word)\n",
    "%timeit tags.tags_with(word)\n",
    "\n",
    "print(f\"Теги, содержащие слово '{word}':\")\n",
    "for tag in tags_with_word:\n",
    "    print(f\"Тег '{tag}'\")\n"
   ]
  },
  {
   "cell_type": "markdown",
   "metadata": {},
   "source": [
    "Посмотрим в каких фильмах присутсвует тэг 'dark comedy'"
   ]
  },
  {
   "cell_type": "code",
   "execution_count": 48,
   "metadata": {},
   "outputs": [
    {
     "name": "stdout",
     "output_type": "stream",
     "text": [
      "1.02 ms ± 25.2 μs per loop (mean ± std. dev. of 7 runs, 1,000 loops each)\n",
      "Фильмы, содержащие тэг 'dark comedy':\n",
      "Фильмы 'Trainspotting' с id 778\n",
      "Фильмы 'Dr. Strangelove or: How I Learned to Stop Worrying and Love the Bomb' с id 750\n",
      "Фильмы 'Fargo' с id 608\n",
      "Фильмы 'Addams Family Values' с id 410\n",
      "Фильмы 'Natural Born Killers' с id 288\n"
     ]
    }
   ],
   "source": [
    "tag = \"dark comedy\"\n",
    "ids_with_tag = tags.movie_with_tag(tag)\n",
    "movies_with_tag = links.get_imdb(ids_with_tag)\n",
    "%timeit links.get_imdb(ids_with_tag)\n",
    "print(f\"Фильмы, содержащие тэг '{tag}':\")\n",
    "for movie in movies_with_tag:\n",
    "    print(f\"Фильмы '{movie[1]}' с id {movie[0]}\")"
   ]
  },
  {
   "cell_type": "markdown",
   "metadata": {},
   "source": [
    "Посомотрим какие ещё есть тэги у фильма 'Trainspotting'"
   ]
  },
  {
   "cell_type": "code",
   "execution_count": 49,
   "metadata": {},
   "outputs": [
    {
     "name": "stdout",
     "output_type": "stream",
     "text": [
      "16.9 μs ± 168 ns per loop (mean ± std. dev. of 7 runs, 100,000 loops each)\n",
      "Тэги у фильма 'Trainspotting' \n",
      " 'dark comedy'\n",
      " 'based on a book'\n",
      " 'narrated'\n"
     ]
    }
   ],
   "source": [
    "tags_by_movie=tags.tags_by_movie(778)\n",
    "%timeit tags.tags_by_movie(778)\n",
    "print(\"Тэги у фильма 'Trainspotting' \")\n",
    "for tags in tags_by_movie:\n",
    "    print(f\" '{tags}'\")"
   ]
  },
  {
   "cell_type": "markdown",
   "metadata": {},
   "source": [
    "## Анализ ссылок (IMDb)"
   ]
  },
  {
   "cell_type": "markdown",
   "metadata": {},
   "source": [
    "## Самые дорогие фильмы: стоит ли игра свеч?"
   ]
  },
  {
   "cell_type": "markdown",
   "metadata": {},
   "source": [
    "Самые дорогие фильмы"
   ]
  },
  {
   "cell_type": "code",
   "execution_count": 50,
   "metadata": {},
   "outputs": [
    {
     "name": "stdout",
     "output_type": "stream",
     "text": [
      "120 μs ± 1.31 μs per loop (mean ± std. dev. of 7 runs, 10,000 loops each)\n",
      "Самые дорогие фильмы:\n",
      "Фильм 'Waterworld' с бюджетом 175,000,000$\n",
      "Фильм 'True Lies' с бюджетом 115,000,000$\n",
      "Фильм 'Terminator 2: Judgment Day' с бюджетом 102,000,000$\n",
      "Фильм 'Batman Forever' с бюджетом 100,000,000$\n",
      "Фильм 'The Hunchback of Notre Dame' с бюджетом 100,000,000$\n",
      "Фильм 'Eraser' с бюджетом 100,000,000$\n",
      "Фильм 'Cutthroat Island' с бюджетом 98,000,000$\n",
      "Фильм 'Twister' с бюджетом 92,000,000$\n",
      "Фильм 'Die Hard: With a Vengeance' с бюджетом 90,000,000$\n",
      "Фильм 'Judge Dredd' с бюджетом 90,000,000$\n"
     ]
    }
   ],
   "source": [
    "most_expensive_movies = links.most_expensive(10)\n",
    "%timeit links.most_expensive(10)\n",
    "\n",
    "print(\"Самые дорогие фильмы:\")\n",
    "for movie, budget in most_expensive_movies.items():\n",
    "    formatted_budget = \"{:,}\".format(int(budget.strip('$')))\n",
    "    print(f\"Фильм '{movie}' с бюджетом {formatted_budget}$\")"
   ]
  },
  {
   "cell_type": "markdown",
   "metadata": {},
   "source": [
    "\"Waterworld\" — самый дорогой фильм с бюджетом 175 миллионов долларов. Но стал ли он самым успешным?\n"
   ]
  },
  {
   "cell_type": "markdown",
   "metadata": {},
   "source": [
    "Теперь посмотрим, какие фильмы имеют самые высокие средние оценки. Это может помочь понять, какие фильмы наиболее любимы зрителями."
   ]
  },
  {
   "cell_type": "code",
   "execution_count": 51,
   "metadata": {},
   "outputs": [
    {
     "name": "stdout",
     "output_type": "stream",
     "text": [
      "767 μs ± 2.05 μs per loop (mean ± std. dev. of 7 runs, 1,000 loops each)\n",
      "Топ фильмов по среднему рейтингу:\n",
      "Фильм 'Bottle Rocket (1996)' имеет средний рейтинг 5.0\n",
      "Фильм 'Canadian Bacon (1995)' имеет средний рейтинг 5.0\n",
      "Фильм 'Star Wars: Episode IV - A New Hope (1977)' имеет средний рейтинг 5.0\n",
      "Фильм 'James and the Giant Peach (1996)' имеет средний рейтинг 5.0\n",
      "Фильм 'Wizard of Oz, The (1939)' имеет средний рейтинг 5.0\n",
      "Фильм 'Citizen Kane (1941)' имеет средний рейтинг 5.0\n",
      "Фильм 'Adventures of Robin Hood, The (1938)' имеет средний рейтинг 5.0\n",
      "Фильм 'Mr. Smith Goes to Washington (1939)' имеет средний рейтинг 5.0\n",
      "Фильм 'Winnie the Pooh and the Blustery Day (1968)' имеет средний рейтинг 5.0\n",
      "Фильм 'Three Caballeros, The (1945)' имеет средний рейтинг 5.0\n"
     ]
    }
   ],
   "source": [
    "top_movies_by_avg_rating = ratings_mov.top_by_ratings(10, metric=\"average\")\n",
    "%timeit ratings_mov.top_by_ratings(10, metric=\"average\")\n",
    "print(\"Топ фильмов по среднему рейтингу:\")\n",
    "for movie, avg_rating in top_movies_by_avg_rating.items():\n",
    "    print(f\"Фильм '{movie}' имеет средний рейтинг {avg_rating}\")"
   ]
  },
  {
   "cell_type": "markdown",
   "metadata": {},
   "source": [
    "Теперь посмотрим, какие фильмы имеют самые высокие медианные оценки. Узнаем какие фильмы наиболее стабильно получают высокие оценки."
   ]
  },
  {
   "cell_type": "code",
   "execution_count": 52,
   "metadata": {},
   "outputs": [
    {
     "name": "stdout",
     "output_type": "stream",
     "text": [
      "822 μs ± 7.85 μs per loop (mean ± std. dev. of 7 runs, 1,000 loops each)\n",
      "Топ фильмов по медианному рейтингу:\n",
      "Фильм 'Bottle Rocket (1996)' имеет медианный рейтинг 5.0\n",
      "Фильм 'Canadian Bacon (1995)' имеет медианный рейтинг 5.0\n",
      "Фильм 'Star Wars: Episode IV - A New Hope (1977)' имеет медианный рейтинг 5.0\n",
      "Фильм 'Tommy Boy (1995)' имеет медианный рейтинг 5.0\n",
      "Фильм 'Forrest Gump (1994)' имеет медианный рейтинг 5.0\n",
      "Фильм 'Fugitive, The (1993)' имеет медианный рейтинг 5.0\n",
      "Фильм 'Jurassic Park (1993)' имеет медианный рейтинг 5.0\n",
      "Фильм 'Tombstone (1993)' имеет медианный рейтинг 5.0\n",
      "Фильм 'Dances with Wolves (1990)' имеет медианный рейтинг 5.0\n",
      "Фильм 'Pinocchio (1940)' имеет медианный рейтинг 5.0\n"
     ]
    }
   ],
   "source": [
    "top_movies_by_median_rating = ratings_mov.top_by_ratings(10, metric=\"median\")\n",
    "%timeit ratings_mov.top_by_ratings(10, metric=\"median\")\n",
    "print(\"Топ фильмов по медианному рейтингу:\")\n",
    "for movie, median_rating in top_movies_by_median_rating.items():\n",
    "    print(f\"Фильм '{movie}' имеет медианный рейтинг {median_rating}\")"
   ]
  },
  {
   "cell_type": "markdown",
   "metadata": {},
   "source": [
    "Фильмы с самым высоким бюджетом на минуту"
   ]
  },
  {
   "cell_type": "code",
   "execution_count": 53,
   "metadata": {},
   "outputs": [
    {
     "name": "stdout",
     "output_type": "stream",
     "text": [
      "1.27 ms ± 15.3 μs per loop (mean ± std. dev. of 7 runs, 1,000 loops each)\n",
      "Фильм 'Waterworld' с затратами 1,296,296.30$ на минуту\n",
      "Фильм 'The Hunchback of Notre Dame' с затратами 1,098,901.10$ на минуту\n",
      "Фильм 'Judge Dredd' с затратами 937,500.00$ на минуту\n",
      "Фильм 'Space Jam' с затратами 909,090.91$ на минуту\n",
      "Фильм 'Eraser' с затратами 869,565.22$ на минуту\n",
      "Фильм 'Batman Forever' с затратами 826,446.28$ на минуту\n",
      "Фильм 'True Lies' с затратами 815,602.84$ на минуту\n",
      "Фильм 'Twister' с затратами 814,159.29$ на минуту\n",
      "Фильм 'Cutthroat Island' с затратами 790,322.58$ на минуту\n",
      "Фильм 'Terminator 2: Judgment Day' с затратами 744,525.55$ на минуту\n"
     ]
    }
   ],
   "source": [
    "top_cost_per_minute = links.top_cost_per_minute(10)\n",
    "%timeit links.top_cost_per_minute(10)\n",
    "for movie, cost_per_minute in top_cost_per_minute.items():\n",
    "    formatted_cost = \"{:,.2f}\".format(cost_per_minute)\n",
    "    print(f\"Фильм '{movie}' с затратами {formatted_cost}$ на минуту\")"
   ]
  },
  {
   "cell_type": "markdown",
   "metadata": {},
   "source": [
    "Самые прибыльные фильмы"
   ]
  },
  {
   "cell_type": "code",
   "execution_count": 54,
   "metadata": {},
   "outputs": [
    {
     "name": "stdout",
     "output_type": "stream",
     "text": [
      "172 μs ± 1.85 μs per loop (mean ± std. dev. of 7 runs, 10,000 loops each)\n",
      "Самые прибыльные фильмы:\n",
      "Фильм 'Jurassic Park' с прибылью 1,041,379,926\n",
      "Фильм 'The Lion King' с прибылью 934,161,373\n",
      "Фильм 'E.T. the Extra-Terrestrial' с прибылью 786,807,407\n",
      "Фильм 'Star Wars: Episode IV - A New Hope' с прибылью 764,398,507\n",
      "Фильм 'Independence Day (a.k.a. ID4)' с прибылью 742,400,891\n",
      "Фильм 'Forrest Gump' с прибылью 623,226,465\n",
      "Фильм 'Star Wars: Episode V - The Empire Strikes Back' с прибылью 532,016,086\n",
      "Фильм 'Ghost' с прибылью 483,703,557\n",
      "Фильм 'Aladdin' с прибылью 476,050,219\n",
      "Фильм 'Home Alone' с прибылью 458,684,675\n"
     ]
    }
   ],
   "source": [
    "most_profitable_movies = links.most_profitable(10)\n",
    "%timeit links.most_profitable(10)\n",
    "\n",
    "print(\"Самые прибыльные фильмы:\")\n",
    "for movie, profit in most_profitable_movies.items():\n",
    "    formatted_profit = \"{:,}\".format(int(profit.strip('$')))\n",
    "    print(f\"Фильм '{movie}' с прибылью {formatted_profit}\")"
   ]
  },
  {
   "cell_type": "markdown",
   "metadata": {},
   "source": [
    "А вот \"Jurassic Park\" заработал более миллиарда долларов. Почему одни фильмы окупаются, а другие — нет? Может, дело не только в бюджете?"
   ]
  },
  {
   "cell_type": "markdown",
   "metadata": {},
   "source": [
    "Самые длинные фильмы"
   ]
  },
  {
   "cell_type": "code",
   "execution_count": 55,
   "metadata": {},
   "outputs": [
    {
     "name": "stdout",
     "output_type": "stream",
     "text": [
      "2.13 ms ± 41.1 μs per loop (mean ± std. dev. of 7 runs, 100 loops each)\n",
      "Самые длинные фильмы:\n",
      "Фильм 'Gone with the Wind' с продолжительностью 3 hours 58 minutes\n",
      "Фильм 'Once Upon a Time in America' с продолжительностью 3 hours 49 minutes\n",
      "Фильм 'Lawrence of Arabia' с продолжительностью 3 hours 47 minutes\n",
      "Фильм 'Ben-Hur' с продолжительностью 3 hours 32 minutes\n",
      "Фильм 'The Godfather Part II' с продолжительностью 3 hours 22 minutes\n",
      "Фильм 'Giant' с продолжительностью 3 hours 21 minutes\n",
      "Фильм 'Schindler's List' с продолжительностью 3 hours 15 minutes\n",
      "Фильм 'The Right Stuff' с продолжительностью 3 hours 13 minutes\n",
      "Фильм 'Nixon' с продолжительностью 3 hours 12 minutes\n",
      "Фильм 'Wyatt Earp' с продолжительностью 3 hours 11 minutes\n"
     ]
    }
   ],
   "source": [
    "longest_movies = links.longest(10)\n",
    "%timeit links.longest(10)\n",
    "\n",
    "print(\"Самые длинные фильмы:\")\n",
    "for movie, runtime in longest_movies.items():\n",
    "    print(f\"Фильм '{movie}' с продолжительностью {runtime}\")"
   ]
  },
  {
   "cell_type": "markdown",
   "metadata": {},
   "source": [
    "\"Gone with the Wind\" длится почти 4 часа. Кто готов потратить столько времени на один фильм? А может, именно длительность делает его таким запоминающимся?"
   ]
  },
  {
   "cell_type": "markdown",
   "metadata": {},
   "source": [
    "Теперь посмотрим, какие фильмы вызывают наибольшие разногласия среди зрителей. Увидим, какие фильмы наиболее противоречивы."
   ]
  },
  {
   "cell_type": "code",
   "execution_count": 56,
   "metadata": {},
   "outputs": [
    {
     "name": "stdout",
     "output_type": "stream",
     "text": [
      "934 μs ± 4.36 μs per loop (mean ± std. dev. of 7 runs, 1,000 loops each)\n",
      "Топ фильмов по разбросу оценок:\n",
      "Фильм 'My Fair Lady (1964)' имеет разброс оценок 5.06\n",
      "Фильм 'Schindler's List (1993)' имеет разброс оценок 3.42\n",
      "Фильм 'Courage Under Fire (1996)' имеет разброс оценок 3.06\n",
      "Фильм 'Usual Suspects, The (1995)' имеет разброс оценок 2.42\n",
      "Фильм 'Dazed and Confused (1993)' имеет разброс оценок 2.25\n",
      "Фильм 'Circle of Friends (1995)' имеет разброс оценок 2.25\n",
      "Фильм 'Hot Shots! Part Deux (1993)' имеет разброс оценок 2.25\n",
      "Фильм 'Ghost (1990)' имеет разброс оценок 2.25\n",
      "Фильм 'Pulp Fiction (1994)' имеет разброс оценок 2.19\n",
      "Фильм 'Tombstone (1993)' имеет разброс оценок 2.0\n"
     ]
    }
   ],
   "source": [
    "top_controversial_movies = ratings_mov.top_controversial(10)\n",
    "%timeit ratings_mov.top_controversial(10)\n",
    "print(\"Топ фильмов по разбросу оценок:\")\n",
    "for movie, variance in top_controversial_movies.items():\n",
    "    print(f\"Фильм '{movie}' имеет разброс оценок {variance}\")"
   ]
  },
  {
   "cell_type": "markdown",
   "metadata": {},
   "source": [
    "## Кто короли режиссуры?"
   ]
  },
  {
   "cell_type": "markdown",
   "metadata": {},
   "source": [
    "Топ режиссеров по количеству фильмов"
   ]
  },
  {
   "cell_type": "code",
   "execution_count": 57,
   "metadata": {},
   "outputs": [
    {
     "name": "stdout",
     "output_type": "stream",
     "text": [
      "109 μs ± 1.54 μs per loop (mean ± std. dev. of 7 runs, 10,000 loops each)\n",
      "Топ режиссеров по количеству фильмов:\n",
      "Режиссер 'Alfred Hitchcock' снял 11 фильмов\n",
      "Режиссер 'Woody Allen' снял 8 фильмов\n",
      "Режиссер 'Stanley Kubrick' снял 6 фильмов\n",
      "Режиссер 'Frank Capra' снял 6 фильмов\n",
      "Режиссер 'Rob Reiner' снял 5 фильмов\n",
      "Режиссер 'Martin Scorsese' снял 5 фильмов\n",
      "Режиссер 'Tony Scott' снял 5 фильмов\n",
      "Режиссер 'John Carpenter' снял 5 фильмов\n",
      "Режиссер 'James Cameron' снял 5 фильмов\n",
      "Режиссер 'Steven Spielberg' снял 5 фильмов\n"
     ]
    }
   ],
   "source": [
    "top_directors = links.top_directors(10)\n",
    "%timeit links.top_directors(10)\n",
    "\n",
    "print(\"Топ режиссеров по количеству фильмов:\")\n",
    "for director, count in top_directors.items():\n",
    "    print(f\"Режиссер '{director}' снял {count} фильмов\")"
   ]
  },
  {
   "cell_type": "markdown",
   "metadata": {},
   "source": [
    "Альфред Хичкок снял аж 11 фильмов. Но количество не значит качество"
   ]
  },
  {
   "cell_type": "markdown",
   "metadata": {},
   "source": [
    "Топ режиссеров по суммарному сбору фильмов"
   ]
  },
  {
   "cell_type": "code",
   "execution_count": 58,
   "metadata": {},
   "outputs": [
    {
     "name": "stdout",
     "output_type": "stream",
     "text": [
      "288 μs ± 857 ns per loop (mean ± std. dev. of 7 runs, 1,000 loops each)\n",
      "Режиссер 'Steven Spielberg' заработал $3,087,946,355.00 на своих фильмах\n",
      "Режиссер 'James Cameron' заработал $1,196,612,634.00 на своих фильмах\n",
      "Режиссер 'Robert Zemeckis' заработал $1,063,279,772.00 на своих фильмах\n",
      "Режиссер 'Chris Columbus' заработал $1,056,481,100.00 на своих фильмах\n",
      "Режиссер 'Roland Emmerich' заработал $1,013,968,153.00 на своих фильмах\n",
      "Режиссер 'Roger AllersRob Minkoff' заработал $979,161,373.00 на своих фильмах\n",
      "Режиссер 'Jan de Bont' заработал $845,028,760.00 на своих фильмах\n",
      "Режиссер 'Gary TrousdaleKirk Wise' заработал $776,630,149.00 на своих фильмах\n",
      "Режиссер 'George Lucas' заработал $775,398,507.00 на своих фильмах\n",
      "Режиссер 'Ron Howard' заработал $713,154,955.00 на своих фильмах\n"
     ]
    }
   ],
   "source": [
    "top_directors_by_gross = links.top_directors_by_total_gross(10)\n",
    "%timeit links.top_directors_by_total_gross(10)\n",
    "for director, total_gross in top_directors_by_gross.items():\n",
    "    formatted_gross  = \"{:,.2f}\".format(total_gross)\n",
    "    print(f\"Режиссер '{director}' заработал ${formatted_gross} на своих фильмах\")"
   ]
  },
  {
   "cell_type": "markdown",
   "metadata": {},
   "source": [
    "Но прибыль не всегда отвечает за качество"
   ]
  },
  {
   "cell_type": "markdown",
   "metadata": {},
   "source": [
    "Топ режиссеров по среднему рейтингу минимально с одним фильмом"
   ]
  },
  {
   "cell_type": "code",
   "execution_count": 59,
   "metadata": {},
   "outputs": [
    {
     "name": "stdout",
     "output_type": "stream",
     "text": [
      "535 μs ± 6.04 μs per loop (mean ± std. dev. of 7 runs, 1,000 loops each)\n",
      "Режиссер 'Frank Darabont' имеет средний рейтинг 9.30 с количеством фильмов 1\n",
      "Режиссер 'Sidney Lumet' имеет средний рейтинг 9.00 с количеством фильмов 1\n",
      "Режиссер 'Irvin Kershner' имеет средний рейтинг 8.70 с количеством фильмов 1\n",
      "Режиссер 'Robert Zemeckis' имеет средний рейтинг 8.65 с количеством фильмов 2\n",
      "Режиссер 'Quentin Tarantino' имеет средний рейтинг 8.60 с количеством фильмов 2\n",
      "Режиссер 'David Fincher' имеет средний рейтинг 8.60 с количеством фильмов 1\n",
      "Режиссер 'George Lucas' имеет средний рейтинг 8.60 с количеством фильмов 1\n",
      "Режиссер 'Yale Strom' имеет средний рейтинг 8.60 с количеством фильмов 1\n",
      "Режиссер 'Sergio Leone' имеет средний рейтинг 8.53 с количеством фильмов 3\n",
      "Режиссер 'Bryan Singer' имеет средний рейтинг 8.50 с количеством фильмов 1\n"
     ]
    }
   ],
   "source": [
    "top_directors_by_rating = links.top_directors_by_average_rating(10, 1)\n",
    "%timeit links.top_directors_by_average_rating(10, 1)\n",
    "for director, (avg_rating, count_of_movies) in top_directors_by_rating.items():\n",
    "    print(f\"Режиссер '{director}' имеет средний рейтинг {avg_rating:.2f} с количеством фильмов {count_of_movies}\")"
   ]
  },
  {
   "cell_type": "markdown",
   "metadata": {},
   "source": [
    "В топе мало известных режиссёров, и скорее по случайности получили такой рейтинг. Попробуем посмотреть на режисёров с более большой фильмографией"
   ]
  },
  {
   "cell_type": "markdown",
   "metadata": {},
   "source": [
    "Топ режиссеров по среднему рейтингу минимально с пятью фильмами"
   ]
  },
  {
   "cell_type": "code",
   "execution_count": 60,
   "metadata": {},
   "outputs": [
    {
     "name": "stdout",
     "output_type": "stream",
     "text": [
      "454 μs ± 6.89 μs per loop (mean ± std. dev. of 7 runs, 1,000 loops each)\n",
      "Режиссер 'Steven Spielberg' имеет средний рейтинг 8.34 с количеством фильмов 5\n",
      "Режиссер 'Stanley Kubrick' имеет средний рейтинг 8.30 с количеством фильмов 6\n",
      "Режиссер 'Martin Scorsese' имеет средний рейтинг 8.08 с количеством фильмов 5\n",
      "Режиссер 'Frank Capra' имеет средний рейтинг 7.98 с количеством фильмов 6\n",
      "Режиссер 'James Cameron' имеет средний рейтинг 7.98 с количеством фильмов 5\n",
      "Режиссер 'Alfred Hitchcock' имеет средний рейтинг 7.97 с количеством фильмов 11\n",
      "Режиссер 'Billy Wilder' имеет средний рейтинг 7.92 с количеством фильмов 5\n",
      "Режиссер 'Woody Allen' имеет средний рейтинг 7.26 с количеством фильмов 8\n",
      "Режиссер 'Rob Reiner' имеет средний рейтинг 7.06 с количеством фильмов 5\n",
      "Режиссер 'Tony Scott' имеет средний рейтинг 6.86 с количеством фильмов 5\n"
     ]
    }
   ],
   "source": [
    "top_directors_by_rating = links.top_directors_by_average_rating(10, 5)\n",
    "%timeit links.top_directors_by_average_rating(10, 5)\n",
    "for director, (avg_rating, count_of_movies) in top_directors_by_rating.items():\n",
    "    print(f\"Режиссер '{director}' имеет средний рейтинг {avg_rating:.2f} с количеством фильмов {count_of_movies}\")"
   ]
  },
  {
   "cell_type": "markdown",
   "metadata": {},
   "source": [
    "Тут уже намного больше знакомых режиссёров, которых мы даже встречали чуть выше. Значит рейтинг на прямую влияет на прибыль фильма"
   ]
  },
  {
   "cell_type": "markdown",
   "metadata": {},
   "source": [
    "## Какие страны снимают лучшие фильмы?\n"
   ]
  },
  {
   "cell_type": "markdown",
   "metadata": {},
   "source": [
    "Кто снимает больше всего фильмов?"
   ]
  },
  {
   "cell_type": "code",
   "execution_count": 61,
   "metadata": {},
   "outputs": [
    {
     "name": "stdout",
     "output_type": "stream",
     "text": [
      "162 μs ± 3.1 μs per loop (mean ± std. dev. of 7 runs, 10,000 loops each)\n",
      "В стране: 'United States' снято 838 фильмов\n",
      "В стране: 'United Kingdom' снято 164 фильмов\n",
      "В стране: 'France' снято 110 фильмов\n",
      "В стране: 'Canada' снято 41 фильмов\n",
      "В стране: 'Italy' снято 38 фильмов\n",
      "В стране: 'Germany' снято 36 фильмов\n",
      "В стране: 'Japan' снято 32 фильмов\n",
      "В стране: 'Australia' снято 16 фильмов\n",
      "В стране: 'Ireland' снято 13 фильмов\n",
      "В стране: 'Hong Kong' снято 10 фильмов\n"
     ]
    }
   ],
   "source": [
    "top_countries_of_origin = links.movies_by_country(10)\n",
    "%timeit links.movies_by_country(10)\n",
    "for country, number_of_movies in top_countries_of_origin.items():\n",
    "    print(f\"В стране: '{country}' снято {number_of_movies} фильмов\")\n"
   ]
  },
  {
   "cell_type": "markdown",
   "metadata": {},
   "source": [
    "Топ стран по среднему рейтингу c минимальным количеством фильмов 1"
   ]
  },
  {
   "cell_type": "code",
   "execution_count": 62,
   "metadata": {},
   "outputs": [
    {
     "name": "stdout",
     "output_type": "stream",
     "text": [
      "339 μs ± 2.74 μs per loop (mean ± std. dev. of 7 runs, 1,000 loops each)\n",
      "Страна 'India' имеет средний рейтинг 8.20 с количеством фильмов 3\n",
      "Страна 'West Germany' имеет средний рейтинг 7.98 с количеством фильмов 6\n",
      "Страна 'Switzerland' имеет средний рейтинг 7.84 с количеством фильмов 7\n",
      "Страна 'China' имеет средний рейтинг 7.72 с количеством фильмов 5\n",
      "Страна 'Poland' имеет средний рейтинг 7.70 с количеством фильмов 5\n",
      "Страна 'Sweden' имеет средний рейтинг 7.50 с количеством фильмов 3\n",
      "Страна 'Belgium' имеет средний рейтинг 7.29 с количеством фильмов 9\n",
      "Страна 'Italy' имеет средний рейтинг 7.24 с количеством фильмов 38\n",
      "Страна 'Russia' имеет средний рейтинг 7.20 с количеством фильмов 3\n",
      "Страна 'Austria' имеет средний рейтинг 7.17 с количеством фильмов 4\n"
     ]
    }
   ],
   "source": [
    "top_countries_by_rating_1 = links.top_countries_by_average_rating(10, 2)\n",
    "%timeit links.top_countries_by_average_rating(10, 2)\n",
    "for country, (avg_rating, count_of_movies) in top_countries_by_rating_1.items():\n",
    "    print(f\"Страна '{country}' имеет средний рейтинг {avg_rating:.2f} с количеством фильмов {count_of_movies}\")"
   ]
  },
  {
   "cell_type": "markdown",
   "metadata": {},
   "source": [
    "Топ стран по среднему рейтингу c минимальным количеством фильмов 5"
   ]
  },
  {
   "cell_type": "code",
   "execution_count": 63,
   "metadata": {},
   "outputs": [
    {
     "name": "stdout",
     "output_type": "stream",
     "text": [
      "338 μs ± 3.24 μs per loop (mean ± std. dev. of 7 runs, 1,000 loops each)\n",
      "Страна 'West Germany' имеет средний рейтинг 7.98 с количеством фильмов 6\n",
      "Страна 'Switzerland' имеет средний рейтинг 7.84 с количеством фильмов 7\n",
      "Страна 'China' имеет средний рейтинг 7.72 с количеством фильмов 5\n",
      "Страна 'Poland' имеет средний рейтинг 7.70 с количеством фильмов 5\n",
      "Страна 'Belgium' имеет средний рейтинг 7.29 с количеством фильмов 9\n",
      "Страна 'Italy' имеет средний рейтинг 7.24 с количеством фильмов 38\n",
      "Страна 'Hong Kong' имеет средний рейтинг 7.12 с количеством фильмов 10\n",
      "Страна 'Spain' имеет средний рейтинг 7.11 с количеством фильмов 9\n",
      "Страна 'France' имеет средний рейтинг 7.03 с количеством фильмов 110\n",
      "Страна 'New Zealand' имеет средний рейтинг 7.00 с количеством фильмов 7\n"
     ]
    }
   ],
   "source": [
    "top_countries_by_rating_2 = links.top_countries_by_average_rating(10, 5)\n",
    "%timeit links.top_countries_by_average_rating(10, 5)\n",
    "for country, (avg_rating, count_of_movies) in top_countries_by_rating_2.items():\n",
    "    print(f\"Страна '{country}' имеет средний рейтинг {avg_rating:.2f} с количеством фильмов {count_of_movies}\")"
   ]
  }
 ],
 "metadata": {
  "kernelspec": {
   "display_name": "venv",
   "language": "python",
   "name": "python3"
  },
  "language_info": {
   "codemirror_mode": {
    "name": "ipython",
    "version": 3
   },
   "file_extension": ".py",
   "mimetype": "text/x-python",
   "name": "python",
   "nbconvert_exporter": "python",
   "pygments_lexer": "ipython3",
   "version": "3.12.3"
  }
 },
 "nbformat": 4,
 "nbformat_minor": 4
}
